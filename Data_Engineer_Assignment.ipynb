{
  "nbformat": 4,
  "nbformat_minor": 0,
  "metadata": {
    "colab": {
      "provenance": [],
      "collapsed_sections": [],
      "mount_file_id": "1ePJ7c3dh70wiP_PS5G5sciKGVYsLOffT",
      "authorship_tag": "ABX9TyO3yVfekZAo5oUxs1V51jhH",
      "include_colab_link": true
    },
    "kernelspec": {
      "name": "python3",
      "display_name": "Python 3"
    },
    "language_info": {
      "name": "python"
    }
  },
  "cells": [
    {
      "cell_type": "markdown",
      "metadata": {
        "id": "view-in-github",
        "colab_type": "text"
      },
      "source": [
        "<a href=\"https://colab.research.google.com/github/chandrakar-shubham/Be-Zen-Data-Engineer-Assignment/blob/main/Data_Engineer_Assignment.ipynb\" target=\"_parent\"><img src=\"https://colab.research.google.com/assets/colab-badge.svg\" alt=\"Open In Colab\"/></a>"
      ]
    },
    {
      "cell_type": "code",
      "execution_count": null,
      "metadata": {
        "id": "VPFZwqsZVrVM"
      },
      "outputs": [],
      "source": [
        "import pandas as pd\n",
        "import numpy as np"
      ]
    },
    {
      "cell_type": "code",
      "source": [
        "from google.colab import drive\n",
        "drive.mount('/content/drive')"
      ],
      "metadata": {
        "colab": {
          "base_uri": "https://localhost:8080/"
        },
        "id": "Cd8v6gz_0IlV",
        "outputId": "9f66ec44-9db5-4c88-a744-1172f0517ac7"
      },
      "execution_count": null,
      "outputs": [
        {
          "output_type": "stream",
          "name": "stdout",
          "text": [
            "Drive already mounted at /content/drive; to attempt to forcibly remount, call drive.mount(\"/content/drive\", force_remount=True).\n"
          ]
        }
      ]
    },
    {
      "cell_type": "markdown",
      "source": [
        "# Extraction of CSV file from Rar and storing it in Gdrive then import it in dataframe"
      ],
      "metadata": {
        "id": "WXlUF_wD3u7u"
      }
    },
    {
      "cell_type": "code",
      "source": [
        "# path where rar is stored\n",
        "path_rar = '/content/drive/MyDrive/BE ZEN/test.rar'\n",
        "\n",
        "\n",
        "# path where to extract rar\n",
        "path_to_extract = '/content/drive/MyDrive/BE ZEN'\n",
        "\n",
        "\n",
        "#path which contains extracted csv\n",
        "\n",
        "path_csv = '/content/drive/MyDrive/BE ZEN/2022_02_08-02_30_31_AM.csv'"
      ],
      "metadata": {
        "id": "5arKPZuqWX_R"
      },
      "execution_count": null,
      "outputs": []
    },
    {
      "cell_type": "code",
      "source": [
        "pip install unrar"
      ],
      "metadata": {
        "colab": {
          "base_uri": "https://localhost:8080/"
        },
        "id": "SA2Vk30Gaypb",
        "outputId": "fb3b7950-ce2f-4c81-86ed-ee84a36850fd"
      },
      "execution_count": null,
      "outputs": [
        {
          "output_type": "stream",
          "name": "stdout",
          "text": [
            "Looking in indexes: https://pypi.org/simple, https://us-python.pkg.dev/colab-wheels/public/simple/\n",
            "Requirement already satisfied: unrar in /usr/local/lib/python3.7/dist-packages (0.4)\n"
          ]
        }
      ]
    },
    {
      "cell_type": "code",
      "source": [
        "pip install rarfile"
      ],
      "metadata": {
        "colab": {
          "base_uri": "https://localhost:8080/"
        },
        "id": "udYkc5yzZL-s",
        "outputId": "1ec58aed-cc1c-4546-8e6b-b14a4f0add21"
      },
      "execution_count": null,
      "outputs": [
        {
          "output_type": "stream",
          "name": "stdout",
          "text": [
            "Looking in indexes: https://pypi.org/simple, https://us-python.pkg.dev/colab-wheels/public/simple/\n",
            "Requirement already satisfied: rarfile in /usr/local/lib/python3.7/dist-packages (4.0)\n"
          ]
        }
      ]
    },
    {
      "cell_type": "code",
      "source": [
        "import rarfile"
      ],
      "metadata": {
        "id": "Cym2PK-gbhxY"
      },
      "execution_count": null,
      "outputs": []
    },
    {
      "cell_type": "code",
      "source": [
        "rar = rarfile.RarFile(path_rar)\n",
        "#rar.namelist()\n",
        "#rar.printdir()\n",
        "#rar.testrar()\n",
        "#info = rar.infolist()[0]\n",
        "#info.filename\n",
        "#info.file_size\n",
        "#17L\n",
        "#info.date_time\n",
        "rar.extractall(path = path_to_extract )"
      ],
      "metadata": {
        "id": "reBITdDPazGj"
      },
      "execution_count": null,
      "outputs": []
    },
    {
      "cell_type": "code",
      "source": [
        "df = pd.read_csv(path_csv)"
      ],
      "metadata": {
        "id": "t1l3hOWXbexV"
      },
      "execution_count": null,
      "outputs": []
    },
    {
      "cell_type": "code",
      "source": [
        "df.info()"
      ],
      "metadata": {
        "colab": {
          "base_uri": "https://localhost:8080/"
        },
        "id": "BeODB6XWdLcj",
        "outputId": "fae53b20-1994-4fec-c6d5-05be37791cc2"
      },
      "execution_count": null,
      "outputs": [
        {
          "output_type": "stream",
          "name": "stdout",
          "text": [
            "<class 'pandas.core.frame.DataFrame'>\n",
            "RangeIndex: 13730000 entries, 0 to 13729999\n",
            "Data columns (total 6 columns):\n",
            " #   Column            Dtype \n",
            "---  ------            ----- \n",
            " 0   uuid              object\n",
            " 1   price_string      object\n",
            " 2   price_string_unf  object\n",
            " 3   product_type      object\n",
            " 4   level_1           object\n",
            " 5   category          object\n",
            "dtypes: object(6)\n",
            "memory usage: 628.5+ MB\n"
          ]
        }
      ]
    },
    {
      "cell_type": "code",
      "source": [
        "df.head()"
      ],
      "metadata": {
        "colab": {
          "base_uri": "https://localhost:8080/",
          "height": 513
        },
        "id": "-1f07-s0dVut",
        "outputId": "304314b1-8df6-4c4f-9bd9-f1f137ffc192"
      },
      "execution_count": null,
      "outputs": [
        {
          "output_type": "execute_result",
          "data": {
            "text/plain": [
              "                                   uuid price_string price_string_unf  \\\n",
              "0  638744a4-b0ae-4166-8cb6-5c063c862036          NaN              NaN   \n",
              "1  ab313969-02cc-48b2-9daf-0054efb70b92          NaN              NaN   \n",
              "2  acbd66ff-79f8-467a-91f9-108a45af5626       $19.95              NaN   \n",
              "3  963915d6-b2e3-4098-b242-9410593cf205       $92.00              NaN   \n",
              "4  b5b68f3c-b1e0-40e5-8ee5-e2f7236c1daf        11.50              NaN   \n",
              "\n",
              "                                        product_type  \\\n",
              "0                           TGFwdG9wIENvdmVycy9CYWdz   \n",
              "1                        QmFraW5nIEN1cHMgYW5kIE1hdHM   \n",
              "2  R3VtbWllcyB2aXRhbWlucyBhbmQgbWluZXJhbHMgZm9yIG...   \n",
              "3                                           U2VydW1z   \n",
              "4                    RWF0aW5nIFV0ZW5zaWxzL0N1dGxlcnk   \n",
              "\n",
              "                              level_1                          category  \n",
              "0                     TGFwdG9wIENhc2U                   RWxlY3Ryb25pY3M  \n",
              "1  QmFraW5nIE1hdHMgLyBCYWtpbmcgZGlzaA        a2l0Y2hpbmcgYW5kIGRpbmluZw  \n",
              "2              SW1tdW5pdHkgZ3VtbWllcw                          SGVhbHRo  \n",
              "3                      RmFjZSBTZXJ1bQ  YmVhdXR5IGFuZCBwZXJzb25hbCBjYXJl  \n",
              "4                      Q2hvcHN0aWNrcw        a2l0Y2hpbmcgYW5kIGRpbmluZw  "
            ],
            "text/html": [
              "\n",
              "  <div id=\"df-04d46832-5d4e-4156-ac4f-1461d001f5b2\">\n",
              "    <div class=\"colab-df-container\">\n",
              "      <div>\n",
              "<style scoped>\n",
              "    .dataframe tbody tr th:only-of-type {\n",
              "        vertical-align: middle;\n",
              "    }\n",
              "\n",
              "    .dataframe tbody tr th {\n",
              "        vertical-align: top;\n",
              "    }\n",
              "\n",
              "    .dataframe thead th {\n",
              "        text-align: right;\n",
              "    }\n",
              "</style>\n",
              "<table border=\"1\" class=\"dataframe\">\n",
              "  <thead>\n",
              "    <tr style=\"text-align: right;\">\n",
              "      <th></th>\n",
              "      <th>uuid</th>\n",
              "      <th>price_string</th>\n",
              "      <th>price_string_unf</th>\n",
              "      <th>product_type</th>\n",
              "      <th>level_1</th>\n",
              "      <th>category</th>\n",
              "    </tr>\n",
              "  </thead>\n",
              "  <tbody>\n",
              "    <tr>\n",
              "      <th>0</th>\n",
              "      <td>638744a4-b0ae-4166-8cb6-5c063c862036</td>\n",
              "      <td>NaN</td>\n",
              "      <td>NaN</td>\n",
              "      <td>TGFwdG9wIENvdmVycy9CYWdz</td>\n",
              "      <td>TGFwdG9wIENhc2U</td>\n",
              "      <td>RWxlY3Ryb25pY3M</td>\n",
              "    </tr>\n",
              "    <tr>\n",
              "      <th>1</th>\n",
              "      <td>ab313969-02cc-48b2-9daf-0054efb70b92</td>\n",
              "      <td>NaN</td>\n",
              "      <td>NaN</td>\n",
              "      <td>QmFraW5nIEN1cHMgYW5kIE1hdHM</td>\n",
              "      <td>QmFraW5nIE1hdHMgLyBCYWtpbmcgZGlzaA</td>\n",
              "      <td>a2l0Y2hpbmcgYW5kIGRpbmluZw</td>\n",
              "    </tr>\n",
              "    <tr>\n",
              "      <th>2</th>\n",
              "      <td>acbd66ff-79f8-467a-91f9-108a45af5626</td>\n",
              "      <td>$19.95</td>\n",
              "      <td>NaN</td>\n",
              "      <td>R3VtbWllcyB2aXRhbWlucyBhbmQgbWluZXJhbHMgZm9yIG...</td>\n",
              "      <td>SW1tdW5pdHkgZ3VtbWllcw</td>\n",
              "      <td>SGVhbHRo</td>\n",
              "    </tr>\n",
              "    <tr>\n",
              "      <th>3</th>\n",
              "      <td>963915d6-b2e3-4098-b242-9410593cf205</td>\n",
              "      <td>$92.00</td>\n",
              "      <td>NaN</td>\n",
              "      <td>U2VydW1z</td>\n",
              "      <td>RmFjZSBTZXJ1bQ</td>\n",
              "      <td>YmVhdXR5IGFuZCBwZXJzb25hbCBjYXJl</td>\n",
              "    </tr>\n",
              "    <tr>\n",
              "      <th>4</th>\n",
              "      <td>b5b68f3c-b1e0-40e5-8ee5-e2f7236c1daf</td>\n",
              "      <td>11.50</td>\n",
              "      <td>NaN</td>\n",
              "      <td>RWF0aW5nIFV0ZW5zaWxzL0N1dGxlcnk</td>\n",
              "      <td>Q2hvcHN0aWNrcw</td>\n",
              "      <td>a2l0Y2hpbmcgYW5kIGRpbmluZw</td>\n",
              "    </tr>\n",
              "  </tbody>\n",
              "</table>\n",
              "</div>\n",
              "      <button class=\"colab-df-convert\" onclick=\"convertToInteractive('df-04d46832-5d4e-4156-ac4f-1461d001f5b2')\"\n",
              "              title=\"Convert this dataframe to an interactive table.\"\n",
              "              style=\"display:none;\">\n",
              "        \n",
              "  <svg xmlns=\"http://www.w3.org/2000/svg\" height=\"24px\"viewBox=\"0 0 24 24\"\n",
              "       width=\"24px\">\n",
              "    <path d=\"M0 0h24v24H0V0z\" fill=\"none\"/>\n",
              "    <path d=\"M18.56 5.44l.94 2.06.94-2.06 2.06-.94-2.06-.94-.94-2.06-.94 2.06-2.06.94zm-11 1L8.5 8.5l.94-2.06 2.06-.94-2.06-.94L8.5 2.5l-.94 2.06-2.06.94zm10 10l.94 2.06.94-2.06 2.06-.94-2.06-.94-.94-2.06-.94 2.06-2.06.94z\"/><path d=\"M17.41 7.96l-1.37-1.37c-.4-.4-.92-.59-1.43-.59-.52 0-1.04.2-1.43.59L10.3 9.45l-7.72 7.72c-.78.78-.78 2.05 0 2.83L4 21.41c.39.39.9.59 1.41.59.51 0 1.02-.2 1.41-.59l7.78-7.78 2.81-2.81c.8-.78.8-2.07 0-2.86zM5.41 20L4 18.59l7.72-7.72 1.47 1.35L5.41 20z\"/>\n",
              "  </svg>\n",
              "      </button>\n",
              "      \n",
              "  <style>\n",
              "    .colab-df-container {\n",
              "      display:flex;\n",
              "      flex-wrap:wrap;\n",
              "      gap: 12px;\n",
              "    }\n",
              "\n",
              "    .colab-df-convert {\n",
              "      background-color: #E8F0FE;\n",
              "      border: none;\n",
              "      border-radius: 50%;\n",
              "      cursor: pointer;\n",
              "      display: none;\n",
              "      fill: #1967D2;\n",
              "      height: 32px;\n",
              "      padding: 0 0 0 0;\n",
              "      width: 32px;\n",
              "    }\n",
              "\n",
              "    .colab-df-convert:hover {\n",
              "      background-color: #E2EBFA;\n",
              "      box-shadow: 0px 1px 2px rgba(60, 64, 67, 0.3), 0px 1px 3px 1px rgba(60, 64, 67, 0.15);\n",
              "      fill: #174EA6;\n",
              "    }\n",
              "\n",
              "    [theme=dark] .colab-df-convert {\n",
              "      background-color: #3B4455;\n",
              "      fill: #D2E3FC;\n",
              "    }\n",
              "\n",
              "    [theme=dark] .colab-df-convert:hover {\n",
              "      background-color: #434B5C;\n",
              "      box-shadow: 0px 1px 3px 1px rgba(0, 0, 0, 0.15);\n",
              "      filter: drop-shadow(0px 1px 2px rgba(0, 0, 0, 0.3));\n",
              "      fill: #FFFFFF;\n",
              "    }\n",
              "  </style>\n",
              "\n",
              "      <script>\n",
              "        const buttonEl =\n",
              "          document.querySelector('#df-04d46832-5d4e-4156-ac4f-1461d001f5b2 button.colab-df-convert');\n",
              "        buttonEl.style.display =\n",
              "          google.colab.kernel.accessAllowed ? 'block' : 'none';\n",
              "\n",
              "        async function convertToInteractive(key) {\n",
              "          const element = document.querySelector('#df-04d46832-5d4e-4156-ac4f-1461d001f5b2');\n",
              "          const dataTable =\n",
              "            await google.colab.kernel.invokeFunction('convertToInteractive',\n",
              "                                                     [key], {});\n",
              "          if (!dataTable) return;\n",
              "\n",
              "          const docLinkHtml = 'Like what you see? Visit the ' +\n",
              "            '<a target=\"_blank\" href=https://colab.research.google.com/notebooks/data_table.ipynb>data table notebook</a>'\n",
              "            + ' to learn more about interactive tables.';\n",
              "          element.innerHTML = '';\n",
              "          dataTable['output_type'] = 'display_data';\n",
              "          await google.colab.output.renderOutput(dataTable, element);\n",
              "          const docLink = document.createElement('div');\n",
              "          docLink.innerHTML = docLinkHtml;\n",
              "          element.appendChild(docLink);\n",
              "        }\n",
              "      </script>\n",
              "    </div>\n",
              "  </div>\n",
              "  "
            ]
          },
          "metadata": {},
          "execution_count": 180
        }
      ]
    },
    {
      "cell_type": "markdown",
      "source": [
        "#Data Cleaning after creating DataFrame"
      ],
      "metadata": {
        "id": "6C1K_1ec37VO"
      }
    },
    {
      "cell_type": "code",
      "source": [
        "#check for dupliated rows\n",
        "no_of_duplicated_rows = len(df[df.duplicated()])\n",
        "print(f'no of duplicated rows = {no_of_duplicated_rows}')"
      ],
      "metadata": {
        "colab": {
          "base_uri": "https://localhost:8080/"
        },
        "id": "-KJKyJPwgkqo",
        "outputId": "04a5e261-8695-47eb-97be-6c3cebd879ea"
      },
      "execution_count": null,
      "outputs": [
        {
          "output_type": "stream",
          "name": "stdout",
          "text": [
            "no of duplicated rows = 13728627\n"
          ]
        }
      ]
    },
    {
      "cell_type": "code",
      "source": [
        "#removing duplicated rows from df\n",
        "\n",
        "df = df[~df.duplicated()]"
      ],
      "metadata": {
        "id": "YdiiPPKr7WxZ"
      },
      "execution_count": null,
      "outputs": []
    },
    {
      "cell_type": "code",
      "source": [
        "#info of df after removing duplicates\n",
        "\n",
        "df.info()"
      ],
      "metadata": {
        "colab": {
          "base_uri": "https://localhost:8080/"
        },
        "id": "A2yn0_Kp7hKv",
        "outputId": "1e72f684-8c1a-4265-ef9c-fe0842d88837"
      },
      "execution_count": null,
      "outputs": [
        {
          "output_type": "stream",
          "name": "stdout",
          "text": [
            "<class 'pandas.core.frame.DataFrame'>\n",
            "Int64Index: 1373 entries, 0 to 13511\n",
            "Data columns (total 6 columns):\n",
            " #   Column            Non-Null Count  Dtype \n",
            "---  ------            --------------  ----- \n",
            " 0   uuid              1373 non-null   object\n",
            " 1   price_string      551 non-null    object\n",
            " 2   price_string_unf  31 non-null     object\n",
            " 3   product_type      1372 non-null   object\n",
            " 4   level_1           1368 non-null   object\n",
            " 5   category          1372 non-null   object\n",
            "dtypes: object(6)\n",
            "memory usage: 75.1+ KB\n"
          ]
        }
      ]
    },
    {
      "cell_type": "code",
      "source": [
        "# no of rows with null price_string\n",
        "price_string_null = len(df[df['price_string'].isnull()])\n",
        "price_string_null"
      ],
      "metadata": {
        "colab": {
          "base_uri": "https://localhost:8080/"
        },
        "id": "CgbATD5NdYI_",
        "outputId": "010f8698-c8de-452a-e513-2b88256d98f6"
      },
      "execution_count": null,
      "outputs": [
        {
          "output_type": "execute_result",
          "data": {
            "text/plain": [
              "822"
            ]
          },
          "metadata": {},
          "execution_count": 184
        }
      ]
    },
    {
      "cell_type": "code",
      "source": [
        "# no of rows with non null price_string\n",
        "price_string_not_null = len(df[~df['price_string'].isnull()])\n",
        "price_string_not_null"
      ],
      "metadata": {
        "colab": {
          "base_uri": "https://localhost:8080/"
        },
        "id": "YnejROD4d7Q7",
        "outputId": "aca49967-befb-4842-bcfa-cd8170cc2669"
      },
      "execution_count": null,
      "outputs": [
        {
          "output_type": "execute_result",
          "data": {
            "text/plain": [
              "551"
            ]
          },
          "metadata": {},
          "execution_count": 185
        }
      ]
    },
    {
      "cell_type": "code",
      "source": [
        "# no of rows with non null price_string_unf columns\n",
        "price_string_not_null_unf = len(df[~df['price_string_unf'].isnull()])\n",
        "price_string_not_null_unf"
      ],
      "metadata": {
        "colab": {
          "base_uri": "https://localhost:8080/"
        },
        "id": "8HFoZhNwVEWf",
        "outputId": "493968c1-d4a4-42a1-cc32-c54976dd998e"
      },
      "execution_count": null,
      "outputs": [
        {
          "output_type": "execute_result",
          "data": {
            "text/plain": [
              "31"
            ]
          },
          "metadata": {},
          "execution_count": 186
        }
      ]
    },
    {
      "cell_type": "code",
      "source": [
        "pd.set_option('display.max_rows', 20)"
      ],
      "metadata": {
        "id": "8hE8IU6l8rK1"
      },
      "execution_count": null,
      "outputs": []
    },
    {
      "cell_type": "code",
      "source": [
        "#checking df where price_string_not_null_unf is not null\n",
        "df[~df['price_string_unf'].isnull()]"
      ],
      "metadata": {
        "colab": {
          "base_uri": "https://localhost:8080/",
          "height": 991
        },
        "id": "N8Cy2cI7ebqW",
        "outputId": "0b2ef006-dc61-48d8-805b-e8981cdad63b"
      },
      "execution_count": null,
      "outputs": [
        {
          "output_type": "execute_result",
          "data": {
            "text/plain": [
              "                                      uuid price_string  \\\n",
              "61    13724827-979f-4019-9ff1-b44e57af5802          NaN   \n",
              "115   8e4fdac3-afc9-4242-9136-90d13e116724        $6.75   \n",
              "116   53beedf4-ed7c-4407-9081-7ae41f3a7282       $15.00   \n",
              "176   d3a85b19-cf28-413a-b8ee-518622025bdd       $18.95   \n",
              "182   623f06c9-5147-471a-a58f-162caca48a32      $459.99   \n",
              "...                                    ...          ...   \n",
              "2321  2441f06d-3590-443c-9353-f2f06087d61b          NaN   \n",
              "2322  35c758bf-2abd-4a52-af2f-fd7071a96d44          $52   \n",
              "3145  f2ed916d-c48d-4f63-bd5b-78c1d791025e         $198   \n",
              "3533  e1e16396-463f-44f3-a4e9-4ef1a3cd6da0       $30.00   \n",
              "4289  296ef8b5-619c-47f1-8ea4-88870c21c6eb       $49.00   \n",
              "\n",
              "              price_string_unf                                 product_type  \\\n",
              "61    Current price: \\n$359.00  U3Ryb2xsZXJzL0NhciBzZWF0cy8gQWNjZXNzb3JpZXM   \n",
              "115                      $6.75                             Q29mZmVlIEJlYW5z   \n",
              "116                     $15.00                                 RG91Z2ggSmFy   \n",
              "176                     $18.95                               QmFieSBXaXBlcw   \n",
              "182                    $459.99  U3Ryb2xsZXJzL0NhciBzZWF0cy8gQWNjZXNzb3JpZXM   \n",
              "...                        ...                                          ...   \n",
              "2321                   $80 USD                         TWF0ZXJuaXR5IERyZXNz   \n",
              "2322                   $52 USD                       TWF0ZXJuaXR5IFRzaGlydA   \n",
              "3145                   $198.00                          UGx1cyBzaXplIHdlYXI   \n",
              "3533                    $30.00                   UGV0IERvZyBTdXBwbGVtZW50cw   \n",
              "4289                    $49.00  U3Ryb2xsZXJzL0NhciBzZWF0cy8gQWNjZXNzb3JpZXM   \n",
              "\n",
              "                           level_1                          category  \n",
              "61                    Q2FyIHNlYXRz                       QmFieWNhcmU  \n",
              "115                 RGFyayBSb2FzdA                      Z3JvY2VyaWVz  \n",
              "116     UGxheWRvdWdoIC8gUGxheWRvaA               VG95cyBhbmQgR2FtZXM  \n",
              "176                 QmFieSBXaXBlcw                       QmFieWNhcmU  \n",
              "182                   Q2FyIHNlYXRz                       QmFieWNhcmU  \n",
              "...                            ...                               ...  \n",
              "2321  TWF0ZXJuaXR5IFBhcnR5IERyZXNz  Q2xvdGhpbmcgYW5kIEFjY2Vzc29yaWVz  \n",
              "2322           TWF0ZXJuaXR5IFRvcHM  Q2xvdGhpbmcgYW5kIEFjY2Vzc29yaWVz  \n",
              "3145                   SnVtcHN1aXQ  Q2xvdGhpbmcgYW5kIEFjY2Vzc29yaWVz  \n",
              "3533    UGV0IERvZyBTdXBwbGVtZW50cw                  cGV0IHN1cHBsaWVz  \n",
              "4289                  Q2FyIHNlYXRz                       QmFieWNhcmU  \n",
              "\n",
              "[31 rows x 6 columns]"
            ],
            "text/html": [
              "\n",
              "  <div id=\"df-b8d45218-cd34-4883-b3fe-0676a5095d6d\">\n",
              "    <div class=\"colab-df-container\">\n",
              "      <div>\n",
              "<style scoped>\n",
              "    .dataframe tbody tr th:only-of-type {\n",
              "        vertical-align: middle;\n",
              "    }\n",
              "\n",
              "    .dataframe tbody tr th {\n",
              "        vertical-align: top;\n",
              "    }\n",
              "\n",
              "    .dataframe thead th {\n",
              "        text-align: right;\n",
              "    }\n",
              "</style>\n",
              "<table border=\"1\" class=\"dataframe\">\n",
              "  <thead>\n",
              "    <tr style=\"text-align: right;\">\n",
              "      <th></th>\n",
              "      <th>uuid</th>\n",
              "      <th>price_string</th>\n",
              "      <th>price_string_unf</th>\n",
              "      <th>product_type</th>\n",
              "      <th>level_1</th>\n",
              "      <th>category</th>\n",
              "    </tr>\n",
              "  </thead>\n",
              "  <tbody>\n",
              "    <tr>\n",
              "      <th>61</th>\n",
              "      <td>13724827-979f-4019-9ff1-b44e57af5802</td>\n",
              "      <td>NaN</td>\n",
              "      <td>Current price: \\n$359.00</td>\n",
              "      <td>U3Ryb2xsZXJzL0NhciBzZWF0cy8gQWNjZXNzb3JpZXM</td>\n",
              "      <td>Q2FyIHNlYXRz</td>\n",
              "      <td>QmFieWNhcmU</td>\n",
              "    </tr>\n",
              "    <tr>\n",
              "      <th>115</th>\n",
              "      <td>8e4fdac3-afc9-4242-9136-90d13e116724</td>\n",
              "      <td>$6.75</td>\n",
              "      <td>$6.75</td>\n",
              "      <td>Q29mZmVlIEJlYW5z</td>\n",
              "      <td>RGFyayBSb2FzdA</td>\n",
              "      <td>Z3JvY2VyaWVz</td>\n",
              "    </tr>\n",
              "    <tr>\n",
              "      <th>116</th>\n",
              "      <td>53beedf4-ed7c-4407-9081-7ae41f3a7282</td>\n",
              "      <td>$15.00</td>\n",
              "      <td>$15.00</td>\n",
              "      <td>RG91Z2ggSmFy</td>\n",
              "      <td>UGxheWRvdWdoIC8gUGxheWRvaA</td>\n",
              "      <td>VG95cyBhbmQgR2FtZXM</td>\n",
              "    </tr>\n",
              "    <tr>\n",
              "      <th>176</th>\n",
              "      <td>d3a85b19-cf28-413a-b8ee-518622025bdd</td>\n",
              "      <td>$18.95</td>\n",
              "      <td>$18.95</td>\n",
              "      <td>QmFieSBXaXBlcw</td>\n",
              "      <td>QmFieSBXaXBlcw</td>\n",
              "      <td>QmFieWNhcmU</td>\n",
              "    </tr>\n",
              "    <tr>\n",
              "      <th>182</th>\n",
              "      <td>623f06c9-5147-471a-a58f-162caca48a32</td>\n",
              "      <td>$459.99</td>\n",
              "      <td>$459.99</td>\n",
              "      <td>U3Ryb2xsZXJzL0NhciBzZWF0cy8gQWNjZXNzb3JpZXM</td>\n",
              "      <td>Q2FyIHNlYXRz</td>\n",
              "      <td>QmFieWNhcmU</td>\n",
              "    </tr>\n",
              "    <tr>\n",
              "      <th>...</th>\n",
              "      <td>...</td>\n",
              "      <td>...</td>\n",
              "      <td>...</td>\n",
              "      <td>...</td>\n",
              "      <td>...</td>\n",
              "      <td>...</td>\n",
              "    </tr>\n",
              "    <tr>\n",
              "      <th>2321</th>\n",
              "      <td>2441f06d-3590-443c-9353-f2f06087d61b</td>\n",
              "      <td>NaN</td>\n",
              "      <td>$80 USD</td>\n",
              "      <td>TWF0ZXJuaXR5IERyZXNz</td>\n",
              "      <td>TWF0ZXJuaXR5IFBhcnR5IERyZXNz</td>\n",
              "      <td>Q2xvdGhpbmcgYW5kIEFjY2Vzc29yaWVz</td>\n",
              "    </tr>\n",
              "    <tr>\n",
              "      <th>2322</th>\n",
              "      <td>35c758bf-2abd-4a52-af2f-fd7071a96d44</td>\n",
              "      <td>$52</td>\n",
              "      <td>$52 USD</td>\n",
              "      <td>TWF0ZXJuaXR5IFRzaGlydA</td>\n",
              "      <td>TWF0ZXJuaXR5IFRvcHM</td>\n",
              "      <td>Q2xvdGhpbmcgYW5kIEFjY2Vzc29yaWVz</td>\n",
              "    </tr>\n",
              "    <tr>\n",
              "      <th>3145</th>\n",
              "      <td>f2ed916d-c48d-4f63-bd5b-78c1d791025e</td>\n",
              "      <td>$198</td>\n",
              "      <td>$198.00</td>\n",
              "      <td>UGx1cyBzaXplIHdlYXI</td>\n",
              "      <td>SnVtcHN1aXQ</td>\n",
              "      <td>Q2xvdGhpbmcgYW5kIEFjY2Vzc29yaWVz</td>\n",
              "    </tr>\n",
              "    <tr>\n",
              "      <th>3533</th>\n",
              "      <td>e1e16396-463f-44f3-a4e9-4ef1a3cd6da0</td>\n",
              "      <td>$30.00</td>\n",
              "      <td>$30.00</td>\n",
              "      <td>UGV0IERvZyBTdXBwbGVtZW50cw</td>\n",
              "      <td>UGV0IERvZyBTdXBwbGVtZW50cw</td>\n",
              "      <td>cGV0IHN1cHBsaWVz</td>\n",
              "    </tr>\n",
              "    <tr>\n",
              "      <th>4289</th>\n",
              "      <td>296ef8b5-619c-47f1-8ea4-88870c21c6eb</td>\n",
              "      <td>$49.00</td>\n",
              "      <td>$49.00</td>\n",
              "      <td>U3Ryb2xsZXJzL0NhciBzZWF0cy8gQWNjZXNzb3JpZXM</td>\n",
              "      <td>Q2FyIHNlYXRz</td>\n",
              "      <td>QmFieWNhcmU</td>\n",
              "    </tr>\n",
              "  </tbody>\n",
              "</table>\n",
              "<p>31 rows × 6 columns</p>\n",
              "</div>\n",
              "      <button class=\"colab-df-convert\" onclick=\"convertToInteractive('df-b8d45218-cd34-4883-b3fe-0676a5095d6d')\"\n",
              "              title=\"Convert this dataframe to an interactive table.\"\n",
              "              style=\"display:none;\">\n",
              "        \n",
              "  <svg xmlns=\"http://www.w3.org/2000/svg\" height=\"24px\"viewBox=\"0 0 24 24\"\n",
              "       width=\"24px\">\n",
              "    <path d=\"M0 0h24v24H0V0z\" fill=\"none\"/>\n",
              "    <path d=\"M18.56 5.44l.94 2.06.94-2.06 2.06-.94-2.06-.94-.94-2.06-.94 2.06-2.06.94zm-11 1L8.5 8.5l.94-2.06 2.06-.94-2.06-.94L8.5 2.5l-.94 2.06-2.06.94zm10 10l.94 2.06.94-2.06 2.06-.94-2.06-.94-.94-2.06-.94 2.06-2.06.94z\"/><path d=\"M17.41 7.96l-1.37-1.37c-.4-.4-.92-.59-1.43-.59-.52 0-1.04.2-1.43.59L10.3 9.45l-7.72 7.72c-.78.78-.78 2.05 0 2.83L4 21.41c.39.39.9.59 1.41.59.51 0 1.02-.2 1.41-.59l7.78-7.78 2.81-2.81c.8-.78.8-2.07 0-2.86zM5.41 20L4 18.59l7.72-7.72 1.47 1.35L5.41 20z\"/>\n",
              "  </svg>\n",
              "      </button>\n",
              "      \n",
              "  <style>\n",
              "    .colab-df-container {\n",
              "      display:flex;\n",
              "      flex-wrap:wrap;\n",
              "      gap: 12px;\n",
              "    }\n",
              "\n",
              "    .colab-df-convert {\n",
              "      background-color: #E8F0FE;\n",
              "      border: none;\n",
              "      border-radius: 50%;\n",
              "      cursor: pointer;\n",
              "      display: none;\n",
              "      fill: #1967D2;\n",
              "      height: 32px;\n",
              "      padding: 0 0 0 0;\n",
              "      width: 32px;\n",
              "    }\n",
              "\n",
              "    .colab-df-convert:hover {\n",
              "      background-color: #E2EBFA;\n",
              "      box-shadow: 0px 1px 2px rgba(60, 64, 67, 0.3), 0px 1px 3px 1px rgba(60, 64, 67, 0.15);\n",
              "      fill: #174EA6;\n",
              "    }\n",
              "\n",
              "    [theme=dark] .colab-df-convert {\n",
              "      background-color: #3B4455;\n",
              "      fill: #D2E3FC;\n",
              "    }\n",
              "\n",
              "    [theme=dark] .colab-df-convert:hover {\n",
              "      background-color: #434B5C;\n",
              "      box-shadow: 0px 1px 3px 1px rgba(0, 0, 0, 0.15);\n",
              "      filter: drop-shadow(0px 1px 2px rgba(0, 0, 0, 0.3));\n",
              "      fill: #FFFFFF;\n",
              "    }\n",
              "  </style>\n",
              "\n",
              "      <script>\n",
              "        const buttonEl =\n",
              "          document.querySelector('#df-b8d45218-cd34-4883-b3fe-0676a5095d6d button.colab-df-convert');\n",
              "        buttonEl.style.display =\n",
              "          google.colab.kernel.accessAllowed ? 'block' : 'none';\n",
              "\n",
              "        async function convertToInteractive(key) {\n",
              "          const element = document.querySelector('#df-b8d45218-cd34-4883-b3fe-0676a5095d6d');\n",
              "          const dataTable =\n",
              "            await google.colab.kernel.invokeFunction('convertToInteractive',\n",
              "                                                     [key], {});\n",
              "          if (!dataTable) return;\n",
              "\n",
              "          const docLinkHtml = 'Like what you see? Visit the ' +\n",
              "            '<a target=\"_blank\" href=https://colab.research.google.com/notebooks/data_table.ipynb>data table notebook</a>'\n",
              "            + ' to learn more about interactive tables.';\n",
              "          element.innerHTML = '';\n",
              "          dataTable['output_type'] = 'display_data';\n",
              "          await google.colab.output.renderOutput(dataTable, element);\n",
              "          const docLink = document.createElement('div');\n",
              "          docLink.innerHTML = docLinkHtml;\n",
              "          element.appendChild(docLink);\n",
              "        }\n",
              "      </script>\n",
              "    </div>\n",
              "  </div>\n",
              "  "
            ]
          },
          "metadata": {},
          "execution_count": 188
        }
      ]
    },
    {
      "cell_type": "code",
      "source": [
        "#removing price_string_unf column from df because \n",
        "print(f'price_string_unf column has {(1-(price_string_not_null_unf/len(df)))*100} percent null value')\n",
        "df.drop(columns = 'price_string_unf',inplace = True)"
      ],
      "metadata": {
        "colab": {
          "base_uri": "https://localhost:8080/"
        },
        "id": "Zs8HzLM-8xZ1",
        "outputId": "ff422e10-9b67-4960-d653-36e470555b67"
      },
      "execution_count": null,
      "outputs": [
        {
          "output_type": "stream",
          "name": "stdout",
          "text": [
            "price_string_unf column has 97.74217042971594 percent null value\n"
          ]
        }
      ]
    },
    {
      "cell_type": "code",
      "source": [
        "df.info()"
      ],
      "metadata": {
        "colab": {
          "base_uri": "https://localhost:8080/"
        },
        "id": "fN2HlwX79up8",
        "outputId": "e8e1542e-45dc-4864-b157-a67cc44211e2"
      },
      "execution_count": null,
      "outputs": [
        {
          "output_type": "stream",
          "name": "stdout",
          "text": [
            "<class 'pandas.core.frame.DataFrame'>\n",
            "Int64Index: 1373 entries, 0 to 13511\n",
            "Data columns (total 5 columns):\n",
            " #   Column        Non-Null Count  Dtype \n",
            "---  ------        --------------  ----- \n",
            " 0   uuid          1373 non-null   object\n",
            " 1   price_string  551 non-null    object\n",
            " 2   product_type  1372 non-null   object\n",
            " 3   level_1       1368 non-null   object\n",
            " 4   category      1372 non-null   object\n",
            "dtypes: object(5)\n",
            "memory usage: 64.4+ KB\n"
          ]
        }
      ]
    },
    {
      "cell_type": "code",
      "source": [
        "# no of null product type\n",
        "len(df[df['product_type'].isnull()])"
      ],
      "metadata": {
        "colab": {
          "base_uri": "https://localhost:8080/"
        },
        "id": "33qN8RAVfv9K",
        "outputId": "2ccbdddd-983e-403f-d75f-2f633d6886c4"
      },
      "execution_count": null,
      "outputs": [
        {
          "output_type": "execute_result",
          "data": {
            "text/plain": [
              "1"
            ]
          },
          "metadata": {},
          "execution_count": 191
        }
      ]
    },
    {
      "cell_type": "code",
      "source": [
        "#drop null product type from df\n",
        "df = df[~df['product_type'].isnull()]"
      ],
      "metadata": {
        "id": "PSwQg9ts-1RT"
      },
      "execution_count": null,
      "outputs": []
    },
    {
      "cell_type": "code",
      "source": [
        "df.info()"
      ],
      "metadata": {
        "colab": {
          "base_uri": "https://localhost:8080/"
        },
        "id": "Weve5p4Q-9nh",
        "outputId": "3537548b-711d-4be9-bc30-69826fa2b622"
      },
      "execution_count": null,
      "outputs": [
        {
          "output_type": "stream",
          "name": "stdout",
          "text": [
            "<class 'pandas.core.frame.DataFrame'>\n",
            "Int64Index: 1372 entries, 0 to 13511\n",
            "Data columns (total 5 columns):\n",
            " #   Column        Non-Null Count  Dtype \n",
            "---  ------        --------------  ----- \n",
            " 0   uuid          1372 non-null   object\n",
            " 1   price_string  551 non-null    object\n",
            " 2   product_type  1372 non-null   object\n",
            " 3   level_1       1368 non-null   object\n",
            " 4   category      1372 non-null   object\n",
            "dtypes: object(5)\n",
            "memory usage: 64.3+ KB\n"
          ]
        }
      ]
    },
    {
      "cell_type": "markdown",
      "source": [
        "# Checking distribution products_type containing null and non null prices in column price_string"
      ],
      "metadata": {
        "id": "9eJj0cgG4LG2"
      }
    },
    {
      "cell_type": "code",
      "source": [
        "df.groupby('product_type')['product_type'].count().sort_values(ascending = False)"
      ],
      "metadata": {
        "colab": {
          "base_uri": "https://localhost:8080/"
        },
        "id": "DxOnIZqR_0Jo",
        "outputId": "02adda40-e1a5-483c-99ed-f55e4730b0f3"
      },
      "execution_count": null,
      "outputs": [
        {
          "output_type": "execute_result",
          "data": {
            "text/plain": [
              "product_type\n",
              "U2NydWJzIGFuZCBjbGVhbmluZyBjbG90aHM             20\n",
              "V29tZW5zIHN3aW13ZWFy                            19\n",
              "V29tZW5zIHdvcmt3ZWFyLyBvZmZpY2Ugd2Vhcg          17\n",
              "UGxhbnQgYmFzZWQgUHJvdGVpbiBTdXBwbGVtZW50cw      15\n",
              "V29tZW5zIFBhbnRz                                15\n",
              "                                                ..\n",
              "UG93ZXIgQWRhcHRlcnM                              1\n",
              "SGlnaGxpZ2h0ZXJz                                 1\n",
              "UEVUIFNUQUlOIFJFTU9WRVIvQ0xFQU5FUlM              1\n",
              "U3Vuc2NyZWVu                                     1\n",
              "UEVUIFNUQUlOIGFuZCBPRE9SIFJFTU9WRVIgLSBQT1VS     1\n",
              "Name: product_type, Length: 321, dtype: int64"
            ]
          },
          "metadata": {},
          "execution_count": 194
        }
      ]
    },
    {
      "cell_type": "code",
      "source": [
        "type_of_products = pd.DataFrame(df.groupby('product_type')['product_type'].size().sort_values(ascending = False))"
      ],
      "metadata": {
        "id": "Lhz6X1bN_HRZ"
      },
      "execution_count": null,
      "outputs": []
    },
    {
      "cell_type": "code",
      "source": [
        "type_of_products"
      ],
      "metadata": {
        "id": "ikXTA7IoGREF",
        "colab": {
          "base_uri": "https://localhost:8080/",
          "height": 455
        },
        "outputId": "c6de9571-c5c1-45d6-e61d-7c6611f702f0"
      },
      "execution_count": null,
      "outputs": [
        {
          "output_type": "execute_result",
          "data": {
            "text/plain": [
              "                                              product_type\n",
              "product_type                                              \n",
              "U2NydWJzIGFuZCBjbGVhbmluZyBjbG90aHM                     20\n",
              "V29tZW5zIHN3aW13ZWFy                                    19\n",
              "V29tZW5zIHdvcmt3ZWFyLyBvZmZpY2Ugd2Vhcg                  17\n",
              "UGxhbnQgYmFzZWQgUHJvdGVpbiBTdXBwbGVtZW50cw              15\n",
              "V29tZW5zIFBhbnRz                                        15\n",
              "...                                                    ...\n",
              "UG93ZXIgQWRhcHRlcnM                                      1\n",
              "SGlnaGxpZ2h0ZXJz                                         1\n",
              "UEVUIFNUQUlOIFJFTU9WRVIvQ0xFQU5FUlM                      1\n",
              "U3Vuc2NyZWVu                                             1\n",
              "UEVUIFNUQUlOIGFuZCBPRE9SIFJFTU9WRVIgLSBQT1VS             1\n",
              "\n",
              "[321 rows x 1 columns]"
            ],
            "text/html": [
              "\n",
              "  <div id=\"df-f674ae51-b066-4df0-8579-a5385201e02d\">\n",
              "    <div class=\"colab-df-container\">\n",
              "      <div>\n",
              "<style scoped>\n",
              "    .dataframe tbody tr th:only-of-type {\n",
              "        vertical-align: middle;\n",
              "    }\n",
              "\n",
              "    .dataframe tbody tr th {\n",
              "        vertical-align: top;\n",
              "    }\n",
              "\n",
              "    .dataframe thead th {\n",
              "        text-align: right;\n",
              "    }\n",
              "</style>\n",
              "<table border=\"1\" class=\"dataframe\">\n",
              "  <thead>\n",
              "    <tr style=\"text-align: right;\">\n",
              "      <th></th>\n",
              "      <th>product_type</th>\n",
              "    </tr>\n",
              "    <tr>\n",
              "      <th>product_type</th>\n",
              "      <th></th>\n",
              "    </tr>\n",
              "  </thead>\n",
              "  <tbody>\n",
              "    <tr>\n",
              "      <th>U2NydWJzIGFuZCBjbGVhbmluZyBjbG90aHM</th>\n",
              "      <td>20</td>\n",
              "    </tr>\n",
              "    <tr>\n",
              "      <th>V29tZW5zIHN3aW13ZWFy</th>\n",
              "      <td>19</td>\n",
              "    </tr>\n",
              "    <tr>\n",
              "      <th>V29tZW5zIHdvcmt3ZWFyLyBvZmZpY2Ugd2Vhcg</th>\n",
              "      <td>17</td>\n",
              "    </tr>\n",
              "    <tr>\n",
              "      <th>UGxhbnQgYmFzZWQgUHJvdGVpbiBTdXBwbGVtZW50cw</th>\n",
              "      <td>15</td>\n",
              "    </tr>\n",
              "    <tr>\n",
              "      <th>V29tZW5zIFBhbnRz</th>\n",
              "      <td>15</td>\n",
              "    </tr>\n",
              "    <tr>\n",
              "      <th>...</th>\n",
              "      <td>...</td>\n",
              "    </tr>\n",
              "    <tr>\n",
              "      <th>UG93ZXIgQWRhcHRlcnM</th>\n",
              "      <td>1</td>\n",
              "    </tr>\n",
              "    <tr>\n",
              "      <th>SGlnaGxpZ2h0ZXJz</th>\n",
              "      <td>1</td>\n",
              "    </tr>\n",
              "    <tr>\n",
              "      <th>UEVUIFNUQUlOIFJFTU9WRVIvQ0xFQU5FUlM</th>\n",
              "      <td>1</td>\n",
              "    </tr>\n",
              "    <tr>\n",
              "      <th>U3Vuc2NyZWVu</th>\n",
              "      <td>1</td>\n",
              "    </tr>\n",
              "    <tr>\n",
              "      <th>UEVUIFNUQUlOIGFuZCBPRE9SIFJFTU9WRVIgLSBQT1VS</th>\n",
              "      <td>1</td>\n",
              "    </tr>\n",
              "  </tbody>\n",
              "</table>\n",
              "<p>321 rows × 1 columns</p>\n",
              "</div>\n",
              "      <button class=\"colab-df-convert\" onclick=\"convertToInteractive('df-f674ae51-b066-4df0-8579-a5385201e02d')\"\n",
              "              title=\"Convert this dataframe to an interactive table.\"\n",
              "              style=\"display:none;\">\n",
              "        \n",
              "  <svg xmlns=\"http://www.w3.org/2000/svg\" height=\"24px\"viewBox=\"0 0 24 24\"\n",
              "       width=\"24px\">\n",
              "    <path d=\"M0 0h24v24H0V0z\" fill=\"none\"/>\n",
              "    <path d=\"M18.56 5.44l.94 2.06.94-2.06 2.06-.94-2.06-.94-.94-2.06-.94 2.06-2.06.94zm-11 1L8.5 8.5l.94-2.06 2.06-.94-2.06-.94L8.5 2.5l-.94 2.06-2.06.94zm10 10l.94 2.06.94-2.06 2.06-.94-2.06-.94-.94-2.06-.94 2.06-2.06.94z\"/><path d=\"M17.41 7.96l-1.37-1.37c-.4-.4-.92-.59-1.43-.59-.52 0-1.04.2-1.43.59L10.3 9.45l-7.72 7.72c-.78.78-.78 2.05 0 2.83L4 21.41c.39.39.9.59 1.41.59.51 0 1.02-.2 1.41-.59l7.78-7.78 2.81-2.81c.8-.78.8-2.07 0-2.86zM5.41 20L4 18.59l7.72-7.72 1.47 1.35L5.41 20z\"/>\n",
              "  </svg>\n",
              "      </button>\n",
              "      \n",
              "  <style>\n",
              "    .colab-df-container {\n",
              "      display:flex;\n",
              "      flex-wrap:wrap;\n",
              "      gap: 12px;\n",
              "    }\n",
              "\n",
              "    .colab-df-convert {\n",
              "      background-color: #E8F0FE;\n",
              "      border: none;\n",
              "      border-radius: 50%;\n",
              "      cursor: pointer;\n",
              "      display: none;\n",
              "      fill: #1967D2;\n",
              "      height: 32px;\n",
              "      padding: 0 0 0 0;\n",
              "      width: 32px;\n",
              "    }\n",
              "\n",
              "    .colab-df-convert:hover {\n",
              "      background-color: #E2EBFA;\n",
              "      box-shadow: 0px 1px 2px rgba(60, 64, 67, 0.3), 0px 1px 3px 1px rgba(60, 64, 67, 0.15);\n",
              "      fill: #174EA6;\n",
              "    }\n",
              "\n",
              "    [theme=dark] .colab-df-convert {\n",
              "      background-color: #3B4455;\n",
              "      fill: #D2E3FC;\n",
              "    }\n",
              "\n",
              "    [theme=dark] .colab-df-convert:hover {\n",
              "      background-color: #434B5C;\n",
              "      box-shadow: 0px 1px 3px 1px rgba(0, 0, 0, 0.15);\n",
              "      filter: drop-shadow(0px 1px 2px rgba(0, 0, 0, 0.3));\n",
              "      fill: #FFFFFF;\n",
              "    }\n",
              "  </style>\n",
              "\n",
              "      <script>\n",
              "        const buttonEl =\n",
              "          document.querySelector('#df-f674ae51-b066-4df0-8579-a5385201e02d button.colab-df-convert');\n",
              "        buttonEl.style.display =\n",
              "          google.colab.kernel.accessAllowed ? 'block' : 'none';\n",
              "\n",
              "        async function convertToInteractive(key) {\n",
              "          const element = document.querySelector('#df-f674ae51-b066-4df0-8579-a5385201e02d');\n",
              "          const dataTable =\n",
              "            await google.colab.kernel.invokeFunction('convertToInteractive',\n",
              "                                                     [key], {});\n",
              "          if (!dataTable) return;\n",
              "\n",
              "          const docLinkHtml = 'Like what you see? Visit the ' +\n",
              "            '<a target=\"_blank\" href=https://colab.research.google.com/notebooks/data_table.ipynb>data table notebook</a>'\n",
              "            + ' to learn more about interactive tables.';\n",
              "          element.innerHTML = '';\n",
              "          dataTable['output_type'] = 'display_data';\n",
              "          await google.colab.output.renderOutput(dataTable, element);\n",
              "          const docLink = document.createElement('div');\n",
              "          docLink.innerHTML = docLinkHtml;\n",
              "          element.appendChild(docLink);\n",
              "        }\n",
              "      </script>\n",
              "    </div>\n",
              "  </div>\n",
              "  "
            ]
          },
          "metadata": {},
          "execution_count": 196
        }
      ]
    },
    {
      "cell_type": "code",
      "source": [
        "import seaborn as sns\n",
        "import matplotlib.pyplot as plt"
      ],
      "metadata": {
        "id": "4pN25HyaF4il"
      },
      "execution_count": null,
      "outputs": []
    },
    {
      "cell_type": "code",
      "source": [
        "#Distribution type of products including null and non null prices\n",
        "\n",
        "sns.displot(type_of_products,bins = 10)\n",
        "\n",
        "plt.xlabel(\"count of product type\")\n",
        "plt.ylabel(\"No of product\")\n",
        "plt.title(\"Distribution type of products including null and non null prices\")"
      ],
      "metadata": {
        "colab": {
          "base_uri": "https://localhost:8080/",
          "height": 414
        },
        "id": "yaL6NWe7_6By",
        "outputId": "8fb5eb36-d70a-4ae0-ec1b-4790832a1762"
      },
      "execution_count": null,
      "outputs": [
        {
          "output_type": "execute_result",
          "data": {
            "text/plain": [
              "Text(0.5, 1.0, 'Distribution type of products including null and non null prices')"
            ]
          },
          "metadata": {},
          "execution_count": 198
        },
        {
          "output_type": "display_data",
          "data": {
            "text/plain": [
              "<Figure size 461.375x360 with 1 Axes>"
            ],
            "image/png": "[encoded data removed]"
          },
          "metadata": {
            "needs_background": "light"
          }
        }
      ]
    },
    {
      "cell_type": "code",
      "source": [
        "#total product_type\n",
        "len(list(df['product_type'].unique()))"
      ],
      "metadata": {
        "colab": {
          "base_uri": "https://localhost:8080/"
        },
        "id": "RRwGj00pfSV6",
        "outputId": "7fd2c51c-924a-4984-c53e-7c7d4d011e2a"
      },
      "execution_count": null,
      "outputs": [
        {
          "output_type": "execute_result",
          "data": {
            "text/plain": [
              "321"
            ]
          },
          "metadata": {},
          "execution_count": 199
        }
      ]
    },
    {
      "cell_type": "markdown",
      "source": [
        "# Checking distribution of level_1 containing null and non null prices in column price_string"
      ],
      "metadata": {
        "id": "JL4nLLCS4gxY"
      }
    },
    {
      "cell_type": "code",
      "source": [
        "# total type of level 1\n",
        "df.level_1 .value_counts()"
      ],
      "metadata": {
        "colab": {
          "base_uri": "https://localhost:8080/"
        },
        "id": "fIHgTSzrfwZt",
        "outputId": "ea905b94-b3ec-4290-82fa-3012caae1dd5"
      },
      "execution_count": null,
      "outputs": [
        {
          "output_type": "execute_result",
          "data": {
            "text/plain": [
              "U3dlYXRzaGlydA                  9\n",
              "U29ja3M                         7\n",
              "Q2xlYW5pbmcgY2xvdGg             7\n",
              "U3Bvb24sIEtuaWZlIGFuZCBGb3Jr    7\n",
              "U2hvcnQgc2xlZXZlIHRlZQ          6\n",
              "                               ..\n",
              "VHJhc2ggQmFncw                  1\n",
              "UGlsbG93L0N1c2hpb24             1\n",
              "TG9vbXM                         1\n",
              "TWVucyBzbmVha2Vycw              1\n",
              "UHVwcHkgU2hhbXBvbw              1\n",
              "Name: level_1, Length: 595, dtype: int64"
            ]
          },
          "metadata": {},
          "execution_count": 200
        }
      ]
    },
    {
      "cell_type": "code",
      "source": [
        "#total null value in level 1\n",
        "\n",
        "len(df[df['level_1'].isnull()])"
      ],
      "metadata": {
        "colab": {
          "base_uri": "https://localhost:8080/"
        },
        "id": "VAAFejxqg-ZP",
        "outputId": "e2d14015-fa69-478d-863e-d15be1cd0f57"
      },
      "execution_count": null,
      "outputs": [
        {
          "output_type": "execute_result",
          "data": {
            "text/plain": [
              "4"
            ]
          },
          "metadata": {},
          "execution_count": 201
        }
      ]
    },
    {
      "cell_type": "code",
      "source": [
        "# data frame with type of level 1 and its count\n",
        "type_of_level1 = pd.DataFrame(df.groupby('level_1')['level_1'].size().sort_values(ascending = False))\n"
      ],
      "metadata": {
        "id": "HPg0IyIpH2LF"
      },
      "execution_count": null,
      "outputs": []
    },
    {
      "cell_type": "code",
      "source": [
        "type_of_level1"
      ],
      "metadata": {
        "colab": {
          "base_uri": "https://localhost:8080/",
          "height": 455
        },
        "id": "xy3l765SH-lZ",
        "outputId": "41a36305-1701-4823-dc3d-412bf9507b96"
      },
      "execution_count": null,
      "outputs": [
        {
          "output_type": "execute_result",
          "data": {
            "text/plain": [
              "                                 level_1\n",
              "level_1                                 \n",
              "U3dlYXRzaGlydA                         9\n",
              "U29ja3M                                7\n",
              "Q2xlYW5pbmcgY2xvdGg                    7\n",
              "U3Bvb24sIEtuaWZlIGFuZCBGb3Jr           7\n",
              "TG9uZyBzbGVldmUgdGVl                   6\n",
              "...                                  ...\n",
              "UHVwcHkgU2hhbXBvbw                     1\n",
              "QWxsLXB1cnBvc2Ugc2NydWIgYnJ1c2g        1\n",
              "RGlzaCB3YXNoIHRhYmxldHMgc29hcA         1\n",
              "UmV1c2FibGUgY29mZmVlIGZpbHRlcg         1\n",
              "MTAgQ3Vw                               1\n",
              "\n",
              "[595 rows x 1 columns]"
            ],
            "text/html": [
              "\n",
              "  <div id=\"df-65dc6dba-89b5-475b-a8d3-4efaad14b081\">\n",
              "    <div class=\"colab-df-container\">\n",
              "      <div>\n",
              "<style scoped>\n",
              "    .dataframe tbody tr th:only-of-type {\n",
              "        vertical-align: middle;\n",
              "    }\n",
              "\n",
              "    .dataframe tbody tr th {\n",
              "        vertical-align: top;\n",
              "    }\n",
              "\n",
              "    .dataframe thead th {\n",
              "        text-align: right;\n",
              "    }\n",
              "</style>\n",
              "<table border=\"1\" class=\"dataframe\">\n",
              "  <thead>\n",
              "    <tr style=\"text-align: right;\">\n",
              "      <th></th>\n",
              "      <th>level_1</th>\n",
              "    </tr>\n",
              "    <tr>\n",
              "      <th>level_1</th>\n",
              "      <th></th>\n",
              "    </tr>\n",
              "  </thead>\n",
              "  <tbody>\n",
              "    <tr>\n",
              "      <th>U3dlYXRzaGlydA</th>\n",
              "      <td>9</td>\n",
              "    </tr>\n",
              "    <tr>\n",
              "      <th>U29ja3M</th>\n",
              "      <td>7</td>\n",
              "    </tr>\n",
              "    <tr>\n",
              "      <th>Q2xlYW5pbmcgY2xvdGg</th>\n",
              "      <td>7</td>\n",
              "    </tr>\n",
              "    <tr>\n",
              "      <th>U3Bvb24sIEtuaWZlIGFuZCBGb3Jr</th>\n",
              "      <td>7</td>\n",
              "    </tr>\n",
              "    <tr>\n",
              "      <th>TG9uZyBzbGVldmUgdGVl</th>\n",
              "      <td>6</td>\n",
              "    </tr>\n",
              "    <tr>\n",
              "      <th>...</th>\n",
              "      <td>...</td>\n",
              "    </tr>\n",
              "    <tr>\n",
              "      <th>UHVwcHkgU2hhbXBvbw</th>\n",
              "      <td>1</td>\n",
              "    </tr>\n",
              "    <tr>\n",
              "      <th>QWxsLXB1cnBvc2Ugc2NydWIgYnJ1c2g</th>\n",
              "      <td>1</td>\n",
              "    </tr>\n",
              "    <tr>\n",
              "      <th>RGlzaCB3YXNoIHRhYmxldHMgc29hcA</th>\n",
              "      <td>1</td>\n",
              "    </tr>\n",
              "    <tr>\n",
              "      <th>UmV1c2FibGUgY29mZmVlIGZpbHRlcg</th>\n",
              "      <td>1</td>\n",
              "    </tr>\n",
              "    <tr>\n",
              "      <th>MTAgQ3Vw</th>\n",
              "      <td>1</td>\n",
              "    </tr>\n",
              "  </tbody>\n",
              "</table>\n",
              "<p>595 rows × 1 columns</p>\n",
              "</div>\n",
              "      <button class=\"colab-df-convert\" onclick=\"convertToInteractive('df-65dc6dba-89b5-475b-a8d3-4efaad14b081')\"\n",
              "              title=\"Convert this dataframe to an interactive table.\"\n",
              "              style=\"display:none;\">\n",
              "        \n",
              "  <svg xmlns=\"http://www.w3.org/2000/svg\" height=\"24px\"viewBox=\"0 0 24 24\"\n",
              "       width=\"24px\">\n",
              "    <path d=\"M0 0h24v24H0V0z\" fill=\"none\"/>\n",
              "    <path d=\"M18.56 5.44l.94 2.06.94-2.06 2.06-.94-2.06-.94-.94-2.06-.94 2.06-2.06.94zm-11 1L8.5 8.5l.94-2.06 2.06-.94-2.06-.94L8.5 2.5l-.94 2.06-2.06.94zm10 10l.94 2.06.94-2.06 2.06-.94-2.06-.94-.94-2.06-.94 2.06-2.06.94z\"/><path d=\"M17.41 7.96l-1.37-1.37c-.4-.4-.92-.59-1.43-.59-.52 0-1.04.2-1.43.59L10.3 9.45l-7.72 7.72c-.78.78-.78 2.05 0 2.83L4 21.41c.39.39.9.59 1.41.59.51 0 1.02-.2 1.41-.59l7.78-7.78 2.81-2.81c.8-.78.8-2.07 0-2.86zM5.41 20L4 18.59l7.72-7.72 1.47 1.35L5.41 20z\"/>\n",
              "  </svg>\n",
              "      </button>\n",
              "      \n",
              "  <style>\n",
              "    .colab-df-container {\n",
              "      display:flex;\n",
              "      flex-wrap:wrap;\n",
              "      gap: 12px;\n",
              "    }\n",
              "\n",
              "    .colab-df-convert {\n",
              "      background-color: #E8F0FE;\n",
              "      border: none;\n",
              "      border-radius: 50%;\n",
              "      cursor: pointer;\n",
              "      display: none;\n",
              "      fill: #1967D2;\n",
              "      height: 32px;\n",
              "      padding: 0 0 0 0;\n",
              "      width: 32px;\n",
              "    }\n",
              "\n",
              "    .colab-df-convert:hover {\n",
              "      background-color: #E2EBFA;\n",
              "      box-shadow: 0px 1px 2px rgba(60, 64, 67, 0.3), 0px 1px 3px 1px rgba(60, 64, 67, 0.15);\n",
              "      fill: #174EA6;\n",
              "    }\n",
              "\n",
              "    [theme=dark] .colab-df-convert {\n",
              "      background-color: #3B4455;\n",
              "      fill: #D2E3FC;\n",
              "    }\n",
              "\n",
              "    [theme=dark] .colab-df-convert:hover {\n",
              "      background-color: #434B5C;\n",
              "      box-shadow: 0px 1px 3px 1px rgba(0, 0, 0, 0.15);\n",
              "      filter: drop-shadow(0px 1px 2px rgba(0, 0, 0, 0.3));\n",
              "      fill: #FFFFFF;\n",
              "    }\n",
              "  </style>\n",
              "\n",
              "      <script>\n",
              "        const buttonEl =\n",
              "          document.querySelector('#df-65dc6dba-89b5-475b-a8d3-4efaad14b081 button.colab-df-convert');\n",
              "        buttonEl.style.display =\n",
              "          google.colab.kernel.accessAllowed ? 'block' : 'none';\n",
              "\n",
              "        async function convertToInteractive(key) {\n",
              "          const element = document.querySelector('#df-65dc6dba-89b5-475b-a8d3-4efaad14b081');\n",
              "          const dataTable =\n",
              "            await google.colab.kernel.invokeFunction('convertToInteractive',\n",
              "                                                     [key], {});\n",
              "          if (!dataTable) return;\n",
              "\n",
              "          const docLinkHtml = 'Like what you see? Visit the ' +\n",
              "            '<a target=\"_blank\" href=https://colab.research.google.com/notebooks/data_table.ipynb>data table notebook</a>'\n",
              "            + ' to learn more about interactive tables.';\n",
              "          element.innerHTML = '';\n",
              "          dataTable['output_type'] = 'display_data';\n",
              "          await google.colab.output.renderOutput(dataTable, element);\n",
              "          const docLink = document.createElement('div');\n",
              "          docLink.innerHTML = docLinkHtml;\n",
              "          element.appendChild(docLink);\n",
              "        }\n",
              "      </script>\n",
              "    </div>\n",
              "  </div>\n",
              "  "
            ]
          },
          "metadata": {},
          "execution_count": 203
        }
      ]
    },
    {
      "cell_type": "code",
      "source": [
        "# Distribution level 1 including null and non null prices\n",
        "\n",
        "sns.displot(type_of_products,bins = 10)\n",
        "\n",
        "plt.xlabel(\"count of level 1\")\n",
        "plt.ylabel(\"No of level 1 having specific count\")\n",
        "plt.title(\"Distribution level 1 including null and non null prices\")"
      ],
      "metadata": {
        "colab": {
          "base_uri": "https://localhost:8080/",
          "height": 414
        },
        "id": "_h4_wtQIIHoa",
        "outputId": "d5a27df2-d741-41e2-f202-9e4a3a11898d"
      },
      "execution_count": null,
      "outputs": [
        {
          "output_type": "execute_result",
          "data": {
            "text/plain": [
              "Text(0.5, 1.0, 'Distribution level 1 including null and non null prices')"
            ]
          },
          "metadata": {},
          "execution_count": 204
        },
        {
          "output_type": "display_data",
          "data": {
            "text/plain": [
              "<Figure size 461.375x360 with 1 Axes>"
            ],
            "image/png": "[encoded data removed]"
          },
          "metadata": {
            "needs_background": "light"
          }
        }
      ]
    },
    {
      "cell_type": "markdown",
      "source": [
        "# Checking distribution of category containing null and non null prices in column price_string"
      ],
      "metadata": {
        "id": "o-UO1kKl40kW"
      }
    },
    {
      "cell_type": "code",
      "source": [
        "# total type of category and its count\n",
        "df.category.value_counts()"
      ],
      "metadata": {
        "colab": {
          "base_uri": "https://localhost:8080/"
        },
        "id": "DG2hPujFIqSI",
        "outputId": "7c40a55d-a4c2-43a1-8e0f-4966b80f420f"
      },
      "execution_count": null,
      "outputs": [
        {
          "output_type": "execute_result",
          "data": {
            "text/plain": [
              "Q2xvdGhpbmcgYW5kIEFjY2Vzc29yaWVz       391\n",
              "Z3JvY2VyaWVz                           161\n",
              "SG91c2Vob2xkIGFuZCBDbGVhbmluZw         157\n",
              "YmVhdXR5IGFuZCBwZXJzb25hbCBjYXJl       147\n",
              "SGVhbHRo                                99\n",
              "VG95cyBhbmQgR2FtZXM                     79\n",
              "cGV0IHN1cHBsaWVz                        74\n",
              "QmFieWNhcmU                             66\n",
              "a2l0Y2hpbmcgYW5kIGRpbmluZw              59\n",
              "VG9vbHMgYW5kIGhvbWUgaW1wcm92ZW1lbnQ     52\n",
              "RWxlY3Ryb25pY3M                         32\n",
              "QXJ0IHN1cHBsaWVz                        32\n",
              "b2ZmaWNlIHByb2R1Y3Rz                    23\n",
              "Name: category, dtype: int64"
            ]
          },
          "metadata": {},
          "execution_count": 205
        }
      ]
    },
    {
      "cell_type": "code",
      "source": [
        "#total null value in product_type\n",
        "\n",
        "len(df[df['category'].isnull()])"
      ],
      "metadata": {
        "colab": {
          "base_uri": "https://localhost:8080/"
        },
        "id": "n3jytH1cI6Xp",
        "outputId": "5037be8a-9265-420a-b9af-db2fe714ec6c"
      },
      "execution_count": null,
      "outputs": [
        {
          "output_type": "execute_result",
          "data": {
            "text/plain": [
              "0"
            ]
          },
          "metadata": {},
          "execution_count": 206
        }
      ]
    },
    {
      "cell_type": "code",
      "source": [
        "# data frame with type of category and its count\n",
        "type_of_category = pd.DataFrame(df.groupby('category')['category'].size().sort_values(ascending = False))\n",
        "\n",
        "type_of_category"
      ],
      "metadata": {
        "colab": {
          "base_uri": "https://localhost:8080/",
          "height": 488
        },
        "id": "lSdmgkq1JLtI",
        "outputId": "c15c6116-f938-4fb7-9db4-8af981256187"
      },
      "execution_count": null,
      "outputs": [
        {
          "output_type": "execute_result",
          "data": {
            "text/plain": [
              "                                     category\n",
              "category                                     \n",
              "Q2xvdGhpbmcgYW5kIEFjY2Vzc29yaWVz          391\n",
              "Z3JvY2VyaWVz                              161\n",
              "SG91c2Vob2xkIGFuZCBDbGVhbmluZw            157\n",
              "YmVhdXR5IGFuZCBwZXJzb25hbCBjYXJl          147\n",
              "SGVhbHRo                                   99\n",
              "VG95cyBhbmQgR2FtZXM                        79\n",
              "cGV0IHN1cHBsaWVz                           74\n",
              "QmFieWNhcmU                                66\n",
              "a2l0Y2hpbmcgYW5kIGRpbmluZw                 59\n",
              "VG9vbHMgYW5kIGhvbWUgaW1wcm92ZW1lbnQ        52\n",
              "QXJ0IHN1cHBsaWVz                           32\n",
              "RWxlY3Ryb25pY3M                            32\n",
              "b2ZmaWNlIHByb2R1Y3Rz                       23"
            ],
            "text/html": [
              "\n",
              "  <div id=\"df-65d7f6bc-ba62-47de-9ce4-2278ade14912\">\n",
              "    <div class=\"colab-df-container\">\n",
              "      <div>\n",
              "<style scoped>\n",
              "    .dataframe tbody tr th:only-of-type {\n",
              "        vertical-align: middle;\n",
              "    }\n",
              "\n",
              "    .dataframe tbody tr th {\n",
              "        vertical-align: top;\n",
              "    }\n",
              "\n",
              "    .dataframe thead th {\n",
              "        text-align: right;\n",
              "    }\n",
              "</style>\n",
              "<table border=\"1\" class=\"dataframe\">\n",
              "  <thead>\n",
              "    <tr style=\"text-align: right;\">\n",
              "      <th></th>\n",
              "      <th>category</th>\n",
              "    </tr>\n",
              "    <tr>\n",
              "      <th>category</th>\n",
              "      <th></th>\n",
              "    </tr>\n",
              "  </thead>\n",
              "  <tbody>\n",
              "    <tr>\n",
              "      <th>Q2xvdGhpbmcgYW5kIEFjY2Vzc29yaWVz</th>\n",
              "      <td>391</td>\n",
              "    </tr>\n",
              "    <tr>\n",
              "      <th>Z3JvY2VyaWVz</th>\n",
              "      <td>161</td>\n",
              "    </tr>\n",
              "    <tr>\n",
              "      <th>SG91c2Vob2xkIGFuZCBDbGVhbmluZw</th>\n",
              "      <td>157</td>\n",
              "    </tr>\n",
              "    <tr>\n",
              "      <th>YmVhdXR5IGFuZCBwZXJzb25hbCBjYXJl</th>\n",
              "      <td>147</td>\n",
              "    </tr>\n",
              "    <tr>\n",
              "      <th>SGVhbHRo</th>\n",
              "      <td>99</td>\n",
              "    </tr>\n",
              "    <tr>\n",
              "      <th>VG95cyBhbmQgR2FtZXM</th>\n",
              "      <td>79</td>\n",
              "    </tr>\n",
              "    <tr>\n",
              "      <th>cGV0IHN1cHBsaWVz</th>\n",
              "      <td>74</td>\n",
              "    </tr>\n",
              "    <tr>\n",
              "      <th>QmFieWNhcmU</th>\n",
              "      <td>66</td>\n",
              "    </tr>\n",
              "    <tr>\n",
              "      <th>a2l0Y2hpbmcgYW5kIGRpbmluZw</th>\n",
              "      <td>59</td>\n",
              "    </tr>\n",
              "    <tr>\n",
              "      <th>VG9vbHMgYW5kIGhvbWUgaW1wcm92ZW1lbnQ</th>\n",
              "      <td>52</td>\n",
              "    </tr>\n",
              "    <tr>\n",
              "      <th>QXJ0IHN1cHBsaWVz</th>\n",
              "      <td>32</td>\n",
              "    </tr>\n",
              "    <tr>\n",
              "      <th>RWxlY3Ryb25pY3M</th>\n",
              "      <td>32</td>\n",
              "    </tr>\n",
              "    <tr>\n",
              "      <th>b2ZmaWNlIHByb2R1Y3Rz</th>\n",
              "      <td>23</td>\n",
              "    </tr>\n",
              "  </tbody>\n",
              "</table>\n",
              "</div>\n",
              "      <button class=\"colab-df-convert\" onclick=\"convertToInteractive('df-65d7f6bc-ba62-47de-9ce4-2278ade14912')\"\n",
              "              title=\"Convert this dataframe to an interactive table.\"\n",
              "              style=\"display:none;\">\n",
              "        \n",
              "  <svg xmlns=\"http://www.w3.org/2000/svg\" height=\"24px\"viewBox=\"0 0 24 24\"\n",
              "       width=\"24px\">\n",
              "    <path d=\"M0 0h24v24H0V0z\" fill=\"none\"/>\n",
              "    <path d=\"M18.56 5.44l.94 2.06.94-2.06 2.06-.94-2.06-.94-.94-2.06-.94 2.06-2.06.94zm-11 1L8.5 8.5l.94-2.06 2.06-.94-2.06-.94L8.5 2.5l-.94 2.06-2.06.94zm10 10l.94 2.06.94-2.06 2.06-.94-2.06-.94-.94-2.06-.94 2.06-2.06.94z\"/><path d=\"M17.41 7.96l-1.37-1.37c-.4-.4-.92-.59-1.43-.59-.52 0-1.04.2-1.43.59L10.3 9.45l-7.72 7.72c-.78.78-.78 2.05 0 2.83L4 21.41c.39.39.9.59 1.41.59.51 0 1.02-.2 1.41-.59l7.78-7.78 2.81-2.81c.8-.78.8-2.07 0-2.86zM5.41 20L4 18.59l7.72-7.72 1.47 1.35L5.41 20z\"/>\n",
              "  </svg>\n",
              "      </button>\n",
              "      \n",
              "  <style>\n",
              "    .colab-df-container {\n",
              "      display:flex;\n",
              "      flex-wrap:wrap;\n",
              "      gap: 12px;\n",
              "    }\n",
              "\n",
              "    .colab-df-convert {\n",
              "      background-color: #E8F0FE;\n",
              "      border: none;\n",
              "      border-radius: 50%;\n",
              "      cursor: pointer;\n",
              "      display: none;\n",
              "      fill: #1967D2;\n",
              "      height: 32px;\n",
              "      padding: 0 0 0 0;\n",
              "      width: 32px;\n",
              "    }\n",
              "\n",
              "    .colab-df-convert:hover {\n",
              "      background-color: #E2EBFA;\n",
              "      box-shadow: 0px 1px 2px rgba(60, 64, 67, 0.3), 0px 1px 3px 1px rgba(60, 64, 67, 0.15);\n",
              "      fill: #174EA6;\n",
              "    }\n",
              "\n",
              "    [theme=dark] .colab-df-convert {\n",
              "      background-color: #3B4455;\n",
              "      fill: #D2E3FC;\n",
              "    }\n",
              "\n",
              "    [theme=dark] .colab-df-convert:hover {\n",
              "      background-color: #434B5C;\n",
              "      box-shadow: 0px 1px 3px 1px rgba(0, 0, 0, 0.15);\n",
              "      filter: drop-shadow(0px 1px 2px rgba(0, 0, 0, 0.3));\n",
              "      fill: #FFFFFF;\n",
              "    }\n",
              "  </style>\n",
              "\n",
              "      <script>\n",
              "        const buttonEl =\n",
              "          document.querySelector('#df-65d7f6bc-ba62-47de-9ce4-2278ade14912 button.colab-df-convert');\n",
              "        buttonEl.style.display =\n",
              "          google.colab.kernel.accessAllowed ? 'block' : 'none';\n",
              "\n",
              "        async function convertToInteractive(key) {\n",
              "          const element = document.querySelector('#df-65d7f6bc-ba62-47de-9ce4-2278ade14912');\n",
              "          const dataTable =\n",
              "            await google.colab.kernel.invokeFunction('convertToInteractive',\n",
              "                                                     [key], {});\n",
              "          if (!dataTable) return;\n",
              "\n",
              "          const docLinkHtml = 'Like what you see? Visit the ' +\n",
              "            '<a target=\"_blank\" href=https://colab.research.google.com/notebooks/data_table.ipynb>data table notebook</a>'\n",
              "            + ' to learn more about interactive tables.';\n",
              "          element.innerHTML = '';\n",
              "          dataTable['output_type'] = 'display_data';\n",
              "          await google.colab.output.renderOutput(dataTable, element);\n",
              "          const docLink = document.createElement('div');\n",
              "          docLink.innerHTML = docLinkHtml;\n",
              "          element.appendChild(docLink);\n",
              "        }\n",
              "      </script>\n",
              "    </div>\n",
              "  </div>\n",
              "  "
            ]
          },
          "metadata": {},
          "execution_count": 207
        }
      ]
    },
    {
      "cell_type": "code",
      "source": [
        "#Distribution of type of category including null and non null prices\n",
        "\n",
        "sns.displot(type_of_category,bins = 5)\n",
        "\n",
        "plt.xlabel(\"count of type_of_category\")\n",
        "plt.ylabel(\"No of type_of_category having specific count\")\n",
        "plt.title(\"Distribution of type of category including null and non null prices\")"
      ],
      "metadata": {
        "colab": {
          "base_uri": "https://localhost:8080/",
          "height": 417
        },
        "id": "kl8s4sjfJXMg",
        "outputId": "6c812025-231f-4e71-aeea-8f7520b8bd85"
      },
      "execution_count": null,
      "outputs": [
        {
          "output_type": "execute_result",
          "data": {
            "text/plain": [
              "Text(0.5, 1.0, 'Distribution of type of category including null and non null prices')"
            ]
          },
          "metadata": {},
          "execution_count": 208
        },
        {
          "output_type": "display_data",
          "data": {
            "text/plain": [
              "<Figure size 440x360 with 1 Axes>"
            ],
            "image/png": "[encoded data removed]"
          },
          "metadata": {
            "needs_background": "light"
          }
        }
      ]
    },
    {
      "cell_type": "markdown",
      "source": [
        "# Checking Price_string column"
      ],
      "metadata": {
        "id": "lSPYkyuEqhSh"
      }
    },
    {
      "cell_type": "code",
      "source": [
        "#converting price_string column datatype to string\n",
        "\n",
        "df['price_string'] = df['price_string'].astype('string')"
      ],
      "metadata": {
        "id": "Ra1tRdCFql4V"
      },
      "execution_count": null,
      "outputs": []
    },
    {
      "cell_type": "code",
      "source": [
        "df.info()"
      ],
      "metadata": {
        "colab": {
          "base_uri": "https://localhost:8080/"
        },
        "id": "q0lPF4S4rs4k",
        "outputId": "503352c5-78f4-48bb-dd0c-de52a57ac35d"
      },
      "execution_count": null,
      "outputs": [
        {
          "output_type": "stream",
          "name": "stdout",
          "text": [
            "<class 'pandas.core.frame.DataFrame'>\n",
            "Int64Index: 1372 entries, 0 to 13511\n",
            "Data columns (total 5 columns):\n",
            " #   Column        Non-Null Count  Dtype \n",
            "---  ------        --------------  ----- \n",
            " 0   uuid          1372 non-null   object\n",
            " 1   price_string  551 non-null    string\n",
            " 2   product_type  1372 non-null   object\n",
            " 3   level_1       1368 non-null   object\n",
            " 4   category      1372 non-null   object\n",
            "dtypes: object(4), string(1)\n",
            "memory usage: 64.3+ KB\n"
          ]
        }
      ]
    },
    {
      "cell_type": "code",
      "source": [
        "df['price_string'].head(10)"
      ],
      "metadata": {
        "colab": {
          "base_uri": "https://localhost:8080/"
        },
        "id": "52jExozZudI-",
        "outputId": "5a7654d6-3c46-4941-852a-b769ec475b62"
      },
      "execution_count": null,
      "outputs": [
        {
          "output_type": "execute_result",
          "data": {
            "text/plain": [
              "0       <NA>\n",
              "1       <NA>\n",
              "2     $19.95\n",
              "3     $92.00\n",
              "4      11.50\n",
              "5       <NA>\n",
              "6     $24.99\n",
              "7    $148.00\n",
              "8        $89\n",
              "9     $14.95\n",
              "Name: price_string, dtype: string"
            ]
          },
          "metadata": {},
          "execution_count": 211
        }
      ]
    },
    {
      "cell_type": "markdown",
      "source": [
        "# EDA on price string with NULL value and comparision with\n",
        "1. product type vs null price_sring\n",
        "2. category vs null price_sring\n",
        "3. level 1 vs null price_sring\n",
        "\n",
        "with charts"
      ],
      "metadata": {
        "id": "URuwwGoiLiNd"
      }
    },
    {
      "cell_type": "markdown",
      "source": [
        "# Seperating data frame consisting of null prices in price_string columns\n",
        "\n",
        "Creating data frame \"price_null_df\" with null price_string"
      ],
      "metadata": {
        "id": "xF_m2US43hdF"
      }
    },
    {
      "cell_type": "code",
      "source": [
        "# creating data frame with null price_string\n",
        "price_null_df= df[df['price_string'].isnull()]"
      ],
      "metadata": {
        "id": "dCk7qtTVv790"
      },
      "execution_count": null,
      "outputs": []
    },
    {
      "cell_type": "code",
      "source": [
        "# null price and product list\n",
        "product_with_price_null = price_null_df[['product_type','price_string']].reset_index()"
      ],
      "metadata": {
        "id": "Cih-CQeXwgwO"
      },
      "execution_count": null,
      "outputs": []
    },
    {
      "cell_type": "markdown",
      "source": [
        "# Count of Product type having  null price in price_string"
      ],
      "metadata": {
        "id": "gP6BLkS1MGuC"
      }
    },
    {
      "cell_type": "code",
      "source": [
        "#count of product_type which has price null\n",
        "count_of_product_with_null_price = len(product_with_price_null)\n",
        "count_of_product_with_null_price"
      ],
      "metadata": {
        "colab": {
          "base_uri": "https://localhost:8080/"
        },
        "id": "k4nUCBaIxWA0",
        "outputId": "397d0cf7-0c04-4c51-e417-a12c59dc6d20"
      },
      "execution_count": null,
      "outputs": [
        {
          "output_type": "execute_result",
          "data": {
            "text/plain": [
              "821"
            ]
          },
          "metadata": {},
          "execution_count": 214
        }
      ]
    },
    {
      "cell_type": "code",
      "source": [
        "# count of unique product with null prices\n",
        "\n",
        "df.groupby('product_type')['price_string'].size()"
      ],
      "metadata": {
        "colab": {
          "base_uri": "https://localhost:8080/"
        },
        "id": "8Ir6htCTxXfx",
        "outputId": "b94cce8f-869c-40e4-f85a-16e778e75552"
      },
      "execution_count": null,
      "outputs": [
        {
          "output_type": "execute_result",
          "data": {
            "text/plain": [
              "product_type\n",
              "Q0FUIExJVFRFUg                              3\n",
              "Q29mZmVlIEJlYW5z                            8\n",
              "Q29mZmVlIEZpbHRlcnM                         1\n",
              "Q29uZGl0aW9uZXIgSGFpcg                      3\n",
              "Q29va2llcw                                  3\n",
              "                                           ..\n",
              "cGV0IEJsYW5rZXQ                             2\n",
              "cGV0IFN0YWluIGFuZCBvZG9yIGVsaW1pbmF0b3I     1\n",
              "d29tZW5zIE91dGVyd2Vhcg                     15\n",
              "d29tZW5zIFdhbGxldA                          3\n",
              "d29tZW5zIHN3ZWF0ZXJz                       12\n",
              "Name: price_string, Length: 321, dtype: int64"
            ]
          },
          "metadata": {},
          "execution_count": 215
        }
      ]
    },
    {
      "cell_type": "code",
      "source": [
        "unique_product_type_null_price_count_df = pd.DataFrame(df.groupby('product_type')['price_string'].size()).sort_values(by = 'price_string' ,ascending = False).reset_index()"
      ],
      "metadata": {
        "id": "YjFbn3VvyLho"
      },
      "execution_count": null,
      "outputs": []
    },
    {
      "cell_type": "code",
      "source": [
        "unique_product_type_null_price_count_df"
      ],
      "metadata": {
        "colab": {
          "base_uri": "https://localhost:8080/",
          "height": 424
        },
        "id": "a_P3WnUHy5QD",
        "outputId": "d982f6b3-c822-4301-ee56-ba364979d264"
      },
      "execution_count": null,
      "outputs": [
        {
          "output_type": "execute_result",
          "data": {
            "text/plain": [
              "                                     product_type  price_string\n",
              "0             U2NydWJzIGFuZCBjbGVhbmluZyBjbG90aHM            20\n",
              "1                            V29tZW5zIHN3aW13ZWFy            19\n",
              "2          V29tZW5zIHdvcmt3ZWFyLyBvZmZpY2Ugd2Vhcg            17\n",
              "3      UGxhbnQgYmFzZWQgUHJvdGVpbiBTdXBwbGVtZW50cw            15\n",
              "4                                V29tZW5zIFBhbnRz            15\n",
              "..                                            ...           ...\n",
              "316                           UG93ZXIgQWRhcHRlcnM             1\n",
              "317                              SGlnaGxpZ2h0ZXJz             1\n",
              "318           UEVUIFNUQUlOIFJFTU9WRVIvQ0xFQU5FUlM             1\n",
              "319                                  U3Vuc2NyZWVu             1\n",
              "320  UEVUIFNUQUlOIGFuZCBPRE9SIFJFTU9WRVIgLSBQT1VS             1\n",
              "\n",
              "[321 rows x 2 columns]"
            ],
            "text/html": [
              "\n",
              "  <div id=\"df-e48821c2-8a82-45a2-b8bd-108899ed9b98\">\n",
              "    <div class=\"colab-df-container\">\n",
              "      <div>\n",
              "<style scoped>\n",
              "    .dataframe tbody tr th:only-of-type {\n",
              "        vertical-align: middle;\n",
              "    }\n",
              "\n",
              "    .dataframe tbody tr th {\n",
              "        vertical-align: top;\n",
              "    }\n",
              "\n",
              "    .dataframe thead th {\n",
              "        text-align: right;\n",
              "    }\n",
              "</style>\n",
              "<table border=\"1\" class=\"dataframe\">\n",
              "  <thead>\n",
              "    <tr style=\"text-align: right;\">\n",
              "      <th></th>\n",
              "      <th>product_type</th>\n",
              "      <th>price_string</th>\n",
              "    </tr>\n",
              "  </thead>\n",
              "  <tbody>\n",
              "    <tr>\n",
              "      <th>0</th>\n",
              "      <td>U2NydWJzIGFuZCBjbGVhbmluZyBjbG90aHM</td>\n",
              "      <td>20</td>\n",
              "    </tr>\n",
              "    <tr>\n",
              "      <th>1</th>\n",
              "      <td>V29tZW5zIHN3aW13ZWFy</td>\n",
              "      <td>19</td>\n",
              "    </tr>\n",
              "    <tr>\n",
              "      <th>2</th>\n",
              "      <td>V29tZW5zIHdvcmt3ZWFyLyBvZmZpY2Ugd2Vhcg</td>\n",
              "      <td>17</td>\n",
              "    </tr>\n",
              "    <tr>\n",
              "      <th>3</th>\n",
              "      <td>UGxhbnQgYmFzZWQgUHJvdGVpbiBTdXBwbGVtZW50cw</td>\n",
              "      <td>15</td>\n",
              "    </tr>\n",
              "    <tr>\n",
              "      <th>4</th>\n",
              "      <td>V29tZW5zIFBhbnRz</td>\n",
              "      <td>15</td>\n",
              "    </tr>\n",
              "    <tr>\n",
              "      <th>...</th>\n",
              "      <td>...</td>\n",
              "      <td>...</td>\n",
              "    </tr>\n",
              "    <tr>\n",
              "      <th>316</th>\n",
              "      <td>UG93ZXIgQWRhcHRlcnM</td>\n",
              "      <td>1</td>\n",
              "    </tr>\n",
              "    <tr>\n",
              "      <th>317</th>\n",
              "      <td>SGlnaGxpZ2h0ZXJz</td>\n",
              "      <td>1</td>\n",
              "    </tr>\n",
              "    <tr>\n",
              "      <th>318</th>\n",
              "      <td>UEVUIFNUQUlOIFJFTU9WRVIvQ0xFQU5FUlM</td>\n",
              "      <td>1</td>\n",
              "    </tr>\n",
              "    <tr>\n",
              "      <th>319</th>\n",
              "      <td>U3Vuc2NyZWVu</td>\n",
              "      <td>1</td>\n",
              "    </tr>\n",
              "    <tr>\n",
              "      <th>320</th>\n",
              "      <td>UEVUIFNUQUlOIGFuZCBPRE9SIFJFTU9WRVIgLSBQT1VS</td>\n",
              "      <td>1</td>\n",
              "    </tr>\n",
              "  </tbody>\n",
              "</table>\n",
              "<p>321 rows × 2 columns</p>\n",
              "</div>\n",
              "      <button class=\"colab-df-convert\" onclick=\"convertToInteractive('df-e48821c2-8a82-45a2-b8bd-108899ed9b98')\"\n",
              "              title=\"Convert this dataframe to an interactive table.\"\n",
              "              style=\"display:none;\">\n",
              "        \n",
              "  <svg xmlns=\"http://www.w3.org/2000/svg\" height=\"24px\"viewBox=\"0 0 24 24\"\n",
              "       width=\"24px\">\n",
              "    <path d=\"M0 0h24v24H0V0z\" fill=\"none\"/>\n",
              "    <path d=\"M18.56 5.44l.94 2.06.94-2.06 2.06-.94-2.06-.94-.94-2.06-.94 2.06-2.06.94zm-11 1L8.5 8.5l.94-2.06 2.06-.94-2.06-.94L8.5 2.5l-.94 2.06-2.06.94zm10 10l.94 2.06.94-2.06 2.06-.94-2.06-.94-.94-2.06-.94 2.06-2.06.94z\"/><path d=\"M17.41 7.96l-1.37-1.37c-.4-.4-.92-.59-1.43-.59-.52 0-1.04.2-1.43.59L10.3 9.45l-7.72 7.72c-.78.78-.78 2.05 0 2.83L4 21.41c.39.39.9.59 1.41.59.51 0 1.02-.2 1.41-.59l7.78-7.78 2.81-2.81c.8-.78.8-2.07 0-2.86zM5.41 20L4 18.59l7.72-7.72 1.47 1.35L5.41 20z\"/>\n",
              "  </svg>\n",
              "      </button>\n",
              "      \n",
              "  <style>\n",
              "    .colab-df-container {\n",
              "      display:flex;\n",
              "      flex-wrap:wrap;\n",
              "      gap: 12px;\n",
              "    }\n",
              "\n",
              "    .colab-df-convert {\n",
              "      background-color: #E8F0FE;\n",
              "      border: none;\n",
              "      border-radius: 50%;\n",
              "      cursor: pointer;\n",
              "      display: none;\n",
              "      fill: #1967D2;\n",
              "      height: 32px;\n",
              "      padding: 0 0 0 0;\n",
              "      width: 32px;\n",
              "    }\n",
              "\n",
              "    .colab-df-convert:hover {\n",
              "      background-color: #E2EBFA;\n",
              "      box-shadow: 0px 1px 2px rgba(60, 64, 67, 0.3), 0px 1px 3px 1px rgba(60, 64, 67, 0.15);\n",
              "      fill: #174EA6;\n",
              "    }\n",
              "\n",
              "    [theme=dark] .colab-df-convert {\n",
              "      background-color: #3B4455;\n",
              "      fill: #D2E3FC;\n",
              "    }\n",
              "\n",
              "    [theme=dark] .colab-df-convert:hover {\n",
              "      background-color: #434B5C;\n",
              "      box-shadow: 0px 1px 3px 1px rgba(0, 0, 0, 0.15);\n",
              "      filter: drop-shadow(0px 1px 2px rgba(0, 0, 0, 0.3));\n",
              "      fill: #FFFFFF;\n",
              "    }\n",
              "  </style>\n",
              "\n",
              "      <script>\n",
              "        const buttonEl =\n",
              "          document.querySelector('#df-e48821c2-8a82-45a2-b8bd-108899ed9b98 button.colab-df-convert');\n",
              "        buttonEl.style.display =\n",
              "          google.colab.kernel.accessAllowed ? 'block' : 'none';\n",
              "\n",
              "        async function convertToInteractive(key) {\n",
              "          const element = document.querySelector('#df-e48821c2-8a82-45a2-b8bd-108899ed9b98');\n",
              "          const dataTable =\n",
              "            await google.colab.kernel.invokeFunction('convertToInteractive',\n",
              "                                                     [key], {});\n",
              "          if (!dataTable) return;\n",
              "\n",
              "          const docLinkHtml = 'Like what you see? Visit the ' +\n",
              "            '<a target=\"_blank\" href=https://colab.research.google.com/notebooks/data_table.ipynb>data table notebook</a>'\n",
              "            + ' to learn more about interactive tables.';\n",
              "          element.innerHTML = '';\n",
              "          dataTable['output_type'] = 'display_data';\n",
              "          await google.colab.output.renderOutput(dataTable, element);\n",
              "          const docLink = document.createElement('div');\n",
              "          docLink.innerHTML = docLinkHtml;\n",
              "          element.appendChild(docLink);\n",
              "        }\n",
              "      </script>\n",
              "    </div>\n",
              "  </div>\n",
              "  "
            ]
          },
          "metadata": {},
          "execution_count": 217
        }
      ]
    },
    {
      "cell_type": "code",
      "source": [
        "unique_product_type_null_price_coun_df = unique_product_type_null_price_count_df.rename(columns = {'price_string' : 'count'} )"
      ],
      "metadata": {
        "id": "cjEPCHbmy7WP"
      },
      "execution_count": null,
      "outputs": []
    },
    {
      "cell_type": "code",
      "source": [
        "unique_product_type_null_price_coun_df =unique_product_type_null_price_coun_df[unique_product_type_null_price_coun_df['count']>0]"
      ],
      "metadata": {
        "id": "hTCwBbKE1eRH"
      },
      "execution_count": null,
      "outputs": []
    },
    {
      "cell_type": "code",
      "source": [
        "unique_product_with_null_price_df = unique_product_type_null_price_coun_df.sort_values(by = 'count',ascending =False).reset_index()"
      ],
      "metadata": {
        "id": "zPMAjszL2PMJ"
      },
      "execution_count": null,
      "outputs": []
    },
    {
      "cell_type": "code",
      "source": [
        "# creating data frame having group of unique product type and its counts\n",
        "\n",
        "unique_product_with_null_price_df"
      ],
      "metadata": {
        "colab": {
          "base_uri": "https://localhost:8080/",
          "height": 424
        },
        "id": "Q6coiWCR3zpv",
        "outputId": "951028db-12be-4c69-e3ce-b845f26a77c9"
      },
      "execution_count": null,
      "outputs": [
        {
          "output_type": "execute_result",
          "data": {
            "text/plain": [
              "     index                                  product_type  count\n",
              "0        0           U2NydWJzIGFuZCBjbGVhbmluZyBjbG90aHM     20\n",
              "1        1                          V29tZW5zIHN3aW13ZWFy     19\n",
              "2        2        V29tZW5zIHdvcmt3ZWFyLyBvZmZpY2Ugd2Vhcg     17\n",
              "3        3    UGxhbnQgYmFzZWQgUHJvdGVpbiBTdXBwbGVtZW50cw     15\n",
              "4        4                              V29tZW5zIFBhbnRz     15\n",
              "..     ...                                           ...    ...\n",
              "316    288                               RmFjZSBTY3J1YnM      1\n",
              "317    289                                  S2V5Ym9hcmRz      1\n",
              "318    290               Qm9keSBPaWwvIEVzc2VudGlhbCBPaWw      1\n",
              "319    291               S2lkcyBDcmVhbXMgYW5kIExvdGlvbnM      1\n",
              "320    320  UEVUIFNUQUlOIGFuZCBPRE9SIFJFTU9WRVIgLSBQT1VS      1\n",
              "\n",
              "[321 rows x 3 columns]"
            ],
            "text/html": [
              "\n",
              "  <div id=\"df-39fbf9a2-da6a-4795-afa7-f83c2068e314\">\n",
              "    <div class=\"colab-df-container\">\n",
              "      <div>\n",
              "<style scoped>\n",
              "    .dataframe tbody tr th:only-of-type {\n",
              "        vertical-align: middle;\n",
              "    }\n",
              "\n",
              "    .dataframe tbody tr th {\n",
              "        vertical-align: top;\n",
              "    }\n",
              "\n",
              "    .dataframe thead th {\n",
              "        text-align: right;\n",
              "    }\n",
              "</style>\n",
              "<table border=\"1\" class=\"dataframe\">\n",
              "  <thead>\n",
              "    <tr style=\"text-align: right;\">\n",
              "      <th></th>\n",
              "      <th>index</th>\n",
              "      <th>product_type</th>\n",
              "      <th>count</th>\n",
              "    </tr>\n",
              "  </thead>\n",
              "  <tbody>\n",
              "    <tr>\n",
              "      <th>0</th>\n",
              "      <td>0</td>\n",
              "      <td>U2NydWJzIGFuZCBjbGVhbmluZyBjbG90aHM</td>\n",
              "      <td>20</td>\n",
              "    </tr>\n",
              "    <tr>\n",
              "      <th>1</th>\n",
              "      <td>1</td>\n",
              "      <td>V29tZW5zIHN3aW13ZWFy</td>\n",
              "      <td>19</td>\n",
              "    </tr>\n",
              "    <tr>\n",
              "      <th>2</th>\n",
              "      <td>2</td>\n",
              "      <td>V29tZW5zIHdvcmt3ZWFyLyBvZmZpY2Ugd2Vhcg</td>\n",
              "      <td>17</td>\n",
              "    </tr>\n",
              "    <tr>\n",
              "      <th>3</th>\n",
              "      <td>3</td>\n",
              "      <td>UGxhbnQgYmFzZWQgUHJvdGVpbiBTdXBwbGVtZW50cw</td>\n",
              "      <td>15</td>\n",
              "    </tr>\n",
              "    <tr>\n",
              "      <th>4</th>\n",
              "      <td>4</td>\n",
              "      <td>V29tZW5zIFBhbnRz</td>\n",
              "      <td>15</td>\n",
              "    </tr>\n",
              "    <tr>\n",
              "      <th>...</th>\n",
              "      <td>...</td>\n",
              "      <td>...</td>\n",
              "      <td>...</td>\n",
              "    </tr>\n",
              "    <tr>\n",
              "      <th>316</th>\n",
              "      <td>288</td>\n",
              "      <td>RmFjZSBTY3J1YnM</td>\n",
              "      <td>1</td>\n",
              "    </tr>\n",
              "    <tr>\n",
              "      <th>317</th>\n",
              "      <td>289</td>\n",
              "      <td>S2V5Ym9hcmRz</td>\n",
              "      <td>1</td>\n",
              "    </tr>\n",
              "    <tr>\n",
              "      <th>318</th>\n",
              "      <td>290</td>\n",
              "      <td>Qm9keSBPaWwvIEVzc2VudGlhbCBPaWw</td>\n",
              "      <td>1</td>\n",
              "    </tr>\n",
              "    <tr>\n",
              "      <th>319</th>\n",
              "      <td>291</td>\n",
              "      <td>S2lkcyBDcmVhbXMgYW5kIExvdGlvbnM</td>\n",
              "      <td>1</td>\n",
              "    </tr>\n",
              "    <tr>\n",
              "      <th>320</th>\n",
              "      <td>320</td>\n",
              "      <td>UEVUIFNUQUlOIGFuZCBPRE9SIFJFTU9WRVIgLSBQT1VS</td>\n",
              "      <td>1</td>\n",
              "    </tr>\n",
              "  </tbody>\n",
              "</table>\n",
              "<p>321 rows × 3 columns</p>\n",
              "</div>\n",
              "      <button class=\"colab-df-convert\" onclick=\"convertToInteractive('df-39fbf9a2-da6a-4795-afa7-f83c2068e314')\"\n",
              "              title=\"Convert this dataframe to an interactive table.\"\n",
              "              style=\"display:none;\">\n",
              "        \n",
              "  <svg xmlns=\"http://www.w3.org/2000/svg\" height=\"24px\"viewBox=\"0 0 24 24\"\n",
              "       width=\"24px\">\n",
              "    <path d=\"M0 0h24v24H0V0z\" fill=\"none\"/>\n",
              "    <path d=\"M18.56 5.44l.94 2.06.94-2.06 2.06-.94-2.06-.94-.94-2.06-.94 2.06-2.06.94zm-11 1L8.5 8.5l.94-2.06 2.06-.94-2.06-.94L8.5 2.5l-.94 2.06-2.06.94zm10 10l.94 2.06.94-2.06 2.06-.94-2.06-.94-.94-2.06-.94 2.06-2.06.94z\"/><path d=\"M17.41 7.96l-1.37-1.37c-.4-.4-.92-.59-1.43-.59-.52 0-1.04.2-1.43.59L10.3 9.45l-7.72 7.72c-.78.78-.78 2.05 0 2.83L4 21.41c.39.39.9.59 1.41.59.51 0 1.02-.2 1.41-.59l7.78-7.78 2.81-2.81c.8-.78.8-2.07 0-2.86zM5.41 20L4 18.59l7.72-7.72 1.47 1.35L5.41 20z\"/>\n",
              "  </svg>\n",
              "      </button>\n",
              "      \n",
              "  <style>\n",
              "    .colab-df-container {\n",
              "      display:flex;\n",
              "      flex-wrap:wrap;\n",
              "      gap: 12px;\n",
              "    }\n",
              "\n",
              "    .colab-df-convert {\n",
              "      background-color: #E8F0FE;\n",
              "      border: none;\n",
              "      border-radius: 50%;\n",
              "      cursor: pointer;\n",
              "      display: none;\n",
              "      fill: #1967D2;\n",
              "      height: 32px;\n",
              "      padding: 0 0 0 0;\n",
              "      width: 32px;\n",
              "    }\n",
              "\n",
              "    .colab-df-convert:hover {\n",
              "      background-color: #E2EBFA;\n",
              "      box-shadow: 0px 1px 2px rgba(60, 64, 67, 0.3), 0px 1px 3px 1px rgba(60, 64, 67, 0.15);\n",
              "      fill: #174EA6;\n",
              "    }\n",
              "\n",
              "    [theme=dark] .colab-df-convert {\n",
              "      background-color: #3B4455;\n",
              "      fill: #D2E3FC;\n",
              "    }\n",
              "\n",
              "    [theme=dark] .colab-df-convert:hover {\n",
              "      background-color: #434B5C;\n",
              "      box-shadow: 0px 1px 3px 1px rgba(0, 0, 0, 0.15);\n",
              "      filter: drop-shadow(0px 1px 2px rgba(0, 0, 0, 0.3));\n",
              "      fill: #FFFFFF;\n",
              "    }\n",
              "  </style>\n",
              "\n",
              "      <script>\n",
              "        const buttonEl =\n",
              "          document.querySelector('#df-39fbf9a2-da6a-4795-afa7-f83c2068e314 button.colab-df-convert');\n",
              "        buttonEl.style.display =\n",
              "          google.colab.kernel.accessAllowed ? 'block' : 'none';\n",
              "\n",
              "        async function convertToInteractive(key) {\n",
              "          const element = document.querySelector('#df-39fbf9a2-da6a-4795-afa7-f83c2068e314');\n",
              "          const dataTable =\n",
              "            await google.colab.kernel.invokeFunction('convertToInteractive',\n",
              "                                                     [key], {});\n",
              "          if (!dataTable) return;\n",
              "\n",
              "          const docLinkHtml = 'Like what you see? Visit the ' +\n",
              "            '<a target=\"_blank\" href=https://colab.research.google.com/notebooks/data_table.ipynb>data table notebook</a>'\n",
              "            + ' to learn more about interactive tables.';\n",
              "          element.innerHTML = '';\n",
              "          dataTable['output_type'] = 'display_data';\n",
              "          await google.colab.output.renderOutput(dataTable, element);\n",
              "          const docLink = document.createElement('div');\n",
              "          docLink.innerHTML = docLinkHtml;\n",
              "          element.appendChild(docLink);\n",
              "        }\n",
              "      </script>\n",
              "    </div>\n",
              "  </div>\n",
              "  "
            ]
          },
          "metadata": {},
          "execution_count": 221
        }
      ]
    },
    {
      "cell_type": "code",
      "source": [
        "#Distribution Unique product with null price\n",
        "\n",
        "sns.displot(data=unique_product_type_null_price_coun_df,x = 'count',bins =10)\n",
        "\n",
        "plt.xlabel(\"Count of product type with null price\")\n",
        "plt.ylabel(\"No of product\")\n",
        "plt.title(\"Distribution Unique product with null price\")"
      ],
      "metadata": {
        "colab": {
          "base_uri": "https://localhost:8080/",
          "height": 400
        },
        "id": "FxygYGM_zT_K",
        "outputId": "82ec39f5-2a15-4ebe-b3f4-d0673e3a57bf"
      },
      "execution_count": null,
      "outputs": [
        {
          "output_type": "execute_result",
          "data": {
            "text/plain": [
              "Text(0.5, 1.0, 'Distribution Unique product with null price')"
            ]
          },
          "metadata": {},
          "execution_count": 222
        },
        {
          "output_type": "display_data",
          "data": {
            "text/plain": [
              "<Figure size 360x360 with 1 Axes>"
            ],
            "image/png": "[encoded data removed]"
          },
          "metadata": {
            "needs_background": "light"
          }
        }
      ]
    },
    {
      "cell_type": "code",
      "source": [
        "# top 10 product with null price \n",
        "top_product_null_value_count = unique_product_with_null_price_df.loc[:10]"
      ],
      "metadata": {
        "id": "De17yxiC0CP_"
      },
      "execution_count": null,
      "outputs": []
    },
    {
      "cell_type": "code",
      "source": [
        "sns.barplot(data=top_product_null_value_count,x = 'product_type',y = 'count')\n",
        "plt.xlabel(\"Name of nique product type with null price\")\n",
        "plt.ylabel(\"Count of product\")\n",
        "plt.title(\"Top 10 Unique product with null price\")\n",
        "plt.xticks(rotation=90)"
      ],
      "metadata": {
        "colab": {
          "base_uri": "https://localhost:8080/",
          "height": 667
        },
        "id": "ZsGML7CKAkFS",
        "outputId": "4aadc378-0634-436c-f31b-cd9854392ab1"
      },
      "execution_count": null,
      "outputs": [
        {
          "output_type": "execute_result",
          "data": {
            "text/plain": [
              "(array([ 0,  1,  2,  3,  4,  5,  6,  7,  8,  9, 10]),\n",
              " <a list of 11 Text major ticklabel objects>)"
            ]
          },
          "metadata": {},
          "execution_count": 224
        },
        {
          "output_type": "display_data",
          "data": {
            "text/plain": [
              "<Figure size 432x288 with 1 Axes>"
            ],
            "image/png": "[encoded data removed]"
          },
          "metadata": {
            "needs_background": "light"
          }
        }
      ]
    },
    {
      "cell_type": "code",
      "source": [
        "price_null_df.head()"
      ],
      "metadata": {
        "colab": {
          "base_uri": "https://localhost:8080/",
          "height": 337
        },
        "id": "Tc5h9fMhA6F8",
        "outputId": "67909a48-5ced-4591-e357-d2f0b27f107b"
      },
      "execution_count": null,
      "outputs": [
        {
          "output_type": "execute_result",
          "data": {
            "text/plain": [
              "                                    uuid price_string  \\\n",
              "0   638744a4-b0ae-4166-8cb6-5c063c862036         <NA>   \n",
              "1   ab313969-02cc-48b2-9daf-0054efb70b92         <NA>   \n",
              "5   389d9f75-cc3f-4bd2-94f7-93e381a3bed5         <NA>   \n",
              "13  1f2766ec-0a27-43f8-b28b-77a44492ead1         <NA>   \n",
              "16  7bad39f5-74b9-4611-afb9-46fb135190cd         <NA>   \n",
              "\n",
              "                           product_type                             level_1  \\\n",
              "0              TGFwdG9wIENvdmVycy9CYWdz                     TGFwdG9wIENhc2U   \n",
              "1           QmFraW5nIEN1cHMgYW5kIE1hdHM  QmFraW5nIE1hdHMgLyBCYWtpbmcgZGlzaA   \n",
              "5    TmF0dXJhbCBTd2VldGVuZXJzLyBTdWdhcg                      TW9uayBGcnVpdA   \n",
              "13  U2NydWJzIGFuZCBjbGVhbmluZyBjbG90aHM                            U2NydWJz   \n",
              "16          UGx1cyBzaXplIHdlYXIgZHJlc3M                             RHJlc3M   \n",
              "\n",
              "                            category  \n",
              "0                    RWxlY3Ryb25pY3M  \n",
              "1         a2l0Y2hpbmcgYW5kIGRpbmluZw  \n",
              "5                       Z3JvY2VyaWVz  \n",
              "13    SG91c2Vob2xkIGFuZCBDbGVhbmluZw  \n",
              "16  Q2xvdGhpbmcgYW5kIEFjY2Vzc29yaWVz  "
            ],
            "text/html": [
              "\n",
              "  <div id=\"df-5e61461f-627c-426c-955f-deecd115e37a\">\n",
              "    <div class=\"colab-df-container\">\n",
              "      <div>\n",
              "<style scoped>\n",
              "    .dataframe tbody tr th:only-of-type {\n",
              "        vertical-align: middle;\n",
              "    }\n",
              "\n",
              "    .dataframe tbody tr th {\n",
              "        vertical-align: top;\n",
              "    }\n",
              "\n",
              "    .dataframe thead th {\n",
              "        text-align: right;\n",
              "    }\n",
              "</style>\n",
              "<table border=\"1\" class=\"dataframe\">\n",
              "  <thead>\n",
              "    <tr style=\"text-align: right;\">\n",
              "      <th></th>\n",
              "      <th>uuid</th>\n",
              "      <th>price_string</th>\n",
              "      <th>product_type</th>\n",
              "      <th>level_1</th>\n",
              "      <th>category</th>\n",
              "    </tr>\n",
              "  </thead>\n",
              "  <tbody>\n",
              "    <tr>\n",
              "      <th>0</th>\n",
              "      <td>638744a4-b0ae-4166-8cb6-5c063c862036</td>\n",
              "      <td>&lt;NA&gt;</td>\n",
              "      <td>TGFwdG9wIENvdmVycy9CYWdz</td>\n",
              "      <td>TGFwdG9wIENhc2U</td>\n",
              "      <td>RWxlY3Ryb25pY3M</td>\n",
              "    </tr>\n",
              "    <tr>\n",
              "      <th>1</th>\n",
              "      <td>ab313969-02cc-48b2-9daf-0054efb70b92</td>\n",
              "      <td>&lt;NA&gt;</td>\n",
              "      <td>QmFraW5nIEN1cHMgYW5kIE1hdHM</td>\n",
              "      <td>QmFraW5nIE1hdHMgLyBCYWtpbmcgZGlzaA</td>\n",
              "      <td>a2l0Y2hpbmcgYW5kIGRpbmluZw</td>\n",
              "    </tr>\n",
              "    <tr>\n",
              "      <th>5</th>\n",
              "      <td>389d9f75-cc3f-4bd2-94f7-93e381a3bed5</td>\n",
              "      <td>&lt;NA&gt;</td>\n",
              "      <td>TmF0dXJhbCBTd2VldGVuZXJzLyBTdWdhcg</td>\n",
              "      <td>TW9uayBGcnVpdA</td>\n",
              "      <td>Z3JvY2VyaWVz</td>\n",
              "    </tr>\n",
              "    <tr>\n",
              "      <th>13</th>\n",
              "      <td>1f2766ec-0a27-43f8-b28b-77a44492ead1</td>\n",
              "      <td>&lt;NA&gt;</td>\n",
              "      <td>U2NydWJzIGFuZCBjbGVhbmluZyBjbG90aHM</td>\n",
              "      <td>U2NydWJz</td>\n",
              "      <td>SG91c2Vob2xkIGFuZCBDbGVhbmluZw</td>\n",
              "    </tr>\n",
              "    <tr>\n",
              "      <th>16</th>\n",
              "      <td>7bad39f5-74b9-4611-afb9-46fb135190cd</td>\n",
              "      <td>&lt;NA&gt;</td>\n",
              "      <td>UGx1cyBzaXplIHdlYXIgZHJlc3M</td>\n",
              "      <td>RHJlc3M</td>\n",
              "      <td>Q2xvdGhpbmcgYW5kIEFjY2Vzc29yaWVz</td>\n",
              "    </tr>\n",
              "  </tbody>\n",
              "</table>\n",
              "</div>\n",
              "      <button class=\"colab-df-convert\" onclick=\"convertToInteractive('df-5e61461f-627c-426c-955f-deecd115e37a')\"\n",
              "              title=\"Convert this dataframe to an interactive table.\"\n",
              "              style=\"display:none;\">\n",
              "        \n",
              "  <svg xmlns=\"http://www.w3.org/2000/svg\" height=\"24px\"viewBox=\"0 0 24 24\"\n",
              "       width=\"24px\">\n",
              "    <path d=\"M0 0h24v24H0V0z\" fill=\"none\"/>\n",
              "    <path d=\"M18.56 5.44l.94 2.06.94-2.06 2.06-.94-2.06-.94-.94-2.06-.94 2.06-2.06.94zm-11 1L8.5 8.5l.94-2.06 2.06-.94-2.06-.94L8.5 2.5l-.94 2.06-2.06.94zm10 10l.94 2.06.94-2.06 2.06-.94-2.06-.94-.94-2.06-.94 2.06-2.06.94z\"/><path d=\"M17.41 7.96l-1.37-1.37c-.4-.4-.92-.59-1.43-.59-.52 0-1.04.2-1.43.59L10.3 9.45l-7.72 7.72c-.78.78-.78 2.05 0 2.83L4 21.41c.39.39.9.59 1.41.59.51 0 1.02-.2 1.41-.59l7.78-7.78 2.81-2.81c.8-.78.8-2.07 0-2.86zM5.41 20L4 18.59l7.72-7.72 1.47 1.35L5.41 20z\"/>\n",
              "  </svg>\n",
              "      </button>\n",
              "      \n",
              "  <style>\n",
              "    .colab-df-container {\n",
              "      display:flex;\n",
              "      flex-wrap:wrap;\n",
              "      gap: 12px;\n",
              "    }\n",
              "\n",
              "    .colab-df-convert {\n",
              "      background-color: #E8F0FE;\n",
              "      border: none;\n",
              "      border-radius: 50%;\n",
              "      cursor: pointer;\n",
              "      display: none;\n",
              "      fill: #1967D2;\n",
              "      height: 32px;\n",
              "      padding: 0 0 0 0;\n",
              "      width: 32px;\n",
              "    }\n",
              "\n",
              "    .colab-df-convert:hover {\n",
              "      background-color: #E2EBFA;\n",
              "      box-shadow: 0px 1px 2px rgba(60, 64, 67, 0.3), 0px 1px 3px 1px rgba(60, 64, 67, 0.15);\n",
              "      fill: #174EA6;\n",
              "    }\n",
              "\n",
              "    [theme=dark] .colab-df-convert {\n",
              "      background-color: #3B4455;\n",
              "      fill: #D2E3FC;\n",
              "    }\n",
              "\n",
              "    [theme=dark] .colab-df-convert:hover {\n",
              "      background-color: #434B5C;\n",
              "      box-shadow: 0px 1px 3px 1px rgba(0, 0, 0, 0.15);\n",
              "      filter: drop-shadow(0px 1px 2px rgba(0, 0, 0, 0.3));\n",
              "      fill: #FFFFFF;\n",
              "    }\n",
              "  </style>\n",
              "\n",
              "      <script>\n",
              "        const buttonEl =\n",
              "          document.querySelector('#df-5e61461f-627c-426c-955f-deecd115e37a button.colab-df-convert');\n",
              "        buttonEl.style.display =\n",
              "          google.colab.kernel.accessAllowed ? 'block' : 'none';\n",
              "\n",
              "        async function convertToInteractive(key) {\n",
              "          const element = document.querySelector('#df-5e61461f-627c-426c-955f-deecd115e37a');\n",
              "          const dataTable =\n",
              "            await google.colab.kernel.invokeFunction('convertToInteractive',\n",
              "                                                     [key], {});\n",
              "          if (!dataTable) return;\n",
              "\n",
              "          const docLinkHtml = 'Like what you see? Visit the ' +\n",
              "            '<a target=\"_blank\" href=https://colab.research.google.com/notebooks/data_table.ipynb>data table notebook</a>'\n",
              "            + ' to learn more about interactive tables.';\n",
              "          element.innerHTML = '';\n",
              "          dataTable['output_type'] = 'display_data';\n",
              "          await google.colab.output.renderOutput(dataTable, element);\n",
              "          const docLink = document.createElement('div');\n",
              "          docLink.innerHTML = docLinkHtml;\n",
              "          element.appendChild(docLink);\n",
              "        }\n",
              "      </script>\n",
              "    </div>\n",
              "  </div>\n",
              "  "
            ]
          },
          "metadata": {},
          "execution_count": 225
        }
      ]
    },
    {
      "cell_type": "markdown",
      "source": [
        "# Count of category with null price in price_string column"
      ],
      "metadata": {
        "id": "EvemxywSMMCi"
      }
    },
    {
      "cell_type": "code",
      "source": [
        "#Check if category with null type with null price type exist\n",
        "\n",
        "\n",
        "null_category = len(price_null_df[price_null_df['category'].isnull()])\n",
        "print(f'No of null category with null price is = {null_category}')"
      ],
      "metadata": {
        "colab": {
          "base_uri": "https://localhost:8080/"
        },
        "id": "cXRJKI2eBz0c",
        "outputId": "8c6d5fe6-db1c-4ed4-a186-e6634a9ecf56"
      },
      "execution_count": null,
      "outputs": [
        {
          "output_type": "stream",
          "name": "stdout",
          "text": [
            "No of null category with null price is = 0\n"
          ]
        }
      ]
    },
    {
      "cell_type": "code",
      "source": [
        "df.groupby('category')['price_string'].count()"
      ],
      "metadata": {
        "colab": {
          "base_uri": "https://localhost:8080/"
        },
        "id": "-OYYpWr6CCem",
        "outputId": "1827a9ff-cfa8-4edf-be29-0860e3a14611"
      },
      "execution_count": null,
      "outputs": [
        {
          "output_type": "execute_result",
          "data": {
            "text/plain": [
              "category\n",
              "Q2xvdGhpbmcgYW5kIEFjY2Vzc29yaWVz       186\n",
              "QXJ0IHN1cHBsaWVz                        19\n",
              "QmFieWNhcmU                              9\n",
              "RWxlY3Ryb25pY3M                         11\n",
              "SG91c2Vob2xkIGFuZCBDbGVhbmluZw          70\n",
              "SGVhbHRo                                29\n",
              "VG95cyBhbmQgR2FtZXM                     19\n",
              "VG9vbHMgYW5kIGhvbWUgaW1wcm92ZW1lbnQ     20\n",
              "YmVhdXR5IGFuZCBwZXJzb25hbCBjYXJl        75\n",
              "Z3JvY2VyaWVz                            48\n",
              "a2l0Y2hpbmcgYW5kIGRpbmluZw              34\n",
              "b2ZmaWNlIHByb2R1Y3Rz                    15\n",
              "cGV0IHN1cHBsaWVz                        16\n",
              "Name: price_string, dtype: int64"
            ]
          },
          "metadata": {},
          "execution_count": 227
        }
      ]
    },
    {
      "cell_type": "code",
      "source": [
        "categoty_with_null_price =pd.DataFrame(df.groupby('category')['price_string'].size()).sort_values(by = 'price_string' ,ascending = False).rename(columns = {'price_string' : 'count'} ).reset_index()"
      ],
      "metadata": {
        "id": "pYb1mWFWC09s"
      },
      "execution_count": null,
      "outputs": []
    },
    {
      "cell_type": "code",
      "source": [
        "categoty_with_null_price"
      ],
      "metadata": {
        "colab": {
          "base_uri": "https://localhost:8080/",
          "height": 457
        },
        "id": "6BtnmZ0eDYa9",
        "outputId": "9e28f7a8-0186-40b3-d67f-7c37745be092"
      },
      "execution_count": null,
      "outputs": [
        {
          "output_type": "execute_result",
          "data": {
            "text/plain": [
              "                               category  count\n",
              "0      Q2xvdGhpbmcgYW5kIEFjY2Vzc29yaWVz    391\n",
              "1                          Z3JvY2VyaWVz    161\n",
              "2        SG91c2Vob2xkIGFuZCBDbGVhbmluZw    157\n",
              "3      YmVhdXR5IGFuZCBwZXJzb25hbCBjYXJl    147\n",
              "4                              SGVhbHRo     99\n",
              "5                   VG95cyBhbmQgR2FtZXM     79\n",
              "6                      cGV0IHN1cHBsaWVz     74\n",
              "7                           QmFieWNhcmU     66\n",
              "8            a2l0Y2hpbmcgYW5kIGRpbmluZw     59\n",
              "9   VG9vbHMgYW5kIGhvbWUgaW1wcm92ZW1lbnQ     52\n",
              "10                     QXJ0IHN1cHBsaWVz     32\n",
              "11                      RWxlY3Ryb25pY3M     32\n",
              "12                 b2ZmaWNlIHByb2R1Y3Rz     23"
            ],
            "text/html": [
              "\n",
              "  <div id=\"df-2b5222da-3434-40a3-a19d-3be1d2531c09\">\n",
              "    <div class=\"colab-df-container\">\n",
              "      <div>\n",
              "<style scoped>\n",
              "    .dataframe tbody tr th:only-of-type {\n",
              "        vertical-align: middle;\n",
              "    }\n",
              "\n",
              "    .dataframe tbody tr th {\n",
              "        vertical-align: top;\n",
              "    }\n",
              "\n",
              "    .dataframe thead th {\n",
              "        text-align: right;\n",
              "    }\n",
              "</style>\n",
              "<table border=\"1\" class=\"dataframe\">\n",
              "  <thead>\n",
              "    <tr style=\"text-align: right;\">\n",
              "      <th></th>\n",
              "      <th>category</th>\n",
              "      <th>count</th>\n",
              "    </tr>\n",
              "  </thead>\n",
              "  <tbody>\n",
              "    <tr>\n",
              "      <th>0</th>\n",
              "      <td>Q2xvdGhpbmcgYW5kIEFjY2Vzc29yaWVz</td>\n",
              "      <td>391</td>\n",
              "    </tr>\n",
              "    <tr>\n",
              "      <th>1</th>\n",
              "      <td>Z3JvY2VyaWVz</td>\n",
              "      <td>161</td>\n",
              "    </tr>\n",
              "    <tr>\n",
              "      <th>2</th>\n",
              "      <td>SG91c2Vob2xkIGFuZCBDbGVhbmluZw</td>\n",
              "      <td>157</td>\n",
              "    </tr>\n",
              "    <tr>\n",
              "      <th>3</th>\n",
              "      <td>YmVhdXR5IGFuZCBwZXJzb25hbCBjYXJl</td>\n",
              "      <td>147</td>\n",
              "    </tr>\n",
              "    <tr>\n",
              "      <th>4</th>\n",
              "      <td>SGVhbHRo</td>\n",
              "      <td>99</td>\n",
              "    </tr>\n",
              "    <tr>\n",
              "      <th>5</th>\n",
              "      <td>VG95cyBhbmQgR2FtZXM</td>\n",
              "      <td>79</td>\n",
              "    </tr>\n",
              "    <tr>\n",
              "      <th>6</th>\n",
              "      <td>cGV0IHN1cHBsaWVz</td>\n",
              "      <td>74</td>\n",
              "    </tr>\n",
              "    <tr>\n",
              "      <th>7</th>\n",
              "      <td>QmFieWNhcmU</td>\n",
              "      <td>66</td>\n",
              "    </tr>\n",
              "    <tr>\n",
              "      <th>8</th>\n",
              "      <td>a2l0Y2hpbmcgYW5kIGRpbmluZw</td>\n",
              "      <td>59</td>\n",
              "    </tr>\n",
              "    <tr>\n",
              "      <th>9</th>\n",
              "      <td>VG9vbHMgYW5kIGhvbWUgaW1wcm92ZW1lbnQ</td>\n",
              "      <td>52</td>\n",
              "    </tr>\n",
              "    <tr>\n",
              "      <th>10</th>\n",
              "      <td>QXJ0IHN1cHBsaWVz</td>\n",
              "      <td>32</td>\n",
              "    </tr>\n",
              "    <tr>\n",
              "      <th>11</th>\n",
              "      <td>RWxlY3Ryb25pY3M</td>\n",
              "      <td>32</td>\n",
              "    </tr>\n",
              "    <tr>\n",
              "      <th>12</th>\n",
              "      <td>b2ZmaWNlIHByb2R1Y3Rz</td>\n",
              "      <td>23</td>\n",
              "    </tr>\n",
              "  </tbody>\n",
              "</table>\n",
              "</div>\n",
              "      <button class=\"colab-df-convert\" onclick=\"convertToInteractive('df-2b5222da-3434-40a3-a19d-3be1d2531c09')\"\n",
              "              title=\"Convert this dataframe to an interactive table.\"\n",
              "              style=\"display:none;\">\n",
              "        \n",
              "  <svg xmlns=\"http://www.w3.org/2000/svg\" height=\"24px\"viewBox=\"0 0 24 24\"\n",
              "       width=\"24px\">\n",
              "    <path d=\"M0 0h24v24H0V0z\" fill=\"none\"/>\n",
              "    <path d=\"M18.56 5.44l.94 2.06.94-2.06 2.06-.94-2.06-.94-.94-2.06-.94 2.06-2.06.94zm-11 1L8.5 8.5l.94-2.06 2.06-.94-2.06-.94L8.5 2.5l-.94 2.06-2.06.94zm10 10l.94 2.06.94-2.06 2.06-.94-2.06-.94-.94-2.06-.94 2.06-2.06.94z\"/><path d=\"M17.41 7.96l-1.37-1.37c-.4-.4-.92-.59-1.43-.59-.52 0-1.04.2-1.43.59L10.3 9.45l-7.72 7.72c-.78.78-.78 2.05 0 2.83L4 21.41c.39.39.9.59 1.41.59.51 0 1.02-.2 1.41-.59l7.78-7.78 2.81-2.81c.8-.78.8-2.07 0-2.86zM5.41 20L4 18.59l7.72-7.72 1.47 1.35L5.41 20z\"/>\n",
              "  </svg>\n",
              "      </button>\n",
              "      \n",
              "  <style>\n",
              "    .colab-df-container {\n",
              "      display:flex;\n",
              "      flex-wrap:wrap;\n",
              "      gap: 12px;\n",
              "    }\n",
              "\n",
              "    .colab-df-convert {\n",
              "      background-color: #E8F0FE;\n",
              "      border: none;\n",
              "      border-radius: 50%;\n",
              "      cursor: pointer;\n",
              "      display: none;\n",
              "      fill: #1967D2;\n",
              "      height: 32px;\n",
              "      padding: 0 0 0 0;\n",
              "      width: 32px;\n",
              "    }\n",
              "\n",
              "    .colab-df-convert:hover {\n",
              "      background-color: #E2EBFA;\n",
              "      box-shadow: 0px 1px 2px rgba(60, 64, 67, 0.3), 0px 1px 3px 1px rgba(60, 64, 67, 0.15);\n",
              "      fill: #174EA6;\n",
              "    }\n",
              "\n",
              "    [theme=dark] .colab-df-convert {\n",
              "      background-color: #3B4455;\n",
              "      fill: #D2E3FC;\n",
              "    }\n",
              "\n",
              "    [theme=dark] .colab-df-convert:hover {\n",
              "      background-color: #434B5C;\n",
              "      box-shadow: 0px 1px 3px 1px rgba(0, 0, 0, 0.15);\n",
              "      filter: drop-shadow(0px 1px 2px rgba(0, 0, 0, 0.3));\n",
              "      fill: #FFFFFF;\n",
              "    }\n",
              "  </style>\n",
              "\n",
              "      <script>\n",
              "        const buttonEl =\n",
              "          document.querySelector('#df-2b5222da-3434-40a3-a19d-3be1d2531c09 button.colab-df-convert');\n",
              "        buttonEl.style.display =\n",
              "          google.colab.kernel.accessAllowed ? 'block' : 'none';\n",
              "\n",
              "        async function convertToInteractive(key) {\n",
              "          const element = document.querySelector('#df-2b5222da-3434-40a3-a19d-3be1d2531c09');\n",
              "          const dataTable =\n",
              "            await google.colab.kernel.invokeFunction('convertToInteractive',\n",
              "                                                     [key], {});\n",
              "          if (!dataTable) return;\n",
              "\n",
              "          const docLinkHtml = 'Like what you see? Visit the ' +\n",
              "            '<a target=\"_blank\" href=https://colab.research.google.com/notebooks/data_table.ipynb>data table notebook</a>'\n",
              "            + ' to learn more about interactive tables.';\n",
              "          element.innerHTML = '';\n",
              "          dataTable['output_type'] = 'display_data';\n",
              "          await google.colab.output.renderOutput(dataTable, element);\n",
              "          const docLink = document.createElement('div');\n",
              "          docLink.innerHTML = docLinkHtml;\n",
              "          element.appendChild(docLink);\n",
              "        }\n",
              "      </script>\n",
              "    </div>\n",
              "  </div>\n",
              "  "
            ]
          },
          "metadata": {},
          "execution_count": 229
        }
      ]
    },
    {
      "cell_type": "code",
      "source": [
        "sns.displot(data=categoty_with_null_price,bins = 10)\n",
        "plt.xlabel(\"Count of category with null price\")\n",
        "plt.ylabel(\" No of category\")\n",
        "plt.title(\" Distribution Unique category with null price\")"
      ],
      "metadata": {
        "colab": {
          "base_uri": "https://localhost:8080/",
          "height": 416
        },
        "id": "UqETmSBIDaTd",
        "outputId": "3259ee00-bf47-4328-c98a-8df72e807d4c"
      },
      "execution_count": null,
      "outputs": [
        {
          "output_type": "execute_result",
          "data": {
            "text/plain": [
              "Text(0.5, 1.0, ' Distribution Unique category with null price')"
            ]
          },
          "metadata": {},
          "execution_count": 230
        },
        {
          "output_type": "display_data",
          "data": {
            "text/plain": [
              "<Figure size 424.125x360 with 1 Axes>"
            ],
            "image/png": "[encoded data removed]"
          },
          "metadata": {
            "needs_background": "light"
          }
        }
      ]
    },
    {
      "cell_type": "code",
      "source": [
        "sns.barplot(data=categoty_with_null_price,x = 'category',y = 'count')\n",
        "plt.xlabel(\"Name of unique category with null price\")\n",
        "plt.ylabel(\"Count of product of this category\")\n",
        "plt.title(\"Unique category with null price\")\n",
        "plt.xticks(rotation=90)"
      ],
      "metadata": {
        "colab": {
          "base_uri": "https://localhost:8080/",
          "height": 561
        },
        "id": "oTUUOxATD8LV",
        "outputId": "95088c60-3865-44ab-87c7-9b68fbef0620"
      },
      "execution_count": null,
      "outputs": [
        {
          "output_type": "execute_result",
          "data": {
            "text/plain": [
              "(array([ 0,  1,  2,  3,  4,  5,  6,  7,  8,  9, 10, 11, 12]),\n",
              " <a list of 13 Text major ticklabel objects>)"
            ]
          },
          "metadata": {},
          "execution_count": 231
        },
        {
          "output_type": "display_data",
          "data": {
            "text/plain": [
              "<Figure size 432x288 with 1 Axes>"
            ],
            "image/png": "[encoded data removed]"
          },
          "metadata": {
            "needs_background": "light"
          }
        }
      ]
    },
    {
      "cell_type": "markdown",
      "source": [
        "# Count of level 1 having  null price in price_string column"
      ],
      "metadata": {
        "id": "ia1sDAiZMP2y"
      }
    },
    {
      "cell_type": "code",
      "source": [
        "df.info()"
      ],
      "metadata": {
        "colab": {
          "base_uri": "https://localhost:8080/"
        },
        "id": "_Hl93CBlE0V3",
        "outputId": "c18438b4-67c6-4ba3-d765-b30fb476a70e"
      },
      "execution_count": null,
      "outputs": [
        {
          "output_type": "stream",
          "name": "stdout",
          "text": [
            "<class 'pandas.core.frame.DataFrame'>\n",
            "Int64Index: 1372 entries, 0 to 13511\n",
            "Data columns (total 5 columns):\n",
            " #   Column        Non-Null Count  Dtype \n",
            "---  ------        --------------  ----- \n",
            " 0   uuid          1372 non-null   object\n",
            " 1   price_string  551 non-null    string\n",
            " 2   product_type  1372 non-null   object\n",
            " 3   level_1       1368 non-null   object\n",
            " 4   category      1372 non-null   object\n",
            "dtypes: object(4), string(1)\n",
            "memory usage: 64.3+ KB\n"
          ]
        }
      ]
    },
    {
      "cell_type": "code",
      "source": [
        "#Check if level 1 with null type with null price type exist\n",
        "\n",
        "\n",
        "null_category = len(price_null_df[price_null_df['level_1'].isnull()])\n",
        "print(f'No of null level 1 with null price is = {null_category}')"
      ],
      "metadata": {
        "colab": {
          "base_uri": "https://localhost:8080/"
        },
        "id": "5DBLICg-EuKH",
        "outputId": "73d3bf7d-64b1-49e4-f4b3-2ec48c7267f0"
      },
      "execution_count": null,
      "outputs": [
        {
          "output_type": "stream",
          "name": "stdout",
          "text": [
            "No of null level 1 with null price is = 3\n"
          ]
        }
      ]
    },
    {
      "cell_type": "code",
      "source": [
        "non_null_level1 = price_null_df[~price_null_df['level_1'].isnull()]"
      ],
      "metadata": {
        "id": "9LaHTQ-mE3np"
      },
      "execution_count": null,
      "outputs": []
    },
    {
      "cell_type": "code",
      "source": [
        "level1_with_null_price =pd.DataFrame(df.groupby('level_1')['price_string'].size()).sort_values(by = 'price_string' ,ascending = False).rename(columns = {'price_string' : 'count'} ).reset_index()"
      ],
      "metadata": {
        "id": "K-3Qb2btFB8U"
      },
      "execution_count": null,
      "outputs": []
    },
    {
      "cell_type": "code",
      "source": [
        "level1_with_null_price"
      ],
      "metadata": {
        "colab": {
          "base_uri": "https://localhost:8080/",
          "height": 424
        },
        "id": "Zevp87b9FO6g",
        "outputId": "7917a0ac-890c-40e9-f290-30556a7e404b"
      },
      "execution_count": null,
      "outputs": [
        {
          "output_type": "execute_result",
          "data": {
            "text/plain": [
              "                             level_1  count\n",
              "0                     U3dlYXRzaGlydA      9\n",
              "1                            U29ja3M      7\n",
              "2                Q2xlYW5pbmcgY2xvdGg      7\n",
              "3       U3Bvb24sIEtuaWZlIGFuZCBGb3Jr      7\n",
              "4               TG9uZyBzbGVldmUgdGVl      6\n",
              "..                               ...    ...\n",
              "590               UHVwcHkgU2hhbXBvbw      1\n",
              "591  QWxsLXB1cnBvc2Ugc2NydWIgYnJ1c2g      1\n",
              "592   RGlzaCB3YXNoIHRhYmxldHMgc29hcA      1\n",
              "593   UmV1c2FibGUgY29mZmVlIGZpbHRlcg      1\n",
              "594                         MTAgQ3Vw      1\n",
              "\n",
              "[595 rows x 2 columns]"
            ],
            "text/html": [
              "\n",
              "  <div id=\"df-017d2967-499b-450d-8330-8c0a471671f7\">\n",
              "    <div class=\"colab-df-container\">\n",
              "      <div>\n",
              "<style scoped>\n",
              "    .dataframe tbody tr th:only-of-type {\n",
              "        vertical-align: middle;\n",
              "    }\n",
              "\n",
              "    .dataframe tbody tr th {\n",
              "        vertical-align: top;\n",
              "    }\n",
              "\n",
              "    .dataframe thead th {\n",
              "        text-align: right;\n",
              "    }\n",
              "</style>\n",
              "<table border=\"1\" class=\"dataframe\">\n",
              "  <thead>\n",
              "    <tr style=\"text-align: right;\">\n",
              "      <th></th>\n",
              "      <th>level_1</th>\n",
              "      <th>count</th>\n",
              "    </tr>\n",
              "  </thead>\n",
              "  <tbody>\n",
              "    <tr>\n",
              "      <th>0</th>\n",
              "      <td>U3dlYXRzaGlydA</td>\n",
              "      <td>9</td>\n",
              "    </tr>\n",
              "    <tr>\n",
              "      <th>1</th>\n",
              "      <td>U29ja3M</td>\n",
              "      <td>7</td>\n",
              "    </tr>\n",
              "    <tr>\n",
              "      <th>2</th>\n",
              "      <td>Q2xlYW5pbmcgY2xvdGg</td>\n",
              "      <td>7</td>\n",
              "    </tr>\n",
              "    <tr>\n",
              "      <th>3</th>\n",
              "      <td>U3Bvb24sIEtuaWZlIGFuZCBGb3Jr</td>\n",
              "      <td>7</td>\n",
              "    </tr>\n",
              "    <tr>\n",
              "      <th>4</th>\n",
              "      <td>TG9uZyBzbGVldmUgdGVl</td>\n",
              "      <td>6</td>\n",
              "    </tr>\n",
              "    <tr>\n",
              "      <th>...</th>\n",
              "      <td>...</td>\n",
              "      <td>...</td>\n",
              "    </tr>\n",
              "    <tr>\n",
              "      <th>590</th>\n",
              "      <td>UHVwcHkgU2hhbXBvbw</td>\n",
              "      <td>1</td>\n",
              "    </tr>\n",
              "    <tr>\n",
              "      <th>591</th>\n",
              "      <td>QWxsLXB1cnBvc2Ugc2NydWIgYnJ1c2g</td>\n",
              "      <td>1</td>\n",
              "    </tr>\n",
              "    <tr>\n",
              "      <th>592</th>\n",
              "      <td>RGlzaCB3YXNoIHRhYmxldHMgc29hcA</td>\n",
              "      <td>1</td>\n",
              "    </tr>\n",
              "    <tr>\n",
              "      <th>593</th>\n",
              "      <td>UmV1c2FibGUgY29mZmVlIGZpbHRlcg</td>\n",
              "      <td>1</td>\n",
              "    </tr>\n",
              "    <tr>\n",
              "      <th>594</th>\n",
              "      <td>MTAgQ3Vw</td>\n",
              "      <td>1</td>\n",
              "    </tr>\n",
              "  </tbody>\n",
              "</table>\n",
              "<p>595 rows × 2 columns</p>\n",
              "</div>\n",
              "      <button class=\"colab-df-convert\" onclick=\"convertToInteractive('df-017d2967-499b-450d-8330-8c0a471671f7')\"\n",
              "              title=\"Convert this dataframe to an interactive table.\"\n",
              "              style=\"display:none;\">\n",
              "        \n",
              "  <svg xmlns=\"http://www.w3.org/2000/svg\" height=\"24px\"viewBox=\"0 0 24 24\"\n",
              "       width=\"24px\">\n",
              "    <path d=\"M0 0h24v24H0V0z\" fill=\"none\"/>\n",
              "    <path d=\"M18.56 5.44l.94 2.06.94-2.06 2.06-.94-2.06-.94-.94-2.06-.94 2.06-2.06.94zm-11 1L8.5 8.5l.94-2.06 2.06-.94-2.06-.94L8.5 2.5l-.94 2.06-2.06.94zm10 10l.94 2.06.94-2.06 2.06-.94-2.06-.94-.94-2.06-.94 2.06-2.06.94z\"/><path d=\"M17.41 7.96l-1.37-1.37c-.4-.4-.92-.59-1.43-.59-.52 0-1.04.2-1.43.59L10.3 9.45l-7.72 7.72c-.78.78-.78 2.05 0 2.83L4 21.41c.39.39.9.59 1.41.59.51 0 1.02-.2 1.41-.59l7.78-7.78 2.81-2.81c.8-.78.8-2.07 0-2.86zM5.41 20L4 18.59l7.72-7.72 1.47 1.35L5.41 20z\"/>\n",
              "  </svg>\n",
              "      </button>\n",
              "      \n",
              "  <style>\n",
              "    .colab-df-container {\n",
              "      display:flex;\n",
              "      flex-wrap:wrap;\n",
              "      gap: 12px;\n",
              "    }\n",
              "\n",
              "    .colab-df-convert {\n",
              "      background-color: #E8F0FE;\n",
              "      border: none;\n",
              "      border-radius: 50%;\n",
              "      cursor: pointer;\n",
              "      display: none;\n",
              "      fill: #1967D2;\n",
              "      height: 32px;\n",
              "      padding: 0 0 0 0;\n",
              "      width: 32px;\n",
              "    }\n",
              "\n",
              "    .colab-df-convert:hover {\n",
              "      background-color: #E2EBFA;\n",
              "      box-shadow: 0px 1px 2px rgba(60, 64, 67, 0.3), 0px 1px 3px 1px rgba(60, 64, 67, 0.15);\n",
              "      fill: #174EA6;\n",
              "    }\n",
              "\n",
              "    [theme=dark] .colab-df-convert {\n",
              "      background-color: #3B4455;\n",
              "      fill: #D2E3FC;\n",
              "    }\n",
              "\n",
              "    [theme=dark] .colab-df-convert:hover {\n",
              "      background-color: #434B5C;\n",
              "      box-shadow: 0px 1px 3px 1px rgba(0, 0, 0, 0.15);\n",
              "      filter: drop-shadow(0px 1px 2px rgba(0, 0, 0, 0.3));\n",
              "      fill: #FFFFFF;\n",
              "    }\n",
              "  </style>\n",
              "\n",
              "      <script>\n",
              "        const buttonEl =\n",
              "          document.querySelector('#df-017d2967-499b-450d-8330-8c0a471671f7 button.colab-df-convert');\n",
              "        buttonEl.style.display =\n",
              "          google.colab.kernel.accessAllowed ? 'block' : 'none';\n",
              "\n",
              "        async function convertToInteractive(key) {\n",
              "          const element = document.querySelector('#df-017d2967-499b-450d-8330-8c0a471671f7');\n",
              "          const dataTable =\n",
              "            await google.colab.kernel.invokeFunction('convertToInteractive',\n",
              "                                                     [key], {});\n",
              "          if (!dataTable) return;\n",
              "\n",
              "          const docLinkHtml = 'Like what you see? Visit the ' +\n",
              "            '<a target=\"_blank\" href=https://colab.research.google.com/notebooks/data_table.ipynb>data table notebook</a>'\n",
              "            + ' to learn more about interactive tables.';\n",
              "          element.innerHTML = '';\n",
              "          dataTable['output_type'] = 'display_data';\n",
              "          await google.colab.output.renderOutput(dataTable, element);\n",
              "          const docLink = document.createElement('div');\n",
              "          docLink.innerHTML = docLinkHtml;\n",
              "          element.appendChild(docLink);\n",
              "        }\n",
              "      </script>\n",
              "    </div>\n",
              "  </div>\n",
              "  "
            ]
          },
          "metadata": {},
          "execution_count": 236
        }
      ]
    },
    {
      "cell_type": "code",
      "source": [
        "# Distribution of level 1 with null price\n",
        "\n",
        "sns.displot(data=level1_with_null_price,bins=5)\n",
        "\n",
        "plt.xlabel(\"Count of level 1 with null price\")\n",
        "plt.ylabel(\" Distribution of level 1\")\n",
        "plt.title(\" Distribution of level 1 with null price\")"
      ],
      "metadata": {
        "colab": {
          "base_uri": "https://localhost:8080/",
          "height": 416
        },
        "id": "tPvuwYm3FtG5",
        "outputId": "aad4a57b-910f-4842-d7c6-657daea3deb8"
      },
      "execution_count": null,
      "outputs": [
        {
          "output_type": "execute_result",
          "data": {
            "text/plain": [
              "Text(0.5, 1.0, ' Distribution of level 1 with null price')"
            ]
          },
          "metadata": {},
          "execution_count": 237
        },
        {
          "output_type": "display_data",
          "data": {
            "text/plain": [
              "<Figure size 424.125x360 with 1 Axes>"
            ],
            "image/png": "[encoded data removed]"
          },
          "metadata": {
            "needs_background": "light"
          }
        }
      ]
    },
    {
      "cell_type": "code",
      "source": [
        "# top 10 level 1 with null price\n",
        "top10_level1_with_null_price = level1_with_null_price.loc[:10]\n",
        "top10_level1_with_null_price \n"
      ],
      "metadata": {
        "colab": {
          "base_uri": "https://localhost:8080/",
          "height": 394
        },
        "id": "9spA8E1OKPri",
        "outputId": "79dff680-465a-4173-f7d2-248cde04b1aa"
      },
      "execution_count": null,
      "outputs": [
        {
          "output_type": "execute_result",
          "data": {
            "text/plain": [
              "                                   level_1  count\n",
              "0                           U3dlYXRzaGlydA      9\n",
              "1                                  U29ja3M      7\n",
              "2                      Q2xlYW5pbmcgY2xvdGg      7\n",
              "3             U3Bvb24sIEtuaWZlIGFuZCBGb3Jr      7\n",
              "4                     TG9uZyBzbGVldmUgdGVl      6\n",
              "5                   SW1tdW5pdHkgZ3VtbWllcw      6\n",
              "6   RGVuaW0gSmFja2V0LyBUcnVja2VyIEphY2tldA      6\n",
              "7                                 SG9vZGll      6\n",
              "8                         Rm9ybWFsIFBhbnRz      6\n",
              "9                         Rm9ybWFsIFN1aXRz      6\n",
              "10                              U3dlYXRlcg      6"
            ],
            "text/html": [
              "\n",
              "  <div id=\"df-233c2871-16c3-4ac5-89a8-3c0b9d80281c\">\n",
              "    <div class=\"colab-df-container\">\n",
              "      <div>\n",
              "<style scoped>\n",
              "    .dataframe tbody tr th:only-of-type {\n",
              "        vertical-align: middle;\n",
              "    }\n",
              "\n",
              "    .dataframe tbody tr th {\n",
              "        vertical-align: top;\n",
              "    }\n",
              "\n",
              "    .dataframe thead th {\n",
              "        text-align: right;\n",
              "    }\n",
              "</style>\n",
              "<table border=\"1\" class=\"dataframe\">\n",
              "  <thead>\n",
              "    <tr style=\"text-align: right;\">\n",
              "      <th></th>\n",
              "      <th>level_1</th>\n",
              "      <th>count</th>\n",
              "    </tr>\n",
              "  </thead>\n",
              "  <tbody>\n",
              "    <tr>\n",
              "      <th>0</th>\n",
              "      <td>U3dlYXRzaGlydA</td>\n",
              "      <td>9</td>\n",
              "    </tr>\n",
              "    <tr>\n",
              "      <th>1</th>\n",
              "      <td>U29ja3M</td>\n",
              "      <td>7</td>\n",
              "    </tr>\n",
              "    <tr>\n",
              "      <th>2</th>\n",
              "      <td>Q2xlYW5pbmcgY2xvdGg</td>\n",
              "      <td>7</td>\n",
              "    </tr>\n",
              "    <tr>\n",
              "      <th>3</th>\n",
              "      <td>U3Bvb24sIEtuaWZlIGFuZCBGb3Jr</td>\n",
              "      <td>7</td>\n",
              "    </tr>\n",
              "    <tr>\n",
              "      <th>4</th>\n",
              "      <td>TG9uZyBzbGVldmUgdGVl</td>\n",
              "      <td>6</td>\n",
              "    </tr>\n",
              "    <tr>\n",
              "      <th>5</th>\n",
              "      <td>SW1tdW5pdHkgZ3VtbWllcw</td>\n",
              "      <td>6</td>\n",
              "    </tr>\n",
              "    <tr>\n",
              "      <th>6</th>\n",
              "      <td>RGVuaW0gSmFja2V0LyBUcnVja2VyIEphY2tldA</td>\n",
              "      <td>6</td>\n",
              "    </tr>\n",
              "    <tr>\n",
              "      <th>7</th>\n",
              "      <td>SG9vZGll</td>\n",
              "      <td>6</td>\n",
              "    </tr>\n",
              "    <tr>\n",
              "      <th>8</th>\n",
              "      <td>Rm9ybWFsIFBhbnRz</td>\n",
              "      <td>6</td>\n",
              "    </tr>\n",
              "    <tr>\n",
              "      <th>9</th>\n",
              "      <td>Rm9ybWFsIFN1aXRz</td>\n",
              "      <td>6</td>\n",
              "    </tr>\n",
              "    <tr>\n",
              "      <th>10</th>\n",
              "      <td>U3dlYXRlcg</td>\n",
              "      <td>6</td>\n",
              "    </tr>\n",
              "  </tbody>\n",
              "</table>\n",
              "</div>\n",
              "      <button class=\"colab-df-convert\" onclick=\"convertToInteractive('df-233c2871-16c3-4ac5-89a8-3c0b9d80281c')\"\n",
              "              title=\"Convert this dataframe to an interactive table.\"\n",
              "              style=\"display:none;\">\n",
              "        \n",
              "  <svg xmlns=\"http://www.w3.org/2000/svg\" height=\"24px\"viewBox=\"0 0 24 24\"\n",
              "       width=\"24px\">\n",
              "    <path d=\"M0 0h24v24H0V0z\" fill=\"none\"/>\n",
              "    <path d=\"M18.56 5.44l.94 2.06.94-2.06 2.06-.94-2.06-.94-.94-2.06-.94 2.06-2.06.94zm-11 1L8.5 8.5l.94-2.06 2.06-.94-2.06-.94L8.5 2.5l-.94 2.06-2.06.94zm10 10l.94 2.06.94-2.06 2.06-.94-2.06-.94-.94-2.06-.94 2.06-2.06.94z\"/><path d=\"M17.41 7.96l-1.37-1.37c-.4-.4-.92-.59-1.43-.59-.52 0-1.04.2-1.43.59L10.3 9.45l-7.72 7.72c-.78.78-.78 2.05 0 2.83L4 21.41c.39.39.9.59 1.41.59.51 0 1.02-.2 1.41-.59l7.78-7.78 2.81-2.81c.8-.78.8-2.07 0-2.86zM5.41 20L4 18.59l7.72-7.72 1.47 1.35L5.41 20z\"/>\n",
              "  </svg>\n",
              "      </button>\n",
              "      \n",
              "  <style>\n",
              "    .colab-df-container {\n",
              "      display:flex;\n",
              "      flex-wrap:wrap;\n",
              "      gap: 12px;\n",
              "    }\n",
              "\n",
              "    .colab-df-convert {\n",
              "      background-color: #E8F0FE;\n",
              "      border: none;\n",
              "      border-radius: 50%;\n",
              "      cursor: pointer;\n",
              "      display: none;\n",
              "      fill: #1967D2;\n",
              "      height: 32px;\n",
              "      padding: 0 0 0 0;\n",
              "      width: 32px;\n",
              "    }\n",
              "\n",
              "    .colab-df-convert:hover {\n",
              "      background-color: #E2EBFA;\n",
              "      box-shadow: 0px 1px 2px rgba(60, 64, 67, 0.3), 0px 1px 3px 1px rgba(60, 64, 67, 0.15);\n",
              "      fill: #174EA6;\n",
              "    }\n",
              "\n",
              "    [theme=dark] .colab-df-convert {\n",
              "      background-color: #3B4455;\n",
              "      fill: #D2E3FC;\n",
              "    }\n",
              "\n",
              "    [theme=dark] .colab-df-convert:hover {\n",
              "      background-color: #434B5C;\n",
              "      box-shadow: 0px 1px 3px 1px rgba(0, 0, 0, 0.15);\n",
              "      filter: drop-shadow(0px 1px 2px rgba(0, 0, 0, 0.3));\n",
              "      fill: #FFFFFF;\n",
              "    }\n",
              "  </style>\n",
              "\n",
              "      <script>\n",
              "        const buttonEl =\n",
              "          document.querySelector('#df-233c2871-16c3-4ac5-89a8-3c0b9d80281c button.colab-df-convert');\n",
              "        buttonEl.style.display =\n",
              "          google.colab.kernel.accessAllowed ? 'block' : 'none';\n",
              "\n",
              "        async function convertToInteractive(key) {\n",
              "          const element = document.querySelector('#df-233c2871-16c3-4ac5-89a8-3c0b9d80281c');\n",
              "          const dataTable =\n",
              "            await google.colab.kernel.invokeFunction('convertToInteractive',\n",
              "                                                     [key], {});\n",
              "          if (!dataTable) return;\n",
              "\n",
              "          const docLinkHtml = 'Like what you see? Visit the ' +\n",
              "            '<a target=\"_blank\" href=https://colab.research.google.com/notebooks/data_table.ipynb>data table notebook</a>'\n",
              "            + ' to learn more about interactive tables.';\n",
              "          element.innerHTML = '';\n",
              "          dataTable['output_type'] = 'display_data';\n",
              "          await google.colab.output.renderOutput(dataTable, element);\n",
              "          const docLink = document.createElement('div');\n",
              "          docLink.innerHTML = docLinkHtml;\n",
              "          element.appendChild(docLink);\n",
              "        }\n",
              "      </script>\n",
              "    </div>\n",
              "  </div>\n",
              "  "
            ]
          },
          "metadata": {},
          "execution_count": 238
        }
      ]
    },
    {
      "cell_type": "code",
      "source": [
        "# top 10 level 1 with null price\n",
        "\n",
        "sns.barplot(data=top10_level1_with_null_price,x = 'level_1',y = 'count')\n",
        "\n",
        "plt.xlabel(\"Name of unique level 1 with null price\")\n",
        "plt.ylabel(\"Count of unique level_1\")\n",
        "plt.title(\"Unique level 1 with null price\")\n",
        "plt.xticks(rotation=90)"
      ],
      "metadata": {
        "colab": {
          "base_uri": "https://localhost:8080/",
          "height": 552
        },
        "id": "Kakh0U4MKtni",
        "outputId": "86ceee83-2183-4edc-f6ff-d3e8cdd96282"
      },
      "execution_count": null,
      "outputs": [
        {
          "output_type": "execute_result",
          "data": {
            "text/plain": [
              "(array([ 0,  1,  2,  3,  4,  5,  6,  7,  8,  9, 10]),\n",
              " <a list of 11 Text major ticklabel objects>)"
            ]
          },
          "metadata": {},
          "execution_count": 239
        },
        {
          "output_type": "display_data",
          "data": {
            "text/plain": [
              "<Figure size 432x288 with 1 Axes>"
            ],
            "image/png": "[encoded data removed]"
          },
          "metadata": {
            "needs_background": "light"
          }
        }
      ]
    },
    {
      "cell_type": "markdown",
      "source": [
        "# EDA on data frame with non null prices in prices_string column"
      ],
      "metadata": {
        "id": "80RjI29OMg6y"
      }
    },
    {
      "cell_type": "code",
      "source": [
        "pd.set_option('display.max_rows', 15)"
      ],
      "metadata": {
        "id": "5SB407SETMWW"
      },
      "execution_count": null,
      "outputs": []
    },
    {
      "cell_type": "code",
      "source": [
        "len(df[~df['price_string'].isnull()])/len(df)"
      ],
      "metadata": {
        "colab": {
          "base_uri": "https://localhost:8080/"
        },
        "id": "3EqTSp6lMUvH",
        "outputId": "4ea86633-b55f-407b-df54-f61e8acb551b"
      },
      "execution_count": null,
      "outputs": [
        {
          "output_type": "execute_result",
          "data": {
            "text/plain": [
              "0.40160349854227406"
            ]
          },
          "metadata": {},
          "execution_count": 241
        }
      ]
    },
    {
      "cell_type": "code",
      "source": [
        "# creating copy of dataframe df with alias df1\n",
        "\n",
        "df1 = df.copy()"
      ],
      "metadata": {
        "id": "6OxAcT9cNsmw"
      },
      "execution_count": null,
      "outputs": []
    },
    {
      "cell_type": "code",
      "source": [
        "df1.loc[1:20]"
      ],
      "metadata": {
        "id": "bSkLSKBoRXlS",
        "colab": {
          "base_uri": "https://localhost:8080/",
          "height": 815
        },
        "outputId": "2edd30f7-ce38-4eb6-9273-c992596aab09"
      },
      "execution_count": null,
      "outputs": [
        {
          "output_type": "execute_result",
          "data": {
            "text/plain": [
              "                                    uuid price_string  \\\n",
              "1   ab313969-02cc-48b2-9daf-0054efb70b92         <NA>   \n",
              "2   acbd66ff-79f8-467a-91f9-108a45af5626       $19.95   \n",
              "3   963915d6-b2e3-4098-b242-9410593cf205       $92.00   \n",
              "4   b5b68f3c-b1e0-40e5-8ee5-e2f7236c1daf        11.50   \n",
              "5   389d9f75-cc3f-4bd2-94f7-93e381a3bed5         <NA>   \n",
              "..                                   ...          ...   \n",
              "16  7bad39f5-74b9-4611-afb9-46fb135190cd         <NA>   \n",
              "17  da7f0d13-ec69-4f1a-a97a-24f1a26e91ce       $13.99   \n",
              "18  8c6eea03-327a-466a-bfa9-9f7712a402de        $6.95   \n",
              "19  524886b5-7cc2-4a57-be26-f021f083889a         <NA>   \n",
              "20  ae346b86-21ff-4310-9cb4-f2693c8a8f66         <NA>   \n",
              "\n",
              "                                         product_type  \\\n",
              "1                         QmFraW5nIEN1cHMgYW5kIE1hdHM   \n",
              "2   R3VtbWllcyB2aXRhbWlucyBhbmQgbWluZXJhbHMgZm9yIG...   \n",
              "3                                            U2VydW1z   \n",
              "4                     RWF0aW5nIFV0ZW5zaWxzL0N1dGxlcnk   \n",
              "5                  TmF0dXJhbCBTd2VldGVuZXJzLyBTdWdhcg   \n",
              "..                                                ...   \n",
              "16                        UGx1cyBzaXplIHdlYXIgZHJlc3M   \n",
              "17                                TnV0cyAtIENhc2hld3M   \n",
              "18                            TWFrZXVwIGFwcGxpY2F0b3I   \n",
              "19                                TWF0ZXJuaXR5IFBhZHM   \n",
              "20                    RWR1Y2F0aW9uYWwgQmxvY2tzL1RveXM   \n",
              "\n",
              "                               level_1                          category  \n",
              "1   QmFraW5nIE1hdHMgLyBCYWtpbmcgZGlzaA        a2l0Y2hpbmcgYW5kIGRpbmluZw  \n",
              "2               SW1tdW5pdHkgZ3VtbWllcw                          SGVhbHRo  \n",
              "3                       RmFjZSBTZXJ1bQ  YmVhdXR5IGFuZCBwZXJzb25hbCBjYXJl  \n",
              "4                       Q2hvcHN0aWNrcw        a2l0Y2hpbmcgYW5kIGRpbmluZw  \n",
              "5                       TW9uayBGcnVpdA                      Z3JvY2VyaWVz  \n",
              "..                                 ...                               ...  \n",
              "16                             RHJlc3M  Q2xvdGhpbmcgYW5kIEFjY2Vzc29yaWVz  \n",
              "17                          Q2FzaGV3cw                      Z3JvY2VyaWVz  \n",
              "18             TWFrZXVwIGFwcGxpY2F0b3I                  QXJ0IHN1cHBsaWVz  \n",
              "19                UG9zdHBhcnR1bSBQYWRz  YmVhdXR5IGFuZCBwZXJzb25hbCBjYXJl  \n",
              "20                     TnVtYmVyIFRveXM               VG95cyBhbmQgR2FtZXM  \n",
              "\n",
              "[19 rows x 5 columns]"
            ],
            "text/html": [
              "\n",
              "  <div id=\"df-ab312bd3-8184-4da9-96c3-b1e9a9127d49\">\n",
              "    <div class=\"colab-df-container\">\n",
              "      <div>\n",
              "<style scoped>\n",
              "    .dataframe tbody tr th:only-of-type {\n",
              "        vertical-align: middle;\n",
              "    }\n",
              "\n",
              "    .dataframe tbody tr th {\n",
              "        vertical-align: top;\n",
              "    }\n",
              "\n",
              "    .dataframe thead th {\n",
              "        text-align: right;\n",
              "    }\n",
              "</style>\n",
              "<table border=\"1\" class=\"dataframe\">\n",
              "  <thead>\n",
              "    <tr style=\"text-align: right;\">\n",
              "      <th></th>\n",
              "      <th>uuid</th>\n",
              "      <th>price_string</th>\n",
              "      <th>product_type</th>\n",
              "      <th>level_1</th>\n",
              "      <th>category</th>\n",
              "    </tr>\n",
              "  </thead>\n",
              "  <tbody>\n",
              "    <tr>\n",
              "      <th>1</th>\n",
              "      <td>ab313969-02cc-48b2-9daf-0054efb70b92</td>\n",
              "      <td>&lt;NA&gt;</td>\n",
              "      <td>QmFraW5nIEN1cHMgYW5kIE1hdHM</td>\n",
              "      <td>QmFraW5nIE1hdHMgLyBCYWtpbmcgZGlzaA</td>\n",
              "      <td>a2l0Y2hpbmcgYW5kIGRpbmluZw</td>\n",
              "    </tr>\n",
              "    <tr>\n",
              "      <th>2</th>\n",
              "      <td>acbd66ff-79f8-467a-91f9-108a45af5626</td>\n",
              "      <td>$19.95</td>\n",
              "      <td>R3VtbWllcyB2aXRhbWlucyBhbmQgbWluZXJhbHMgZm9yIG...</td>\n",
              "      <td>SW1tdW5pdHkgZ3VtbWllcw</td>\n",
              "      <td>SGVhbHRo</td>\n",
              "    </tr>\n",
              "    <tr>\n",
              "      <th>3</th>\n",
              "      <td>963915d6-b2e3-4098-b242-9410593cf205</td>\n",
              "      <td>$92.00</td>\n",
              "      <td>U2VydW1z</td>\n",
              "      <td>RmFjZSBTZXJ1bQ</td>\n",
              "      <td>YmVhdXR5IGFuZCBwZXJzb25hbCBjYXJl</td>\n",
              "    </tr>\n",
              "    <tr>\n",
              "      <th>4</th>\n",
              "      <td>b5b68f3c-b1e0-40e5-8ee5-e2f7236c1daf</td>\n",
              "      <td>11.50</td>\n",
              "      <td>RWF0aW5nIFV0ZW5zaWxzL0N1dGxlcnk</td>\n",
              "      <td>Q2hvcHN0aWNrcw</td>\n",
              "      <td>a2l0Y2hpbmcgYW5kIGRpbmluZw</td>\n",
              "    </tr>\n",
              "    <tr>\n",
              "      <th>5</th>\n",
              "      <td>389d9f75-cc3f-4bd2-94f7-93e381a3bed5</td>\n",
              "      <td>&lt;NA&gt;</td>\n",
              "      <td>TmF0dXJhbCBTd2VldGVuZXJzLyBTdWdhcg</td>\n",
              "      <td>TW9uayBGcnVpdA</td>\n",
              "      <td>Z3JvY2VyaWVz</td>\n",
              "    </tr>\n",
              "    <tr>\n",
              "      <th>...</th>\n",
              "      <td>...</td>\n",
              "      <td>...</td>\n",
              "      <td>...</td>\n",
              "      <td>...</td>\n",
              "      <td>...</td>\n",
              "    </tr>\n",
              "    <tr>\n",
              "      <th>16</th>\n",
              "      <td>7bad39f5-74b9-4611-afb9-46fb135190cd</td>\n",
              "      <td>&lt;NA&gt;</td>\n",
              "      <td>UGx1cyBzaXplIHdlYXIgZHJlc3M</td>\n",
              "      <td>RHJlc3M</td>\n",
              "      <td>Q2xvdGhpbmcgYW5kIEFjY2Vzc29yaWVz</td>\n",
              "    </tr>\n",
              "    <tr>\n",
              "      <th>17</th>\n",
              "      <td>da7f0d13-ec69-4f1a-a97a-24f1a26e91ce</td>\n",
              "      <td>$13.99</td>\n",
              "      <td>TnV0cyAtIENhc2hld3M</td>\n",
              "      <td>Q2FzaGV3cw</td>\n",
              "      <td>Z3JvY2VyaWVz</td>\n",
              "    </tr>\n",
              "    <tr>\n",
              "      <th>18</th>\n",
              "      <td>8c6eea03-327a-466a-bfa9-9f7712a402de</td>\n",
              "      <td>$6.95</td>\n",
              "      <td>TWFrZXVwIGFwcGxpY2F0b3I</td>\n",
              "      <td>TWFrZXVwIGFwcGxpY2F0b3I</td>\n",
              "      <td>QXJ0IHN1cHBsaWVz</td>\n",
              "    </tr>\n",
              "    <tr>\n",
              "      <th>19</th>\n",
              "      <td>524886b5-7cc2-4a57-be26-f021f083889a</td>\n",
              "      <td>&lt;NA&gt;</td>\n",
              "      <td>TWF0ZXJuaXR5IFBhZHM</td>\n",
              "      <td>UG9zdHBhcnR1bSBQYWRz</td>\n",
              "      <td>YmVhdXR5IGFuZCBwZXJzb25hbCBjYXJl</td>\n",
              "    </tr>\n",
              "    <tr>\n",
              "      <th>20</th>\n",
              "      <td>ae346b86-21ff-4310-9cb4-f2693c8a8f66</td>\n",
              "      <td>&lt;NA&gt;</td>\n",
              "      <td>RWR1Y2F0aW9uYWwgQmxvY2tzL1RveXM</td>\n",
              "      <td>TnVtYmVyIFRveXM</td>\n",
              "      <td>VG95cyBhbmQgR2FtZXM</td>\n",
              "    </tr>\n",
              "  </tbody>\n",
              "</table>\n",
              "<p>19 rows × 5 columns</p>\n",
              "</div>\n",
              "      <button class=\"colab-df-convert\" onclick=\"convertToInteractive('df-ab312bd3-8184-4da9-96c3-b1e9a9127d49')\"\n",
              "              title=\"Convert this dataframe to an interactive table.\"\n",
              "              style=\"display:none;\">\n",
              "        \n",
              "  <svg xmlns=\"http://www.w3.org/2000/svg\" height=\"24px\"viewBox=\"0 0 24 24\"\n",
              "       width=\"24px\">\n",
              "    <path d=\"M0 0h24v24H0V0z\" fill=\"none\"/>\n",
              "    <path d=\"M18.56 5.44l.94 2.06.94-2.06 2.06-.94-2.06-.94-.94-2.06-.94 2.06-2.06.94zm-11 1L8.5 8.5l.94-2.06 2.06-.94-2.06-.94L8.5 2.5l-.94 2.06-2.06.94zm10 10l.94 2.06.94-2.06 2.06-.94-2.06-.94-.94-2.06-.94 2.06-2.06.94z\"/><path d=\"M17.41 7.96l-1.37-1.37c-.4-.4-.92-.59-1.43-.59-.52 0-1.04.2-1.43.59L10.3 9.45l-7.72 7.72c-.78.78-.78 2.05 0 2.83L4 21.41c.39.39.9.59 1.41.59.51 0 1.02-.2 1.41-.59l7.78-7.78 2.81-2.81c.8-.78.8-2.07 0-2.86zM5.41 20L4 18.59l7.72-7.72 1.47 1.35L5.41 20z\"/>\n",
              "  </svg>\n",
              "      </button>\n",
              "      \n",
              "  <style>\n",
              "    .colab-df-container {\n",
              "      display:flex;\n",
              "      flex-wrap:wrap;\n",
              "      gap: 12px;\n",
              "    }\n",
              "\n",
              "    .colab-df-convert {\n",
              "      background-color: #E8F0FE;\n",
              "      border: none;\n",
              "      border-radius: 50%;\n",
              "      cursor: pointer;\n",
              "      display: none;\n",
              "      fill: #1967D2;\n",
              "      height: 32px;\n",
              "      padding: 0 0 0 0;\n",
              "      width: 32px;\n",
              "    }\n",
              "\n",
              "    .colab-df-convert:hover {\n",
              "      background-color: #E2EBFA;\n",
              "      box-shadow: 0px 1px 2px rgba(60, 64, 67, 0.3), 0px 1px 3px 1px rgba(60, 64, 67, 0.15);\n",
              "      fill: #174EA6;\n",
              "    }\n",
              "\n",
              "    [theme=dark] .colab-df-convert {\n",
              "      background-color: #3B4455;\n",
              "      fill: #D2E3FC;\n",
              "    }\n",
              "\n",
              "    [theme=dark] .colab-df-convert:hover {\n",
              "      background-color: #434B5C;\n",
              "      box-shadow: 0px 1px 3px 1px rgba(0, 0, 0, 0.15);\n",
              "      filter: drop-shadow(0px 1px 2px rgba(0, 0, 0, 0.3));\n",
              "      fill: #FFFFFF;\n",
              "    }\n",
              "  </style>\n",
              "\n",
              "      <script>\n",
              "        const buttonEl =\n",
              "          document.querySelector('#df-ab312bd3-8184-4da9-96c3-b1e9a9127d49 button.colab-df-convert');\n",
              "        buttonEl.style.display =\n",
              "          google.colab.kernel.accessAllowed ? 'block' : 'none';\n",
              "\n",
              "        async function convertToInteractive(key) {\n",
              "          const element = document.querySelector('#df-ab312bd3-8184-4da9-96c3-b1e9a9127d49');\n",
              "          const dataTable =\n",
              "            await google.colab.kernel.invokeFunction('convertToInteractive',\n",
              "                                                     [key], {});\n",
              "          if (!dataTable) return;\n",
              "\n",
              "          const docLinkHtml = 'Like what you see? Visit the ' +\n",
              "            '<a target=\"_blank\" href=https://colab.research.google.com/notebooks/data_table.ipynb>data table notebook</a>'\n",
              "            + ' to learn more about interactive tables.';\n",
              "          element.innerHTML = '';\n",
              "          dataTable['output_type'] = 'display_data';\n",
              "          await google.colab.output.renderOutput(dataTable, element);\n",
              "          const docLink = document.createElement('div');\n",
              "          docLink.innerHTML = docLinkHtml;\n",
              "          element.appendChild(docLink);\n",
              "        }\n",
              "      </script>\n",
              "    </div>\n",
              "  </div>\n",
              "  "
            ]
          },
          "metadata": {},
          "execution_count": 243
        }
      ]
    },
    {
      "cell_type": "markdown",
      "source": [
        "# Creating seperate dataframe with name \"non_null_prices_df\" containing non null prices "
      ],
      "metadata": {
        "id": "SNjVUlZ87Cyk"
      }
    },
    {
      "cell_type": "code",
      "source": [
        "non_null_prices_df = df1[~df1['price_string'].isnull()]"
      ],
      "metadata": {
        "id": "oFqJYOi8ziHu"
      },
      "execution_count": null,
      "outputs": []
    },
    {
      "cell_type": "code",
      "source": [
        "non_null_prices_df.info()"
      ],
      "metadata": {
        "colab": {
          "base_uri": "https://localhost:8080/"
        },
        "id": "GH_iGYyhz5qv",
        "outputId": "b5ce8f72-f520-4899-eb01-a0622c0ea2ca"
      },
      "execution_count": null,
      "outputs": [
        {
          "output_type": "stream",
          "name": "stdout",
          "text": [
            "<class 'pandas.core.frame.DataFrame'>\n",
            "Int64Index: 551 entries, 2 to 13511\n",
            "Data columns (total 5 columns):\n",
            " #   Column        Non-Null Count  Dtype \n",
            "---  ------        --------------  ----- \n",
            " 0   uuid          551 non-null    object\n",
            " 1   price_string  551 non-null    string\n",
            " 2   product_type  551 non-null    object\n",
            " 3   level_1       550 non-null    object\n",
            " 4   category      551 non-null    object\n",
            "dtypes: object(4), string(1)\n",
            "memory usage: 25.8+ KB\n"
          ]
        }
      ]
    },
    {
      "cell_type": "code",
      "source": [
        "non_null_prices_df['price_string'].value_counts()"
      ],
      "metadata": {
        "id": "XKgSyIJfN4Zo",
        "colab": {
          "base_uri": "https://localhost:8080/"
        },
        "outputId": "5b481c5b-58cf-4bcd-defa-e84187636c8d"
      },
      "execution_count": null,
      "outputs": [
        {
          "output_type": "execute_result",
          "data": {
            "text/plain": [
              "$0.00      24\n",
              "$89        12\n",
              "$9.99      10\n",
              "$3.99       9\n",
              "$80.00      8\n",
              "           ..\n",
              "$98.00      1\n",
              "$23.99      1\n",
              "$14.50      1\n",
              "$119.00     1\n",
              "$268.00     1\n",
              "Name: price_string, Length: 248, dtype: Int64"
            ]
          },
          "metadata": {},
          "execution_count": 246
        }
      ]
    },
    {
      "cell_type": "code",
      "source": [
        "def modify_price(x):\n",
        "  '''add $ sign to Correct Product Prices in the correct format (eg: $56)'''\n",
        "\n",
        "  if x[0]!='$':\n",
        "    x1 = \"$\"+ x\n",
        "    return x1\n",
        "  else:\n",
        "    return x"
      ],
      "metadata": {
        "id": "We0VuG-EN8PR"
      },
      "execution_count": null,
      "outputs": []
    },
    {
      "cell_type": "markdown",
      "source": [
        "#Correcting Product Prices in the correct format (eg: $56)"
      ],
      "metadata": {
        "id": "OxSuTjedA2Z5"
      }
    },
    {
      "cell_type": "code",
      "source": [
        "# modifying price_string column to Correct Product Prices in the correct format (eg: $56)\n",
        "\n",
        "non_null_prices_df['price_string'] = non_null_prices_df['price_string'].apply(modify_price)"
      ],
      "metadata": {
        "colab": {
          "base_uri": "https://localhost:8080/"
        },
        "id": "uVMdsA_AP1Qw",
        "outputId": "2b207c24-0948-4cb4-d121-c7446fe2d788"
      },
      "execution_count": null,
      "outputs": [
        {
          "output_type": "stream",
          "name": "stderr",
          "text": [
            "/usr/local/lib/python3.7/dist-packages/ipykernel_launcher.py:3: SettingWithCopyWarning: \n",
            "A value is trying to be set on a copy of a slice from a DataFrame.\n",
            "Try using .loc[row_indexer,col_indexer] = value instead\n",
            "\n",
            "See the caveats in the documentation: https://pandas.pydata.org/pandas-docs/stable/user_guide/indexing.html#returning-a-view-versus-a-copy\n",
            "  This is separate from the ipykernel package so we can avoid doing imports until\n"
          ]
        }
      ]
    },
    {
      "cell_type": "code",
      "source": [
        "non_null_prices_df['price_string'].value_counts()"
      ],
      "metadata": {
        "id": "qBsGbevqP_C-",
        "colab": {
          "base_uri": "https://localhost:8080/"
        },
        "outputId": "62d705fc-c54b-4efe-fdfa-d416ab65d848"
      },
      "execution_count": null,
      "outputs": [
        {
          "output_type": "execute_result",
          "data": {
            "text/plain": [
              "$0.00      24\n",
              "$89        12\n",
              "$9.99      10\n",
              "$3.99       9\n",
              "$38.00      8\n",
              "           ..\n",
              "$200        1\n",
              "$16.00      1\n",
              "$70.00      1\n",
              "$79.00      1\n",
              "$268.00     1\n",
              "Name: price_string, Length: 243, dtype: int64"
            ]
          },
          "metadata": {},
          "execution_count": 249
        }
      ]
    },
    {
      "cell_type": "code",
      "source": [
        "non_null_prices_df.head()"
      ],
      "metadata": {
        "id": "US9jo5Z_TaId",
        "colab": {
          "base_uri": "https://localhost:8080/",
          "height": 424
        },
        "outputId": "3619526f-3b56-4d65-8e98-f4ab3272eaf2"
      },
      "execution_count": null,
      "outputs": [
        {
          "output_type": "execute_result",
          "data": {
            "text/plain": [
              "                                   uuid price_string  \\\n",
              "2  acbd66ff-79f8-467a-91f9-108a45af5626       $19.95   \n",
              "3  963915d6-b2e3-4098-b242-9410593cf205       $92.00   \n",
              "4  b5b68f3c-b1e0-40e5-8ee5-e2f7236c1daf       $11.50   \n",
              "6  9599f1a9-d406-43eb-89f5-9b1c0af1ac9a       $24.99   \n",
              "7  35799087-f6f4-4ca2-abfe-cbb5c27d2f1a      $148.00   \n",
              "\n",
              "                                        product_type  \\\n",
              "2  R3VtbWllcyB2aXRhbWlucyBhbmQgbWluZXJhbHMgZm9yIG...   \n",
              "3                                           U2VydW1z   \n",
              "4                    RWF0aW5nIFV0ZW5zaWxzL0N1dGxlcnk   \n",
              "6                               TW9wcyBhbmQgYnJvb21z   \n",
              "7                                   V29tZW5zIFBhbnRz   \n",
              "\n",
              "                                level_1                          category  \n",
              "2                SW1tdW5pdHkgZ3VtbWllcw                          SGVhbHRo  \n",
              "3                        RmFjZSBTZXJ1bQ  YmVhdXR5IGFuZCBwZXJzb25hbCBjYXJl  \n",
              "4                        Q2hvcHN0aWNrcw        a2l0Y2hpbmcgYW5kIGRpbmluZw  \n",
              "6                                  TW9w    SG91c2Vob2xkIGFuZCBDbGVhbmluZw  \n",
              "7  V29tZW5zIFJlZ3VsYXIvQ2FzdWFsIFBhbnRz  Q2xvdGhpbmcgYW5kIEFjY2Vzc29yaWVz  "
            ],
            "text/html": [
              "\n",
              "  <div id=\"df-7b8e84f8-8ff0-4fd2-9e5d-a06fe02816f2\">\n",
              "    <div class=\"colab-df-container\">\n",
              "      <div>\n",
              "<style scoped>\n",
              "    .dataframe tbody tr th:only-of-type {\n",
              "        vertical-align: middle;\n",
              "    }\n",
              "\n",
              "    .dataframe tbody tr th {\n",
              "        vertical-align: top;\n",
              "    }\n",
              "\n",
              "    .dataframe thead th {\n",
              "        text-align: right;\n",
              "    }\n",
              "</style>\n",
              "<table border=\"1\" class=\"dataframe\">\n",
              "  <thead>\n",
              "    <tr style=\"text-align: right;\">\n",
              "      <th></th>\n",
              "      <th>uuid</th>\n",
              "      <th>price_string</th>\n",
              "      <th>product_type</th>\n",
              "      <th>level_1</th>\n",
              "      <th>category</th>\n",
              "    </tr>\n",
              "  </thead>\n",
              "  <tbody>\n",
              "    <tr>\n",
              "      <th>2</th>\n",
              "      <td>acbd66ff-79f8-467a-91f9-108a45af5626</td>\n",
              "      <td>$19.95</td>\n",
              "      <td>R3VtbWllcyB2aXRhbWlucyBhbmQgbWluZXJhbHMgZm9yIG...</td>\n",
              "      <td>SW1tdW5pdHkgZ3VtbWllcw</td>\n",
              "      <td>SGVhbHRo</td>\n",
              "    </tr>\n",
              "    <tr>\n",
              "      <th>3</th>\n",
              "      <td>963915d6-b2e3-4098-b242-9410593cf205</td>\n",
              "      <td>$92.00</td>\n",
              "      <td>U2VydW1z</td>\n",
              "      <td>RmFjZSBTZXJ1bQ</td>\n",
              "      <td>YmVhdXR5IGFuZCBwZXJzb25hbCBjYXJl</td>\n",
              "    </tr>\n",
              "    <tr>\n",
              "      <th>4</th>\n",
              "      <td>b5b68f3c-b1e0-40e5-8ee5-e2f7236c1daf</td>\n",
              "      <td>$11.50</td>\n",
              "      <td>RWF0aW5nIFV0ZW5zaWxzL0N1dGxlcnk</td>\n",
              "      <td>Q2hvcHN0aWNrcw</td>\n",
              "      <td>a2l0Y2hpbmcgYW5kIGRpbmluZw</td>\n",
              "    </tr>\n",
              "    <tr>\n",
              "      <th>6</th>\n",
              "      <td>9599f1a9-d406-43eb-89f5-9b1c0af1ac9a</td>\n",
              "      <td>$24.99</td>\n",
              "      <td>TW9wcyBhbmQgYnJvb21z</td>\n",
              "      <td>TW9w</td>\n",
              "      <td>SG91c2Vob2xkIGFuZCBDbGVhbmluZw</td>\n",
              "    </tr>\n",
              "    <tr>\n",
              "      <th>7</th>\n",
              "      <td>35799087-f6f4-4ca2-abfe-cbb5c27d2f1a</td>\n",
              "      <td>$148.00</td>\n",
              "      <td>V29tZW5zIFBhbnRz</td>\n",
              "      <td>V29tZW5zIFJlZ3VsYXIvQ2FzdWFsIFBhbnRz</td>\n",
              "      <td>Q2xvdGhpbmcgYW5kIEFjY2Vzc29yaWVz</td>\n",
              "    </tr>\n",
              "  </tbody>\n",
              "</table>\n",
              "</div>\n",
              "      <button class=\"colab-df-convert\" onclick=\"convertToInteractive('df-7b8e84f8-8ff0-4fd2-9e5d-a06fe02816f2')\"\n",
              "              title=\"Convert this dataframe to an interactive table.\"\n",
              "              style=\"display:none;\">\n",
              "        \n",
              "  <svg xmlns=\"http://www.w3.org/2000/svg\" height=\"24px\"viewBox=\"0 0 24 24\"\n",
              "       width=\"24px\">\n",
              "    <path d=\"M0 0h24v24H0V0z\" fill=\"none\"/>\n",
              "    <path d=\"M18.56 5.44l.94 2.06.94-2.06 2.06-.94-2.06-.94-.94-2.06-.94 2.06-2.06.94zm-11 1L8.5 8.5l.94-2.06 2.06-.94-2.06-.94L8.5 2.5l-.94 2.06-2.06.94zm10 10l.94 2.06.94-2.06 2.06-.94-2.06-.94-.94-2.06-.94 2.06-2.06.94z\"/><path d=\"M17.41 7.96l-1.37-1.37c-.4-.4-.92-.59-1.43-.59-.52 0-1.04.2-1.43.59L10.3 9.45l-7.72 7.72c-.78.78-.78 2.05 0 2.83L4 21.41c.39.39.9.59 1.41.59.51 0 1.02-.2 1.41-.59l7.78-7.78 2.81-2.81c.8-.78.8-2.07 0-2.86zM5.41 20L4 18.59l7.72-7.72 1.47 1.35L5.41 20z\"/>\n",
              "  </svg>\n",
              "      </button>\n",
              "      \n",
              "  <style>\n",
              "    .colab-df-container {\n",
              "      display:flex;\n",
              "      flex-wrap:wrap;\n",
              "      gap: 12px;\n",
              "    }\n",
              "\n",
              "    .colab-df-convert {\n",
              "      background-color: #E8F0FE;\n",
              "      border: none;\n",
              "      border-radius: 50%;\n",
              "      cursor: pointer;\n",
              "      display: none;\n",
              "      fill: #1967D2;\n",
              "      height: 32px;\n",
              "      padding: 0 0 0 0;\n",
              "      width: 32px;\n",
              "    }\n",
              "\n",
              "    .colab-df-convert:hover {\n",
              "      background-color: #E2EBFA;\n",
              "      box-shadow: 0px 1px 2px rgba(60, 64, 67, 0.3), 0px 1px 3px 1px rgba(60, 64, 67, 0.15);\n",
              "      fill: #174EA6;\n",
              "    }\n",
              "\n",
              "    [theme=dark] .colab-df-convert {\n",
              "      background-color: #3B4455;\n",
              "      fill: #D2E3FC;\n",
              "    }\n",
              "\n",
              "    [theme=dark] .colab-df-convert:hover {\n",
              "      background-color: #434B5C;\n",
              "      box-shadow: 0px 1px 3px 1px rgba(0, 0, 0, 0.15);\n",
              "      filter: drop-shadow(0px 1px 2px rgba(0, 0, 0, 0.3));\n",
              "      fill: #FFFFFF;\n",
              "    }\n",
              "  </style>\n",
              "\n",
              "      <script>\n",
              "        const buttonEl =\n",
              "          document.querySelector('#df-7b8e84f8-8ff0-4fd2-9e5d-a06fe02816f2 button.colab-df-convert');\n",
              "        buttonEl.style.display =\n",
              "          google.colab.kernel.accessAllowed ? 'block' : 'none';\n",
              "\n",
              "        async function convertToInteractive(key) {\n",
              "          const element = document.querySelector('#df-7b8e84f8-8ff0-4fd2-9e5d-a06fe02816f2');\n",
              "          const dataTable =\n",
              "            await google.colab.kernel.invokeFunction('convertToInteractive',\n",
              "                                                     [key], {});\n",
              "          if (!dataTable) return;\n",
              "\n",
              "          const docLinkHtml = 'Like what you see? Visit the ' +\n",
              "            '<a target=\"_blank\" href=https://colab.research.google.com/notebooks/data_table.ipynb>data table notebook</a>'\n",
              "            + ' to learn more about interactive tables.';\n",
              "          element.innerHTML = '';\n",
              "          dataTable['output_type'] = 'display_data';\n",
              "          await google.colab.output.renderOutput(dataTable, element);\n",
              "          const docLink = document.createElement('div');\n",
              "          docLink.innerHTML = docLinkHtml;\n",
              "          element.appendChild(docLink);\n",
              "        }\n",
              "      </script>\n",
              "    </div>\n",
              "  </div>\n",
              "  "
            ]
          },
          "metadata": {},
          "execution_count": 250
        }
      ]
    },
    {
      "cell_type": "code",
      "source": [
        "def create_currency(x):\n",
        "  if x[0] == '$':\n",
        "    return 'USD'\n",
        "  else:\n",
        "    'Not'"
      ],
      "metadata": {
        "id": "2KxKjUvmUOE8"
      },
      "execution_count": null,
      "outputs": []
    },
    {
      "cell_type": "code",
      "source": [
        "# create currency name column for US dollar column value will be \"USD\"\n",
        "\n",
        "non_null_prices_df['currency'] = non_null_prices_df['price_string'].apply(create_currency)"
      ],
      "metadata": {
        "colab": {
          "base_uri": "https://localhost:8080/"
        },
        "id": "eQwUfoj_SUNJ",
        "outputId": "e5017e98-9084-4380-93f7-c9fc07ca2bc2"
      },
      "execution_count": null,
      "outputs": [
        {
          "output_type": "stream",
          "name": "stderr",
          "text": [
            "/usr/local/lib/python3.7/dist-packages/ipykernel_launcher.py:3: SettingWithCopyWarning: \n",
            "A value is trying to be set on a copy of a slice from a DataFrame.\n",
            "Try using .loc[row_indexer,col_indexer] = value instead\n",
            "\n",
            "See the caveats in the documentation: https://pandas.pydata.org/pandas-docs/stable/user_guide/indexing.html#returning-a-view-versus-a-copy\n",
            "  This is separate from the ipykernel package so we can avoid doing imports until\n"
          ]
        }
      ]
    },
    {
      "cell_type": "code",
      "source": [
        "non_null_prices_df['currency'].value_counts()"
      ],
      "metadata": {
        "colab": {
          "base_uri": "https://localhost:8080/"
        },
        "id": "tNkli91ZTOm6",
        "outputId": "b6249f43-e1a9-4650-e1c7-320f10bc72ee"
      },
      "execution_count": null,
      "outputs": [
        {
          "output_type": "execute_result",
          "data": {
            "text/plain": [
              "USD    551\n",
              "Name: currency, dtype: int64"
            ]
          },
          "metadata": {},
          "execution_count": 253
        }
      ]
    },
    {
      "cell_type": "code",
      "source": [
        "def only_currency_value(x):\n",
        "  '''converts currency to only value discard symbol such as $23.00 to  23.00'''\n",
        "  if x[0] == '$':\n",
        "    return x[1:]\n",
        "  else:\n",
        "    'Not'"
      ],
      "metadata": {
        "id": "hneWJ3luU-gj"
      },
      "execution_count": null,
      "outputs": []
    },
    {
      "cell_type": "code",
      "source": [
        "# create currency value column for price\n",
        "\n",
        "non_null_prices_df['value'] = non_null_prices_df['price_string'].apply(only_currency_value)"
      ],
      "metadata": {
        "colab": {
          "base_uri": "https://localhost:8080/"
        },
        "id": "ZdIL_McfVWll",
        "outputId": "cbdd4d92-c30e-437f-bb63-8fc4a614f363"
      },
      "execution_count": null,
      "outputs": [
        {
          "output_type": "stream",
          "name": "stderr",
          "text": [
            "/usr/local/lib/python3.7/dist-packages/ipykernel_launcher.py:3: SettingWithCopyWarning: \n",
            "A value is trying to be set on a copy of a slice from a DataFrame.\n",
            "Try using .loc[row_indexer,col_indexer] = value instead\n",
            "\n",
            "See the caveats in the documentation: https://pandas.pydata.org/pandas-docs/stable/user_guide/indexing.html#returning-a-view-versus-a-copy\n",
            "  This is separate from the ipykernel package so we can avoid doing imports until\n"
          ]
        }
      ]
    },
    {
      "cell_type": "code",
      "source": [
        "non_null_prices_df['value'].value_counts()"
      ],
      "metadata": {
        "id": "5LnVAneEVeHT",
        "colab": {
          "base_uri": "https://localhost:8080/"
        },
        "outputId": "a4fecec0-ac6d-4c9e-fd78-7e2ff336aafc"
      },
      "execution_count": null,
      "outputs": [
        {
          "output_type": "execute_result",
          "data": {
            "text/plain": [
              "0.00      24\n",
              "89        12\n",
              "9.99      10\n",
              "3.99       9\n",
              "38.00      8\n",
              "          ..\n",
              "200        1\n",
              "16.00      1\n",
              "70.00      1\n",
              "79.00      1\n",
              "268.00     1\n",
              "Name: value, Length: 243, dtype: int64"
            ]
          },
          "metadata": {},
          "execution_count": 256
        }
      ]
    },
    {
      "cell_type": "code",
      "source": [
        "# Changing data type of value column to float to do calculation\n",
        "\n",
        "non_null_prices_df['value']=non_null_prices_df['value'].astype(\"float\")"
      ],
      "metadata": {
        "colab": {
          "base_uri": "https://localhost:8080/"
        },
        "id": "IxuMmhYhVye2",
        "outputId": "4b125afa-d9ed-4fc6-a382-1aba07ad07e9"
      },
      "execution_count": null,
      "outputs": [
        {
          "output_type": "stream",
          "name": "stderr",
          "text": [
            "/usr/local/lib/python3.7/dist-packages/ipykernel_launcher.py:3: SettingWithCopyWarning: \n",
            "A value is trying to be set on a copy of a slice from a DataFrame.\n",
            "Try using .loc[row_indexer,col_indexer] = value instead\n",
            "\n",
            "See the caveats in the documentation: https://pandas.pydata.org/pandas-docs/stable/user_guide/indexing.html#returning-a-view-versus-a-copy\n",
            "  This is separate from the ipykernel package so we can avoid doing imports until\n"
          ]
        }
      ]
    },
    {
      "cell_type": "code",
      "source": [
        "non_null_prices_df.info()"
      ],
      "metadata": {
        "colab": {
          "base_uri": "https://localhost:8080/"
        },
        "id": "4_RQjD3dV1YN",
        "outputId": "01fd1e50-e95e-486e-f545-eb7ee67252d5"
      },
      "execution_count": null,
      "outputs": [
        {
          "output_type": "stream",
          "name": "stdout",
          "text": [
            "<class 'pandas.core.frame.DataFrame'>\n",
            "Int64Index: 551 entries, 2 to 13511\n",
            "Data columns (total 7 columns):\n",
            " #   Column        Non-Null Count  Dtype  \n",
            "---  ------        --------------  -----  \n",
            " 0   uuid          551 non-null    object \n",
            " 1   price_string  551 non-null    object \n",
            " 2   product_type  551 non-null    object \n",
            " 3   level_1       550 non-null    object \n",
            " 4   category      551 non-null    object \n",
            " 5   currency      551 non-null    object \n",
            " 6   value         551 non-null    float64\n",
            "dtypes: float64(1), object(6)\n",
            "memory usage: 34.4+ KB\n"
          ]
        }
      ]
    },
    {
      "cell_type": "markdown",
      "source": [
        "# Distribution of all prices"
      ],
      "metadata": {
        "id": "A8gAGyOqWk3I"
      }
    },
    {
      "cell_type": "code",
      "source": [
        "#Distribution of price\n",
        "\n",
        "sns.displot(non_null_prices_df['value'],bins= 10)\n",
        "\n",
        "plt.xlabel(\"Price of product\")\n",
        "plt.ylabel(\"No of product\")\n",
        "plt.title(\"Title : Distribution of price\")"
      ],
      "metadata": {
        "colab": {
          "base_uri": "https://localhost:8080/",
          "height": 402
        },
        "id": "a_TkJjPFV5_n",
        "outputId": "03ca8a4d-94f7-4e4c-d73a-20f242357615"
      },
      "execution_count": null,
      "outputs": [
        {
          "output_type": "execute_result",
          "data": {
            "text/plain": [
              "Text(0.5, 1.0, 'Title : Distribution of price')"
            ]
          },
          "metadata": {},
          "execution_count": 259
        },
        {
          "output_type": "display_data",
          "data": {
            "text/plain": [
              "<Figure size 360x360 with 1 Axes>"
            ],
            "image/png": "[encoded data removed]"
          },
          "metadata": {
            "needs_background": "light"
          }
        }
      ]
    },
    {
      "cell_type": "code",
      "source": [
        "non_null_prices_df.info()"
      ],
      "metadata": {
        "colab": {
          "base_uri": "https://localhost:8080/"
        },
        "id": "CLxOgBuaX4rV",
        "outputId": "980ea919-0857-4369-c250-ba0b1e67f8a4"
      },
      "execution_count": null,
      "outputs": [
        {
          "output_type": "stream",
          "name": "stdout",
          "text": [
            "<class 'pandas.core.frame.DataFrame'>\n",
            "Int64Index: 551 entries, 2 to 13511\n",
            "Data columns (total 7 columns):\n",
            " #   Column        Non-Null Count  Dtype  \n",
            "---  ------        --------------  -----  \n",
            " 0   uuid          551 non-null    object \n",
            " 1   price_string  551 non-null    object \n",
            " 2   product_type  551 non-null    object \n",
            " 3   level_1       550 non-null    object \n",
            " 4   category      551 non-null    object \n",
            " 5   currency      551 non-null    object \n",
            " 6   value         551 non-null    float64\n",
            "dtypes: float64(1), object(6)\n",
            "memory usage: 34.4+ KB\n"
          ]
        }
      ]
    },
    {
      "cell_type": "markdown",
      "source": [
        "# Count of products with non null prices in each unique product type"
      ],
      "metadata": {
        "id": "xzhsCBJAc_6x"
      }
    },
    {
      "cell_type": "code",
      "source": [
        "#creating df product type with count\n",
        "product_type_count = pd.DataFrame(non_null_prices_df.groupby('product_type')['value'].size().sort_values(ascending= False).reset_index())"
      ],
      "metadata": {
        "id": "GHsMpJ4adGgp"
      },
      "execution_count": null,
      "outputs": []
    },
    {
      "cell_type": "code",
      "source": [
        "product_type_count = product_type_count.rename(columns={'value':'count'})"
      ],
      "metadata": {
        "id": "4f1uGrJVdGa6"
      },
      "execution_count": null,
      "outputs": []
    },
    {
      "cell_type": "code",
      "source": [
        "product_type_count"
      ],
      "metadata": {
        "id": "_Lk3xUaCdGXe",
        "colab": {
          "base_uri": "https://localhost:8080/",
          "height": 424
        },
        "outputId": "bc6c7e67-1add-4cf0-ecab-fd473b6aa4f5"
      },
      "execution_count": null,
      "outputs": [
        {
          "output_type": "execute_result",
          "data": {
            "text/plain": [
              "                                     product_type  count\n",
              "0             U2NydWJzIGFuZCBjbGVhbmluZyBjbG90aHM     14\n",
              "1                          d29tZW5zIE91dGVyd2Vhcg     13\n",
              "2                          Q29va2luZyBVdGVuc2lscw     11\n",
              "3                          RmFjaWFsIENsZWFuc2Vycw      9\n",
              "4                                V29tZW5zIFBhbnRz      9\n",
              "..                                            ...    ...\n",
              "204  UEVUIFNUQUlOIGFuZCBPRE9SIFJFTU9WRVIgLSBQT1VS      1\n",
              "205                                      U3lydXBz      1\n",
              "206                                QmxvY2sgVG95cw      1\n",
              "207                                  U3Vuc2NyZWVu      1\n",
              "208                                  S2V5Ym9hcmRz      1\n",
              "\n",
              "[209 rows x 2 columns]"
            ],
            "text/html": [
              "\n",
              "  <div id=\"df-dc05e94b-9193-4882-8ecf-80ece7857d5d\">\n",
              "    <div class=\"colab-df-container\">\n",
              "      <div>\n",
              "<style scoped>\n",
              "    .dataframe tbody tr th:only-of-type {\n",
              "        vertical-align: middle;\n",
              "    }\n",
              "\n",
              "    .dataframe tbody tr th {\n",
              "        vertical-align: top;\n",
              "    }\n",
              "\n",
              "    .dataframe thead th {\n",
              "        text-align: right;\n",
              "    }\n",
              "</style>\n",
              "<table border=\"1\" class=\"dataframe\">\n",
              "  <thead>\n",
              "    <tr style=\"text-align: right;\">\n",
              "      <th></th>\n",
              "      <th>product_type</th>\n",
              "      <th>count</th>\n",
              "    </tr>\n",
              "  </thead>\n",
              "  <tbody>\n",
              "    <tr>\n",
              "      <th>0</th>\n",
              "      <td>U2NydWJzIGFuZCBjbGVhbmluZyBjbG90aHM</td>\n",
              "      <td>14</td>\n",
              "    </tr>\n",
              "    <tr>\n",
              "      <th>1</th>\n",
              "      <td>d29tZW5zIE91dGVyd2Vhcg</td>\n",
              "      <td>13</td>\n",
              "    </tr>\n",
              "    <tr>\n",
              "      <th>2</th>\n",
              "      <td>Q29va2luZyBVdGVuc2lscw</td>\n",
              "      <td>11</td>\n",
              "    </tr>\n",
              "    <tr>\n",
              "      <th>3</th>\n",
              "      <td>RmFjaWFsIENsZWFuc2Vycw</td>\n",
              "      <td>9</td>\n",
              "    </tr>\n",
              "    <tr>\n",
              "      <th>4</th>\n",
              "      <td>V29tZW5zIFBhbnRz</td>\n",
              "      <td>9</td>\n",
              "    </tr>\n",
              "    <tr>\n",
              "      <th>...</th>\n",
              "      <td>...</td>\n",
              "      <td>...</td>\n",
              "    </tr>\n",
              "    <tr>\n",
              "      <th>204</th>\n",
              "      <td>UEVUIFNUQUlOIGFuZCBPRE9SIFJFTU9WRVIgLSBQT1VS</td>\n",
              "      <td>1</td>\n",
              "    </tr>\n",
              "    <tr>\n",
              "      <th>205</th>\n",
              "      <td>U3lydXBz</td>\n",
              "      <td>1</td>\n",
              "    </tr>\n",
              "    <tr>\n",
              "      <th>206</th>\n",
              "      <td>QmxvY2sgVG95cw</td>\n",
              "      <td>1</td>\n",
              "    </tr>\n",
              "    <tr>\n",
              "      <th>207</th>\n",
              "      <td>U3Vuc2NyZWVu</td>\n",
              "      <td>1</td>\n",
              "    </tr>\n",
              "    <tr>\n",
              "      <th>208</th>\n",
              "      <td>S2V5Ym9hcmRz</td>\n",
              "      <td>1</td>\n",
              "    </tr>\n",
              "  </tbody>\n",
              "</table>\n",
              "<p>209 rows × 2 columns</p>\n",
              "</div>\n",
              "      <button class=\"colab-df-convert\" onclick=\"convertToInteractive('df-dc05e94b-9193-4882-8ecf-80ece7857d5d')\"\n",
              "              title=\"Convert this dataframe to an interactive table.\"\n",
              "              style=\"display:none;\">\n",
              "        \n",
              "  <svg xmlns=\"http://www.w3.org/2000/svg\" height=\"24px\"viewBox=\"0 0 24 24\"\n",
              "       width=\"24px\">\n",
              "    <path d=\"M0 0h24v24H0V0z\" fill=\"none\"/>\n",
              "    <path d=\"M18.56 5.44l.94 2.06.94-2.06 2.06-.94-2.06-.94-.94-2.06-.94 2.06-2.06.94zm-11 1L8.5 8.5l.94-2.06 2.06-.94-2.06-.94L8.5 2.5l-.94 2.06-2.06.94zm10 10l.94 2.06.94-2.06 2.06-.94-2.06-.94-.94-2.06-.94 2.06-2.06.94z\"/><path d=\"M17.41 7.96l-1.37-1.37c-.4-.4-.92-.59-1.43-.59-.52 0-1.04.2-1.43.59L10.3 9.45l-7.72 7.72c-.78.78-.78 2.05 0 2.83L4 21.41c.39.39.9.59 1.41.59.51 0 1.02-.2 1.41-.59l7.78-7.78 2.81-2.81c.8-.78.8-2.07 0-2.86zM5.41 20L4 18.59l7.72-7.72 1.47 1.35L5.41 20z\"/>\n",
              "  </svg>\n",
              "      </button>\n",
              "      \n",
              "  <style>\n",
              "    .colab-df-container {\n",
              "      display:flex;\n",
              "      flex-wrap:wrap;\n",
              "      gap: 12px;\n",
              "    }\n",
              "\n",
              "    .colab-df-convert {\n",
              "      background-color: #E8F0FE;\n",
              "      border: none;\n",
              "      border-radius: 50%;\n",
              "      cursor: pointer;\n",
              "      display: none;\n",
              "      fill: #1967D2;\n",
              "      height: 32px;\n",
              "      padding: 0 0 0 0;\n",
              "      width: 32px;\n",
              "    }\n",
              "\n",
              "    .colab-df-convert:hover {\n",
              "      background-color: #E2EBFA;\n",
              "      box-shadow: 0px 1px 2px rgba(60, 64, 67, 0.3), 0px 1px 3px 1px rgba(60, 64, 67, 0.15);\n",
              "      fill: #174EA6;\n",
              "    }\n",
              "\n",
              "    [theme=dark] .colab-df-convert {\n",
              "      background-color: #3B4455;\n",
              "      fill: #D2E3FC;\n",
              "    }\n",
              "\n",
              "    [theme=dark] .colab-df-convert:hover {\n",
              "      background-color: #434B5C;\n",
              "      box-shadow: 0px 1px 3px 1px rgba(0, 0, 0, 0.15);\n",
              "      filter: drop-shadow(0px 1px 2px rgba(0, 0, 0, 0.3));\n",
              "      fill: #FFFFFF;\n",
              "    }\n",
              "  </style>\n",
              "\n",
              "      <script>\n",
              "        const buttonEl =\n",
              "          document.querySelector('#df-dc05e94b-9193-4882-8ecf-80ece7857d5d button.colab-df-convert');\n",
              "        buttonEl.style.display =\n",
              "          google.colab.kernel.accessAllowed ? 'block' : 'none';\n",
              "\n",
              "        async function convertToInteractive(key) {\n",
              "          const element = document.querySelector('#df-dc05e94b-9193-4882-8ecf-80ece7857d5d');\n",
              "          const dataTable =\n",
              "            await google.colab.kernel.invokeFunction('convertToInteractive',\n",
              "                                                     [key], {});\n",
              "          if (!dataTable) return;\n",
              "\n",
              "          const docLinkHtml = 'Like what you see? Visit the ' +\n",
              "            '<a target=\"_blank\" href=https://colab.research.google.com/notebooks/data_table.ipynb>data table notebook</a>'\n",
              "            + ' to learn more about interactive tables.';\n",
              "          element.innerHTML = '';\n",
              "          dataTable['output_type'] = 'display_data';\n",
              "          await google.colab.output.renderOutput(dataTable, element);\n",
              "          const docLink = document.createElement('div');\n",
              "          docLink.innerHTML = docLinkHtml;\n",
              "          element.appendChild(docLink);\n",
              "        }\n",
              "      </script>\n",
              "    </div>\n",
              "  </div>\n",
              "  "
            ]
          },
          "metadata": {},
          "execution_count": 263
        }
      ]
    },
    {
      "cell_type": "code",
      "source": [
        "#distribution plot of avg_price\n",
        "sns.displot(data=product_type_count, x = \"count\",bins = 10)\n",
        "plt.xlabel(\"count of product\")\n",
        "plt.ylabel(\"No of product\")\n",
        "plt.title(\"Title : Distribution of count across product type with prices\")"
      ],
      "metadata": {
        "colab": {
          "base_uri": "https://localhost:8080/",
          "height": 402
        },
        "id": "MfKABJOAdGTs",
        "outputId": "d79a6e25-d566-4004-e6d6-f6b6ceb067f3"
      },
      "execution_count": null,
      "outputs": [
        {
          "output_type": "execute_result",
          "data": {
            "text/plain": [
              "Text(0.5, 1.0, 'Title : Distribution of count across product type with prices')"
            ]
          },
          "metadata": {},
          "execution_count": 264
        },
        {
          "output_type": "display_data",
          "data": {
            "text/plain": [
              "<Figure size 360x360 with 1 Axes>"
            ],
            "image/png": "[encoded data removed]"
          },
          "metadata": {
            "needs_background": "light"
          }
        }
      ]
    },
    {
      "cell_type": "code",
      "source": [
        "# top 10 product type with highest count\n",
        "top_10_product_type_count = product_type_count[:10]\n",
        "top_10_product_type_count"
      ],
      "metadata": {
        "colab": {
          "base_uri": "https://localhost:8080/",
          "height": 363
        },
        "id": "s-fXymNpeBTE",
        "outputId": "8566ecf5-3907-4e42-9611-3c8215ba0c8d"
      },
      "execution_count": null,
      "outputs": [
        {
          "output_type": "execute_result",
          "data": {
            "text/plain": [
              "                          product_type  count\n",
              "0  U2NydWJzIGFuZCBjbGVhbmluZyBjbG90aHM     14\n",
              "1               d29tZW5zIE91dGVyd2Vhcg     13\n",
              "2               Q29va2luZyBVdGVuc2lscw     11\n",
              "3               RmFjaWFsIENsZWFuc2Vycw      9\n",
              "4                     V29tZW5zIFBhbnRz      9\n",
              "5       WW9nYSBBY2Nlc3Nvcmllcy8gR2Vhcg      9\n",
              "6                  bWVucyBPdXRlcndlYXI      8\n",
              "7          V29tZW5zIFVuZGVyZ2FybWVudHM      8\n",
              "8                           QnJ1c2hlcw      8\n",
              "9                           RHJlc3Nlcw      8"
            ],
            "text/html": [
              "\n",
              "  <div id=\"df-adc1b356-e7d4-4d54-9e22-2c9eec4cbf18\">\n",
              "    <div class=\"colab-df-container\">\n",
              "      <div>\n",
              "<style scoped>\n",
              "    .dataframe tbody tr th:only-of-type {\n",
              "        vertical-align: middle;\n",
              "    }\n",
              "\n",
              "    .dataframe tbody tr th {\n",
              "        vertical-align: top;\n",
              "    }\n",
              "\n",
              "    .dataframe thead th {\n",
              "        text-align: right;\n",
              "    }\n",
              "</style>\n",
              "<table border=\"1\" class=\"dataframe\">\n",
              "  <thead>\n",
              "    <tr style=\"text-align: right;\">\n",
              "      <th></th>\n",
              "      <th>product_type</th>\n",
              "      <th>count</th>\n",
              "    </tr>\n",
              "  </thead>\n",
              "  <tbody>\n",
              "    <tr>\n",
              "      <th>0</th>\n",
              "      <td>U2NydWJzIGFuZCBjbGVhbmluZyBjbG90aHM</td>\n",
              "      <td>14</td>\n",
              "    </tr>\n",
              "    <tr>\n",
              "      <th>1</th>\n",
              "      <td>d29tZW5zIE91dGVyd2Vhcg</td>\n",
              "      <td>13</td>\n",
              "    </tr>\n",
              "    <tr>\n",
              "      <th>2</th>\n",
              "      <td>Q29va2luZyBVdGVuc2lscw</td>\n",
              "      <td>11</td>\n",
              "    </tr>\n",
              "    <tr>\n",
              "      <th>3</th>\n",
              "      <td>RmFjaWFsIENsZWFuc2Vycw</td>\n",
              "      <td>9</td>\n",
              "    </tr>\n",
              "    <tr>\n",
              "      <th>4</th>\n",
              "      <td>V29tZW5zIFBhbnRz</td>\n",
              "      <td>9</td>\n",
              "    </tr>\n",
              "    <tr>\n",
              "      <th>5</th>\n",
              "      <td>WW9nYSBBY2Nlc3Nvcmllcy8gR2Vhcg</td>\n",
              "      <td>9</td>\n",
              "    </tr>\n",
              "    <tr>\n",
              "      <th>6</th>\n",
              "      <td>bWVucyBPdXRlcndlYXI</td>\n",
              "      <td>8</td>\n",
              "    </tr>\n",
              "    <tr>\n",
              "      <th>7</th>\n",
              "      <td>V29tZW5zIFVuZGVyZ2FybWVudHM</td>\n",
              "      <td>8</td>\n",
              "    </tr>\n",
              "    <tr>\n",
              "      <th>8</th>\n",
              "      <td>QnJ1c2hlcw</td>\n",
              "      <td>8</td>\n",
              "    </tr>\n",
              "    <tr>\n",
              "      <th>9</th>\n",
              "      <td>RHJlc3Nlcw</td>\n",
              "      <td>8</td>\n",
              "    </tr>\n",
              "  </tbody>\n",
              "</table>\n",
              "</div>\n",
              "      <button class=\"colab-df-convert\" onclick=\"convertToInteractive('df-adc1b356-e7d4-4d54-9e22-2c9eec4cbf18')\"\n",
              "              title=\"Convert this dataframe to an interactive table.\"\n",
              "              style=\"display:none;\">\n",
              "        \n",
              "  <svg xmlns=\"http://www.w3.org/2000/svg\" height=\"24px\"viewBox=\"0 0 24 24\"\n",
              "       width=\"24px\">\n",
              "    <path d=\"M0 0h24v24H0V0z\" fill=\"none\"/>\n",
              "    <path d=\"M18.56 5.44l.94 2.06.94-2.06 2.06-.94-2.06-.94-.94-2.06-.94 2.06-2.06.94zm-11 1L8.5 8.5l.94-2.06 2.06-.94-2.06-.94L8.5 2.5l-.94 2.06-2.06.94zm10 10l.94 2.06.94-2.06 2.06-.94-2.06-.94-.94-2.06-.94 2.06-2.06.94z\"/><path d=\"M17.41 7.96l-1.37-1.37c-.4-.4-.92-.59-1.43-.59-.52 0-1.04.2-1.43.59L10.3 9.45l-7.72 7.72c-.78.78-.78 2.05 0 2.83L4 21.41c.39.39.9.59 1.41.59.51 0 1.02-.2 1.41-.59l7.78-7.78 2.81-2.81c.8-.78.8-2.07 0-2.86zM5.41 20L4 18.59l7.72-7.72 1.47 1.35L5.41 20z\"/>\n",
              "  </svg>\n",
              "      </button>\n",
              "      \n",
              "  <style>\n",
              "    .colab-df-container {\n",
              "      display:flex;\n",
              "      flex-wrap:wrap;\n",
              "      gap: 12px;\n",
              "    }\n",
              "\n",
              "    .colab-df-convert {\n",
              "      background-color: #E8F0FE;\n",
              "      border: none;\n",
              "      border-radius: 50%;\n",
              "      cursor: pointer;\n",
              "      display: none;\n",
              "      fill: #1967D2;\n",
              "      height: 32px;\n",
              "      padding: 0 0 0 0;\n",
              "      width: 32px;\n",
              "    }\n",
              "\n",
              "    .colab-df-convert:hover {\n",
              "      background-color: #E2EBFA;\n",
              "      box-shadow: 0px 1px 2px rgba(60, 64, 67, 0.3), 0px 1px 3px 1px rgba(60, 64, 67, 0.15);\n",
              "      fill: #174EA6;\n",
              "    }\n",
              "\n",
              "    [theme=dark] .colab-df-convert {\n",
              "      background-color: #3B4455;\n",
              "      fill: #D2E3FC;\n",
              "    }\n",
              "\n",
              "    [theme=dark] .colab-df-convert:hover {\n",
              "      background-color: #434B5C;\n",
              "      box-shadow: 0px 1px 3px 1px rgba(0, 0, 0, 0.15);\n",
              "      filter: drop-shadow(0px 1px 2px rgba(0, 0, 0, 0.3));\n",
              "      fill: #FFFFFF;\n",
              "    }\n",
              "  </style>\n",
              "\n",
              "      <script>\n",
              "        const buttonEl =\n",
              "          document.querySelector('#df-adc1b356-e7d4-4d54-9e22-2c9eec4cbf18 button.colab-df-convert');\n",
              "        buttonEl.style.display =\n",
              "          google.colab.kernel.accessAllowed ? 'block' : 'none';\n",
              "\n",
              "        async function convertToInteractive(key) {\n",
              "          const element = document.querySelector('#df-adc1b356-e7d4-4d54-9e22-2c9eec4cbf18');\n",
              "          const dataTable =\n",
              "            await google.colab.kernel.invokeFunction('convertToInteractive',\n",
              "                                                     [key], {});\n",
              "          if (!dataTable) return;\n",
              "\n",
              "          const docLinkHtml = 'Like what you see? Visit the ' +\n",
              "            '<a target=\"_blank\" href=https://colab.research.google.com/notebooks/data_table.ipynb>data table notebook</a>'\n",
              "            + ' to learn more about interactive tables.';\n",
              "          element.innerHTML = '';\n",
              "          dataTable['output_type'] = 'display_data';\n",
              "          await google.colab.output.renderOutput(dataTable, element);\n",
              "          const docLink = document.createElement('div');\n",
              "          docLink.innerHTML = docLinkHtml;\n",
              "          element.appendChild(docLink);\n",
              "        }\n",
              "      </script>\n",
              "    </div>\n",
              "  </div>\n",
              "  "
            ]
          },
          "metadata": {},
          "execution_count": 265
        }
      ]
    },
    {
      "cell_type": "code",
      "source": [
        "# Visualisation top 10 product type with highest count bar plot\n",
        "sns.barplot(data=top_10_product_type_count,x = 'product_type',y = 'count')\n",
        "plt.xlabel(\"Name of product type\")\n",
        "plt.ylabel(\"cCunt of product type\")\n",
        "plt.title(\"Top 10 product type with highest count\")\n",
        "plt.xticks(rotation=90)"
      ],
      "metadata": {
        "colab": {
          "base_uri": "https://localhost:8080/",
          "height": 541
        },
        "id": "WWAsOfUUeJOd",
        "outputId": "de53b1f8-d137-4963-d2c4-0bbbd314cd6c"
      },
      "execution_count": null,
      "outputs": [
        {
          "output_type": "execute_result",
          "data": {
            "text/plain": [
              "(array([0, 1, 2, 3, 4, 5, 6, 7, 8, 9]),\n",
              " <a list of 10 Text major ticklabel objects>)"
            ]
          },
          "metadata": {},
          "execution_count": 266
        },
        {
          "output_type": "display_data",
          "data": {
            "text/plain": [
              "<Figure size 432x288 with 1 Axes>"
            ],
            "image/png": "[encoded data removed]"
          },
          "metadata": {
            "needs_background": "light"
          }
        }
      ]
    },
    {
      "cell_type": "markdown",
      "source": [
        "# Avg price of products with prices in each Product Type"
      ],
      "metadata": {
        "id": "jVM5Z86odUGW"
      }
    },
    {
      "cell_type": "code",
      "source": [
        "#creating df product ty with avg price\n",
        "product_type_avg_price = pd.DataFrame(non_null_prices_df.groupby('product_type')['value'].mean().sort_values(ascending= False).reset_index())"
      ],
      "metadata": {
        "id": "VugMKUpdXi0n"
      },
      "execution_count": null,
      "outputs": []
    },
    {
      "cell_type": "code",
      "source": [
        "product_type_avg_price = product_type_avg_price.rename(columns={'value':'avg_price'})"
      ],
      "metadata": {
        "id": "dnwBAFLPZbG0"
      },
      "execution_count": null,
      "outputs": []
    },
    {
      "cell_type": "code",
      "source": [
        "#keeping df product type with avg price greater than 0\n",
        "product_type_avg_price = product_type_avg_price[product_type_avg_price['avg_price']>0]"
      ],
      "metadata": {
        "id": "2wTbnNVpZCjG"
      },
      "execution_count": null,
      "outputs": []
    },
    {
      "cell_type": "code",
      "source": [
        "#distribution plot of avg_price\n",
        "sns.displot(data=product_type_avg_price, x = \"avg_price\")\n",
        "plt.xlabel(\"Avg price of product\")\n",
        "plt.ylabel(\"No of product\")\n",
        "plt.title(\"Title : Distribution of avg price across product type\")"
      ],
      "metadata": {
        "colab": {
          "base_uri": "https://localhost:8080/",
          "height": 401
        },
        "id": "mbgNbyFcaCr4",
        "outputId": "142916a0-1aa4-4672-aa99-0f79e1249d1d"
      },
      "execution_count": null,
      "outputs": [
        {
          "output_type": "execute_result",
          "data": {
            "text/plain": [
              "Text(0.5, 1.0, 'Title : Distribution of avg price across product type')"
            ]
          },
          "metadata": {},
          "execution_count": 270
        },
        {
          "output_type": "display_data",
          "data": {
            "text/plain": [
              "<Figure size 360x360 with 1 Axes>"
            ],
            "image/png": "[encoded data removed]"
          },
          "metadata": {
            "needs_background": "light"
          }
        }
      ]
    },
    {
      "cell_type": "code",
      "source": [
        "# top 10 product type with highest avg value\n",
        "top_10_product_type = product_type_avg_price[:10]\n",
        "top_10_product_type\n"
      ],
      "metadata": {
        "colab": {
          "base_uri": "https://localhost:8080/",
          "height": 363
        },
        "id": "1GNGQppObZ8_",
        "outputId": "1d68c8c1-c25e-46f4-af9e-ccecb6c23627"
      },
      "execution_count": null,
      "outputs": [
        {
          "output_type": "execute_result",
          "data": {
            "text/plain": [
              "                                  product_type    avg_price\n",
              "0                                 TWF0cmVzc2Vz  1148.500000\n",
              "1  U3Ryb2xsZXJzL0NhciBzZWF0cy8gQWNjZXNzb3JpZXM   375.996667\n",
              "2                               U3VyZiBzdWl0cw   359.000000\n",
              "3                  V29tZW5zIHB1cnNlL3NhdGNoZWw   327.500000\n",
              "4                         QmFieSBNYXR0cmVzc2Vz   279.000000\n",
              "5                          bWVucyBPdXRlcndlYXI   268.875000\n",
              "6                           RGVodW1pZGlmaWVycw   226.636667\n",
              "7                               VHJhdmVsIEJhZw   225.000000\n",
              "8                                      Qm9vdHM   194.333333\n",
              "9                                 QmVkc2hlZXRz   192.000000"
            ],
            "text/html": [
              "\n",
              "  <div id=\"df-c7640f6a-a975-4bde-8984-d86c6e44324f\">\n",
              "    <div class=\"colab-df-container\">\n",
              "      <div>\n",
              "<style scoped>\n",
              "    .dataframe tbody tr th:only-of-type {\n",
              "        vertical-align: middle;\n",
              "    }\n",
              "\n",
              "    .dataframe tbody tr th {\n",
              "        vertical-align: top;\n",
              "    }\n",
              "\n",
              "    .dataframe thead th {\n",
              "        text-align: right;\n",
              "    }\n",
              "</style>\n",
              "<table border=\"1\" class=\"dataframe\">\n",
              "  <thead>\n",
              "    <tr style=\"text-align: right;\">\n",
              "      <th></th>\n",
              "      <th>product_type</th>\n",
              "      <th>avg_price</th>\n",
              "    </tr>\n",
              "  </thead>\n",
              "  <tbody>\n",
              "    <tr>\n",
              "      <th>0</th>\n",
              "      <td>TWF0cmVzc2Vz</td>\n",
              "      <td>1148.500000</td>\n",
              "    </tr>\n",
              "    <tr>\n",
              "      <th>1</th>\n",
              "      <td>U3Ryb2xsZXJzL0NhciBzZWF0cy8gQWNjZXNzb3JpZXM</td>\n",
              "      <td>375.996667</td>\n",
              "    </tr>\n",
              "    <tr>\n",
              "      <th>2</th>\n",
              "      <td>U3VyZiBzdWl0cw</td>\n",
              "      <td>359.000000</td>\n",
              "    </tr>\n",
              "    <tr>\n",
              "      <th>3</th>\n",
              "      <td>V29tZW5zIHB1cnNlL3NhdGNoZWw</td>\n",
              "      <td>327.500000</td>\n",
              "    </tr>\n",
              "    <tr>\n",
              "      <th>4</th>\n",
              "      <td>QmFieSBNYXR0cmVzc2Vz</td>\n",
              "      <td>279.000000</td>\n",
              "    </tr>\n",
              "    <tr>\n",
              "      <th>5</th>\n",
              "      <td>bWVucyBPdXRlcndlYXI</td>\n",
              "      <td>268.875000</td>\n",
              "    </tr>\n",
              "    <tr>\n",
              "      <th>6</th>\n",
              "      <td>RGVodW1pZGlmaWVycw</td>\n",
              "      <td>226.636667</td>\n",
              "    </tr>\n",
              "    <tr>\n",
              "      <th>7</th>\n",
              "      <td>VHJhdmVsIEJhZw</td>\n",
              "      <td>225.000000</td>\n",
              "    </tr>\n",
              "    <tr>\n",
              "      <th>8</th>\n",
              "      <td>Qm9vdHM</td>\n",
              "      <td>194.333333</td>\n",
              "    </tr>\n",
              "    <tr>\n",
              "      <th>9</th>\n",
              "      <td>QmVkc2hlZXRz</td>\n",
              "      <td>192.000000</td>\n",
              "    </tr>\n",
              "  </tbody>\n",
              "</table>\n",
              "</div>\n",
              "      <button class=\"colab-df-convert\" onclick=\"convertToInteractive('df-c7640f6a-a975-4bde-8984-d86c6e44324f')\"\n",
              "              title=\"Convert this dataframe to an interactive table.\"\n",
              "              style=\"display:none;\">\n",
              "        \n",
              "  <svg xmlns=\"http://www.w3.org/2000/svg\" height=\"24px\"viewBox=\"0 0 24 24\"\n",
              "       width=\"24px\">\n",
              "    <path d=\"M0 0h24v24H0V0z\" fill=\"none\"/>\n",
              "    <path d=\"M18.56 5.44l.94 2.06.94-2.06 2.06-.94-2.06-.94-.94-2.06-.94 2.06-2.06.94zm-11 1L8.5 8.5l.94-2.06 2.06-.94-2.06-.94L8.5 2.5l-.94 2.06-2.06.94zm10 10l.94 2.06.94-2.06 2.06-.94-2.06-.94-.94-2.06-.94 2.06-2.06.94z\"/><path d=\"M17.41 7.96l-1.37-1.37c-.4-.4-.92-.59-1.43-.59-.52 0-1.04.2-1.43.59L10.3 9.45l-7.72 7.72c-.78.78-.78 2.05 0 2.83L4 21.41c.39.39.9.59 1.41.59.51 0 1.02-.2 1.41-.59l7.78-7.78 2.81-2.81c.8-.78.8-2.07 0-2.86zM5.41 20L4 18.59l7.72-7.72 1.47 1.35L5.41 20z\"/>\n",
              "  </svg>\n",
              "      </button>\n",
              "      \n",
              "  <style>\n",
              "    .colab-df-container {\n",
              "      display:flex;\n",
              "      flex-wrap:wrap;\n",
              "      gap: 12px;\n",
              "    }\n",
              "\n",
              "    .colab-df-convert {\n",
              "      background-color: #E8F0FE;\n",
              "      border: none;\n",
              "      border-radius: 50%;\n",
              "      cursor: pointer;\n",
              "      display: none;\n",
              "      fill: #1967D2;\n",
              "      height: 32px;\n",
              "      padding: 0 0 0 0;\n",
              "      width: 32px;\n",
              "    }\n",
              "\n",
              "    .colab-df-convert:hover {\n",
              "      background-color: #E2EBFA;\n",
              "      box-shadow: 0px 1px 2px rgba(60, 64, 67, 0.3), 0px 1px 3px 1px rgba(60, 64, 67, 0.15);\n",
              "      fill: #174EA6;\n",
              "    }\n",
              "\n",
              "    [theme=dark] .colab-df-convert {\n",
              "      background-color: #3B4455;\n",
              "      fill: #D2E3FC;\n",
              "    }\n",
              "\n",
              "    [theme=dark] .colab-df-convert:hover {\n",
              "      background-color: #434B5C;\n",
              "      box-shadow: 0px 1px 3px 1px rgba(0, 0, 0, 0.15);\n",
              "      filter: drop-shadow(0px 1px 2px rgba(0, 0, 0, 0.3));\n",
              "      fill: #FFFFFF;\n",
              "    }\n",
              "  </style>\n",
              "\n",
              "      <script>\n",
              "        const buttonEl =\n",
              "          document.querySelector('#df-c7640f6a-a975-4bde-8984-d86c6e44324f button.colab-df-convert');\n",
              "        buttonEl.style.display =\n",
              "          google.colab.kernel.accessAllowed ? 'block' : 'none';\n",
              "\n",
              "        async function convertToInteractive(key) {\n",
              "          const element = document.querySelector('#df-c7640f6a-a975-4bde-8984-d86c6e44324f');\n",
              "          const dataTable =\n",
              "            await google.colab.kernel.invokeFunction('convertToInteractive',\n",
              "                                                     [key], {});\n",
              "          if (!dataTable) return;\n",
              "\n",
              "          const docLinkHtml = 'Like what you see? Visit the ' +\n",
              "            '<a target=\"_blank\" href=https://colab.research.google.com/notebooks/data_table.ipynb>data table notebook</a>'\n",
              "            + ' to learn more about interactive tables.';\n",
              "          element.innerHTML = '';\n",
              "          dataTable['output_type'] = 'display_data';\n",
              "          await google.colab.output.renderOutput(dataTable, element);\n",
              "          const docLink = document.createElement('div');\n",
              "          docLink.innerHTML = docLinkHtml;\n",
              "          element.appendChild(docLink);\n",
              "        }\n",
              "      </script>\n",
              "    </div>\n",
              "  </div>\n",
              "  "
            ]
          },
          "metadata": {},
          "execution_count": 271
        }
      ]
    },
    {
      "cell_type": "code",
      "source": [
        "# Visualisation top 10 product type with highest avg value bar plot\n",
        "sns.barplot(data=top_10_product_type,x = 'product_type',y = 'avg_price')\n",
        "plt.xlabel(\"Name of product type\")\n",
        "plt.ylabel(\"Avg price of product type\")\n",
        "plt.title(\"Top 10 product type with highest avg value bar plot\")\n",
        "plt.xticks(rotation=90)"
      ],
      "metadata": {
        "colab": {
          "base_uri": "https://localhost:8080/",
          "height": 589
        },
        "id": "iYWmnv6Tbw_N",
        "outputId": "38a9e11d-3b25-48e4-ba9d-7695119203c8"
      },
      "execution_count": null,
      "outputs": [
        {
          "output_type": "execute_result",
          "data": {
            "text/plain": [
              "(array([0, 1, 2, 3, 4, 5, 6, 7, 8, 9]),\n",
              " <a list of 10 Text major ticklabel objects>)"
            ]
          },
          "metadata": {},
          "execution_count": 272
        },
        {
          "output_type": "display_data",
          "data": {
            "text/plain": [
              "<Figure size 432x288 with 1 Axes>"
            ],
            "image/png": "[encoded data removed]"
          },
          "metadata": {
            "needs_background": "light"
          }
        }
      ]
    },
    {
      "cell_type": "markdown",
      "source": [
        "# Count of unique category with non null prices"
      ],
      "metadata": {
        "id": "9CCXO3dGevMJ"
      }
    },
    {
      "cell_type": "code",
      "source": [
        "#creating df category with count of non null prices\n",
        "\n",
        "category_count = pd.DataFrame(non_null_prices_df.groupby('category')['value'].size().sort_values(ascending= False).reset_index())\n",
        "\n",
        "category_count = category_count.rename(columns={'value':'count'})\n",
        "\n",
        "category_count"
      ],
      "metadata": {
        "colab": {
          "base_uri": "https://localhost:8080/",
          "height": 457
        },
        "id": "-deDmTTPe6g8",
        "outputId": "bfbe8185-e5e1-4e34-f0b5-d339d058b3a0"
      },
      "execution_count": null,
      "outputs": [
        {
          "output_type": "execute_result",
          "data": {
            "text/plain": [
              "                               category  count\n",
              "0      Q2xvdGhpbmcgYW5kIEFjY2Vzc29yaWVz    186\n",
              "1      YmVhdXR5IGFuZCBwZXJzb25hbCBjYXJl     75\n",
              "2        SG91c2Vob2xkIGFuZCBDbGVhbmluZw     70\n",
              "3                          Z3JvY2VyaWVz     48\n",
              "4            a2l0Y2hpbmcgYW5kIGRpbmluZw     34\n",
              "5                              SGVhbHRo     29\n",
              "6   VG9vbHMgYW5kIGhvbWUgaW1wcm92ZW1lbnQ     20\n",
              "7                      QXJ0IHN1cHBsaWVz     19\n",
              "8                   VG95cyBhbmQgR2FtZXM     19\n",
              "9                      cGV0IHN1cHBsaWVz     16\n",
              "10                 b2ZmaWNlIHByb2R1Y3Rz     15\n",
              "11                      RWxlY3Ryb25pY3M     11\n",
              "12                          QmFieWNhcmU      9"
            ],
            "text/html": [
              "\n",
              "  <div id=\"df-79951a09-633c-424d-ab20-6dc39b75f237\">\n",
              "    <div class=\"colab-df-container\">\n",
              "      <div>\n",
              "<style scoped>\n",
              "    .dataframe tbody tr th:only-of-type {\n",
              "        vertical-align: middle;\n",
              "    }\n",
              "\n",
              "    .dataframe tbody tr th {\n",
              "        vertical-align: top;\n",
              "    }\n",
              "\n",
              "    .dataframe thead th {\n",
              "        text-align: right;\n",
              "    }\n",
              "</style>\n",
              "<table border=\"1\" class=\"dataframe\">\n",
              "  <thead>\n",
              "    <tr style=\"text-align: right;\">\n",
              "      <th></th>\n",
              "      <th>category</th>\n",
              "      <th>count</th>\n",
              "    </tr>\n",
              "  </thead>\n",
              "  <tbody>\n",
              "    <tr>\n",
              "      <th>0</th>\n",
              "      <td>Q2xvdGhpbmcgYW5kIEFjY2Vzc29yaWVz</td>\n",
              "      <td>186</td>\n",
              "    </tr>\n",
              "    <tr>\n",
              "      <th>1</th>\n",
              "      <td>YmVhdXR5IGFuZCBwZXJzb25hbCBjYXJl</td>\n",
              "      <td>75</td>\n",
              "    </tr>\n",
              "    <tr>\n",
              "      <th>2</th>\n",
              "      <td>SG91c2Vob2xkIGFuZCBDbGVhbmluZw</td>\n",
              "      <td>70</td>\n",
              "    </tr>\n",
              "    <tr>\n",
              "      <th>3</th>\n",
              "      <td>Z3JvY2VyaWVz</td>\n",
              "      <td>48</td>\n",
              "    </tr>\n",
              "    <tr>\n",
              "      <th>4</th>\n",
              "      <td>a2l0Y2hpbmcgYW5kIGRpbmluZw</td>\n",
              "      <td>34</td>\n",
              "    </tr>\n",
              "    <tr>\n",
              "      <th>5</th>\n",
              "      <td>SGVhbHRo</td>\n",
              "      <td>29</td>\n",
              "    </tr>\n",
              "    <tr>\n",
              "      <th>6</th>\n",
              "      <td>VG9vbHMgYW5kIGhvbWUgaW1wcm92ZW1lbnQ</td>\n",
              "      <td>20</td>\n",
              "    </tr>\n",
              "    <tr>\n",
              "      <th>7</th>\n",
              "      <td>QXJ0IHN1cHBsaWVz</td>\n",
              "      <td>19</td>\n",
              "    </tr>\n",
              "    <tr>\n",
              "      <th>8</th>\n",
              "      <td>VG95cyBhbmQgR2FtZXM</td>\n",
              "      <td>19</td>\n",
              "    </tr>\n",
              "    <tr>\n",
              "      <th>9</th>\n",
              "      <td>cGV0IHN1cHBsaWVz</td>\n",
              "      <td>16</td>\n",
              "    </tr>\n",
              "    <tr>\n",
              "      <th>10</th>\n",
              "      <td>b2ZmaWNlIHByb2R1Y3Rz</td>\n",
              "      <td>15</td>\n",
              "    </tr>\n",
              "    <tr>\n",
              "      <th>11</th>\n",
              "      <td>RWxlY3Ryb25pY3M</td>\n",
              "      <td>11</td>\n",
              "    </tr>\n",
              "    <tr>\n",
              "      <th>12</th>\n",
              "      <td>QmFieWNhcmU</td>\n",
              "      <td>9</td>\n",
              "    </tr>\n",
              "  </tbody>\n",
              "</table>\n",
              "</div>\n",
              "      <button class=\"colab-df-convert\" onclick=\"convertToInteractive('df-79951a09-633c-424d-ab20-6dc39b75f237')\"\n",
              "              title=\"Convert this dataframe to an interactive table.\"\n",
              "              style=\"display:none;\">\n",
              "        \n",
              "  <svg xmlns=\"http://www.w3.org/2000/svg\" height=\"24px\"viewBox=\"0 0 24 24\"\n",
              "       width=\"24px\">\n",
              "    <path d=\"M0 0h24v24H0V0z\" fill=\"none\"/>\n",
              "    <path d=\"M18.56 5.44l.94 2.06.94-2.06 2.06-.94-2.06-.94-.94-2.06-.94 2.06-2.06.94zm-11 1L8.5 8.5l.94-2.06 2.06-.94-2.06-.94L8.5 2.5l-.94 2.06-2.06.94zm10 10l.94 2.06.94-2.06 2.06-.94-2.06-.94-.94-2.06-.94 2.06-2.06.94z\"/><path d=\"M17.41 7.96l-1.37-1.37c-.4-.4-.92-.59-1.43-.59-.52 0-1.04.2-1.43.59L10.3 9.45l-7.72 7.72c-.78.78-.78 2.05 0 2.83L4 21.41c.39.39.9.59 1.41.59.51 0 1.02-.2 1.41-.59l7.78-7.78 2.81-2.81c.8-.78.8-2.07 0-2.86zM5.41 20L4 18.59l7.72-7.72 1.47 1.35L5.41 20z\"/>\n",
              "  </svg>\n",
              "      </button>\n",
              "      \n",
              "  <style>\n",
              "    .colab-df-container {\n",
              "      display:flex;\n",
              "      flex-wrap:wrap;\n",
              "      gap: 12px;\n",
              "    }\n",
              "\n",
              "    .colab-df-convert {\n",
              "      background-color: #E8F0FE;\n",
              "      border: none;\n",
              "      border-radius: 50%;\n",
              "      cursor: pointer;\n",
              "      display: none;\n",
              "      fill: #1967D2;\n",
              "      height: 32px;\n",
              "      padding: 0 0 0 0;\n",
              "      width: 32px;\n",
              "    }\n",
              "\n",
              "    .colab-df-convert:hover {\n",
              "      background-color: #E2EBFA;\n",
              "      box-shadow: 0px 1px 2px rgba(60, 64, 67, 0.3), 0px 1px 3px 1px rgba(60, 64, 67, 0.15);\n",
              "      fill: #174EA6;\n",
              "    }\n",
              "\n",
              "    [theme=dark] .colab-df-convert {\n",
              "      background-color: #3B4455;\n",
              "      fill: #D2E3FC;\n",
              "    }\n",
              "\n",
              "    [theme=dark] .colab-df-convert:hover {\n",
              "      background-color: #434B5C;\n",
              "      box-shadow: 0px 1px 3px 1px rgba(0, 0, 0, 0.15);\n",
              "      filter: drop-shadow(0px 1px 2px rgba(0, 0, 0, 0.3));\n",
              "      fill: #FFFFFF;\n",
              "    }\n",
              "  </style>\n",
              "\n",
              "      <script>\n",
              "        const buttonEl =\n",
              "          document.querySelector('#df-79951a09-633c-424d-ab20-6dc39b75f237 button.colab-df-convert');\n",
              "        buttonEl.style.display =\n",
              "          google.colab.kernel.accessAllowed ? 'block' : 'none';\n",
              "\n",
              "        async function convertToInteractive(key) {\n",
              "          const element = document.querySelector('#df-79951a09-633c-424d-ab20-6dc39b75f237');\n",
              "          const dataTable =\n",
              "            await google.colab.kernel.invokeFunction('convertToInteractive',\n",
              "                                                     [key], {});\n",
              "          if (!dataTable) return;\n",
              "\n",
              "          const docLinkHtml = 'Like what you see? Visit the ' +\n",
              "            '<a target=\"_blank\" href=https://colab.research.google.com/notebooks/data_table.ipynb>data table notebook</a>'\n",
              "            + ' to learn more about interactive tables.';\n",
              "          element.innerHTML = '';\n",
              "          dataTable['output_type'] = 'display_data';\n",
              "          await google.colab.output.renderOutput(dataTable, element);\n",
              "          const docLink = document.createElement('div');\n",
              "          docLink.innerHTML = docLinkHtml;\n",
              "          element.appendChild(docLink);\n",
              "        }\n",
              "      </script>\n",
              "    </div>\n",
              "  </div>\n",
              "  "
            ]
          },
          "metadata": {},
          "execution_count": 273
        }
      ]
    },
    {
      "cell_type": "code",
      "source": [
        "#distribution plot of avg_price\n",
        "sns.displot(data=category_count, x = \"count\",bins = 10)\n",
        "plt.xlabel(\"count of product\")\n",
        "plt.ylabel(\"No of product\")\n",
        "plt.title(\"Title : Distribution of count across category with prices\")"
      ],
      "metadata": {
        "colab": {
          "base_uri": "https://localhost:8080/",
          "height": 402
        },
        "id": "esGsNPPve6dm",
        "outputId": "a0a02762-c7d0-4662-a6b8-02896ae849d5"
      },
      "execution_count": null,
      "outputs": [
        {
          "output_type": "execute_result",
          "data": {
            "text/plain": [
              "Text(0.5, 1.0, 'Title : Distribution of count across category with prices')"
            ]
          },
          "metadata": {},
          "execution_count": 274
        },
        {
          "output_type": "display_data",
          "data": {
            "text/plain": [
              "<Figure size 360x360 with 1 Axes>"
            ],
            "image/png": "[encoded data removed]"
          },
          "metadata": {
            "needs_background": "light"
          }
        }
      ]
    },
    {
      "cell_type": "code",
      "source": [
        "# top 10 category_count with highest count of non null prices\n",
        "top_10_category_count = category_count[:10]\n",
        "top_10_category_count"
      ],
      "metadata": {
        "colab": {
          "base_uri": "https://localhost:8080/",
          "height": 363
        },
        "id": "TsVibpZNe6Z9",
        "outputId": "6dfba931-2aad-4abc-b0ca-add032b010d0"
      },
      "execution_count": null,
      "outputs": [
        {
          "output_type": "execute_result",
          "data": {
            "text/plain": [
              "                              category  count\n",
              "0     Q2xvdGhpbmcgYW5kIEFjY2Vzc29yaWVz    186\n",
              "1     YmVhdXR5IGFuZCBwZXJzb25hbCBjYXJl     75\n",
              "2       SG91c2Vob2xkIGFuZCBDbGVhbmluZw     70\n",
              "3                         Z3JvY2VyaWVz     48\n",
              "4           a2l0Y2hpbmcgYW5kIGRpbmluZw     34\n",
              "5                             SGVhbHRo     29\n",
              "6  VG9vbHMgYW5kIGhvbWUgaW1wcm92ZW1lbnQ     20\n",
              "7                     QXJ0IHN1cHBsaWVz     19\n",
              "8                  VG95cyBhbmQgR2FtZXM     19\n",
              "9                     cGV0IHN1cHBsaWVz     16"
            ],
            "text/html": [
              "\n",
              "  <div id=\"df-cc70e652-0bc7-4734-94bc-fa6355a4549c\">\n",
              "    <div class=\"colab-df-container\">\n",
              "      <div>\n",
              "<style scoped>\n",
              "    .dataframe tbody tr th:only-of-type {\n",
              "        vertical-align: middle;\n",
              "    }\n",
              "\n",
              "    .dataframe tbody tr th {\n",
              "        vertical-align: top;\n",
              "    }\n",
              "\n",
              "    .dataframe thead th {\n",
              "        text-align: right;\n",
              "    }\n",
              "</style>\n",
              "<table border=\"1\" class=\"dataframe\">\n",
              "  <thead>\n",
              "    <tr style=\"text-align: right;\">\n",
              "      <th></th>\n",
              "      <th>category</th>\n",
              "      <th>count</th>\n",
              "    </tr>\n",
              "  </thead>\n",
              "  <tbody>\n",
              "    <tr>\n",
              "      <th>0</th>\n",
              "      <td>Q2xvdGhpbmcgYW5kIEFjY2Vzc29yaWVz</td>\n",
              "      <td>186</td>\n",
              "    </tr>\n",
              "    <tr>\n",
              "      <th>1</th>\n",
              "      <td>YmVhdXR5IGFuZCBwZXJzb25hbCBjYXJl</td>\n",
              "      <td>75</td>\n",
              "    </tr>\n",
              "    <tr>\n",
              "      <th>2</th>\n",
              "      <td>SG91c2Vob2xkIGFuZCBDbGVhbmluZw</td>\n",
              "      <td>70</td>\n",
              "    </tr>\n",
              "    <tr>\n",
              "      <th>3</th>\n",
              "      <td>Z3JvY2VyaWVz</td>\n",
              "      <td>48</td>\n",
              "    </tr>\n",
              "    <tr>\n",
              "      <th>4</th>\n",
              "      <td>a2l0Y2hpbmcgYW5kIGRpbmluZw</td>\n",
              "      <td>34</td>\n",
              "    </tr>\n",
              "    <tr>\n",
              "      <th>5</th>\n",
              "      <td>SGVhbHRo</td>\n",
              "      <td>29</td>\n",
              "    </tr>\n",
              "    <tr>\n",
              "      <th>6</th>\n",
              "      <td>VG9vbHMgYW5kIGhvbWUgaW1wcm92ZW1lbnQ</td>\n",
              "      <td>20</td>\n",
              "    </tr>\n",
              "    <tr>\n",
              "      <th>7</th>\n",
              "      <td>QXJ0IHN1cHBsaWVz</td>\n",
              "      <td>19</td>\n",
              "    </tr>\n",
              "    <tr>\n",
              "      <th>8</th>\n",
              "      <td>VG95cyBhbmQgR2FtZXM</td>\n",
              "      <td>19</td>\n",
              "    </tr>\n",
              "    <tr>\n",
              "      <th>9</th>\n",
              "      <td>cGV0IHN1cHBsaWVz</td>\n",
              "      <td>16</td>\n",
              "    </tr>\n",
              "  </tbody>\n",
              "</table>\n",
              "</div>\n",
              "      <button class=\"colab-df-convert\" onclick=\"convertToInteractive('df-cc70e652-0bc7-4734-94bc-fa6355a4549c')\"\n",
              "              title=\"Convert this dataframe to an interactive table.\"\n",
              "              style=\"display:none;\">\n",
              "        \n",
              "  <svg xmlns=\"http://www.w3.org/2000/svg\" height=\"24px\"viewBox=\"0 0 24 24\"\n",
              "       width=\"24px\">\n",
              "    <path d=\"M0 0h24v24H0V0z\" fill=\"none\"/>\n",
              "    <path d=\"M18.56 5.44l.94 2.06.94-2.06 2.06-.94-2.06-.94-.94-2.06-.94 2.06-2.06.94zm-11 1L8.5 8.5l.94-2.06 2.06-.94-2.06-.94L8.5 2.5l-.94 2.06-2.06.94zm10 10l.94 2.06.94-2.06 2.06-.94-2.06-.94-.94-2.06-.94 2.06-2.06.94z\"/><path d=\"M17.41 7.96l-1.37-1.37c-.4-.4-.92-.59-1.43-.59-.52 0-1.04.2-1.43.59L10.3 9.45l-7.72 7.72c-.78.78-.78 2.05 0 2.83L4 21.41c.39.39.9.59 1.41.59.51 0 1.02-.2 1.41-.59l7.78-7.78 2.81-2.81c.8-.78.8-2.07 0-2.86zM5.41 20L4 18.59l7.72-7.72 1.47 1.35L5.41 20z\"/>\n",
              "  </svg>\n",
              "      </button>\n",
              "      \n",
              "  <style>\n",
              "    .colab-df-container {\n",
              "      display:flex;\n",
              "      flex-wrap:wrap;\n",
              "      gap: 12px;\n",
              "    }\n",
              "\n",
              "    .colab-df-convert {\n",
              "      background-color: #E8F0FE;\n",
              "      border: none;\n",
              "      border-radius: 50%;\n",
              "      cursor: pointer;\n",
              "      display: none;\n",
              "      fill: #1967D2;\n",
              "      height: 32px;\n",
              "      padding: 0 0 0 0;\n",
              "      width: 32px;\n",
              "    }\n",
              "\n",
              "    .colab-df-convert:hover {\n",
              "      background-color: #E2EBFA;\n",
              "      box-shadow: 0px 1px 2px rgba(60, 64, 67, 0.3), 0px 1px 3px 1px rgba(60, 64, 67, 0.15);\n",
              "      fill: #174EA6;\n",
              "    }\n",
              "\n",
              "    [theme=dark] .colab-df-convert {\n",
              "      background-color: #3B4455;\n",
              "      fill: #D2E3FC;\n",
              "    }\n",
              "\n",
              "    [theme=dark] .colab-df-convert:hover {\n",
              "      background-color: #434B5C;\n",
              "      box-shadow: 0px 1px 3px 1px rgba(0, 0, 0, 0.15);\n",
              "      filter: drop-shadow(0px 1px 2px rgba(0, 0, 0, 0.3));\n",
              "      fill: #FFFFFF;\n",
              "    }\n",
              "  </style>\n",
              "\n",
              "      <script>\n",
              "        const buttonEl =\n",
              "          document.querySelector('#df-cc70e652-0bc7-4734-94bc-fa6355a4549c button.colab-df-convert');\n",
              "        buttonEl.style.display =\n",
              "          google.colab.kernel.accessAllowed ? 'block' : 'none';\n",
              "\n",
              "        async function convertToInteractive(key) {\n",
              "          const element = document.querySelector('#df-cc70e652-0bc7-4734-94bc-fa6355a4549c');\n",
              "          const dataTable =\n",
              "            await google.colab.kernel.invokeFunction('convertToInteractive',\n",
              "                                                     [key], {});\n",
              "          if (!dataTable) return;\n",
              "\n",
              "          const docLinkHtml = 'Like what you see? Visit the ' +\n",
              "            '<a target=\"_blank\" href=https://colab.research.google.com/notebooks/data_table.ipynb>data table notebook</a>'\n",
              "            + ' to learn more about interactive tables.';\n",
              "          element.innerHTML = '';\n",
              "          dataTable['output_type'] = 'display_data';\n",
              "          await google.colab.output.renderOutput(dataTable, element);\n",
              "          const docLink = document.createElement('div');\n",
              "          docLink.innerHTML = docLinkHtml;\n",
              "          element.appendChild(docLink);\n",
              "        }\n",
              "      </script>\n",
              "    </div>\n",
              "  </div>\n",
              "  "
            ]
          },
          "metadata": {},
          "execution_count": 275
        }
      ]
    },
    {
      "cell_type": "code",
      "source": [
        "# Visualisation top 10 category_count with highest count of non null prices\n",
        "sns.barplot(data=top_10_category_count,x = 'category',y = 'count')\n",
        "plt.xlabel(\"Name of category\")\n",
        "plt.ylabel(\"Count of null null price of the category\")\n",
        "plt.title(\"top 10 category with highest count of non null prices\")\n",
        "plt.xticks(rotation=90)"
      ],
      "metadata": {
        "colab": {
          "base_uri": "https://localhost:8080/",
          "height": 561
        },
        "id": "JaAblhITe6WR",
        "outputId": "b3a93551-0190-4c9f-dc02-5fc3f474c0d5"
      },
      "execution_count": null,
      "outputs": [
        {
          "output_type": "execute_result",
          "data": {
            "text/plain": [
              "(array([0, 1, 2, 3, 4, 5, 6, 7, 8, 9]),\n",
              " <a list of 10 Text major ticklabel objects>)"
            ]
          },
          "metadata": {},
          "execution_count": 276
        },
        {
          "output_type": "display_data",
          "data": {
            "text/plain": [
              "<Figure size 432x288 with 1 Axes>"
            ],
            "image/png": "[encoded data removed]"
          },
          "metadata": {
            "needs_background": "light"
          }
        }
      ]
    },
    {
      "cell_type": "markdown",
      "source": [
        "# Unique Categories with average price of product"
      ],
      "metadata": {
        "id": "rL0L9A2rgwsC"
      }
    },
    {
      "cell_type": "code",
      "source": [
        "#creating df category with avg price\n",
        "category_avg_price = pd.DataFrame(non_null_prices_df.groupby('category')['value'].mean().sort_values(ascending= False).reset_index())"
      ],
      "metadata": {
        "id": "xi71UlOLaSkg"
      },
      "execution_count": null,
      "outputs": []
    },
    {
      "cell_type": "code",
      "source": [
        "#list of category with avg price of products\n",
        "category_avg_price = category_avg_price.rename(columns={'value':'avg_price'})\n",
        "category_avg_price"
      ],
      "metadata": {
        "id": "h_SMY_FBa4EQ",
        "colab": {
          "base_uri": "https://localhost:8080/",
          "height": 457
        },
        "outputId": "cc08b552-638c-486b-995c-280af5a89219"
      },
      "execution_count": null,
      "outputs": [
        {
          "output_type": "execute_result",
          "data": {
            "text/plain": [
              "                               category   avg_price\n",
              "0                           QmFieWNhcmU  163.688889\n",
              "1      Q2xvdGhpbmcgYW5kIEFjY2Vzc29yaWVz  125.413871\n",
              "2   VG9vbHMgYW5kIGhvbWUgaW1wcm92ZW1lbnQ   82.223500\n",
              "3        SG91c2Vob2xkIGFuZCBDbGVhbmluZw   76.199000\n",
              "4                       RWxlY3Ryb25pY3M   60.258182\n",
              "5      YmVhdXR5IGFuZCBwZXJzb25hbCBjYXJl   34.745067\n",
              "6                              SGVhbHRo   32.557586\n",
              "7                   VG95cyBhbmQgR2FtZXM   32.448947\n",
              "8                  b2ZmaWNlIHByb2R1Y3Rz   20.480000\n",
              "9                      QXJ0IHN1cHBsaWVz   19.471053\n",
              "10           a2l0Y2hpbmcgYW5kIGRpbmluZw   16.703235\n",
              "11                     cGV0IHN1cHBsaWVz   14.181875\n",
              "12                         Z3JvY2VyaWVz   10.541667"
            ],
            "text/html": [
              "\n",
              "  <div id=\"df-a0428f1a-df64-4066-ae33-fd987a9053cf\">\n",
              "    <div class=\"colab-df-container\">\n",
              "      <div>\n",
              "<style scoped>\n",
              "    .dataframe tbody tr th:only-of-type {\n",
              "        vertical-align: middle;\n",
              "    }\n",
              "\n",
              "    .dataframe tbody tr th {\n",
              "        vertical-align: top;\n",
              "    }\n",
              "\n",
              "    .dataframe thead th {\n",
              "        text-align: right;\n",
              "    }\n",
              "</style>\n",
              "<table border=\"1\" class=\"dataframe\">\n",
              "  <thead>\n",
              "    <tr style=\"text-align: right;\">\n",
              "      <th></th>\n",
              "      <th>category</th>\n",
              "      <th>avg_price</th>\n",
              "    </tr>\n",
              "  </thead>\n",
              "  <tbody>\n",
              "    <tr>\n",
              "      <th>0</th>\n",
              "      <td>QmFieWNhcmU</td>\n",
              "      <td>163.688889</td>\n",
              "    </tr>\n",
              "    <tr>\n",
              "      <th>1</th>\n",
              "      <td>Q2xvdGhpbmcgYW5kIEFjY2Vzc29yaWVz</td>\n",
              "      <td>125.413871</td>\n",
              "    </tr>\n",
              "    <tr>\n",
              "      <th>2</th>\n",
              "      <td>VG9vbHMgYW5kIGhvbWUgaW1wcm92ZW1lbnQ</td>\n",
              "      <td>82.223500</td>\n",
              "    </tr>\n",
              "    <tr>\n",
              "      <th>3</th>\n",
              "      <td>SG91c2Vob2xkIGFuZCBDbGVhbmluZw</td>\n",
              "      <td>76.199000</td>\n",
              "    </tr>\n",
              "    <tr>\n",
              "      <th>4</th>\n",
              "      <td>RWxlY3Ryb25pY3M</td>\n",
              "      <td>60.258182</td>\n",
              "    </tr>\n",
              "    <tr>\n",
              "      <th>5</th>\n",
              "      <td>YmVhdXR5IGFuZCBwZXJzb25hbCBjYXJl</td>\n",
              "      <td>34.745067</td>\n",
              "    </tr>\n",
              "    <tr>\n",
              "      <th>6</th>\n",
              "      <td>SGVhbHRo</td>\n",
              "      <td>32.557586</td>\n",
              "    </tr>\n",
              "    <tr>\n",
              "      <th>7</th>\n",
              "      <td>VG95cyBhbmQgR2FtZXM</td>\n",
              "      <td>32.448947</td>\n",
              "    </tr>\n",
              "    <tr>\n",
              "      <th>8</th>\n",
              "      <td>b2ZmaWNlIHByb2R1Y3Rz</td>\n",
              "      <td>20.480000</td>\n",
              "    </tr>\n",
              "    <tr>\n",
              "      <th>9</th>\n",
              "      <td>QXJ0IHN1cHBsaWVz</td>\n",
              "      <td>19.471053</td>\n",
              "    </tr>\n",
              "    <tr>\n",
              "      <th>10</th>\n",
              "      <td>a2l0Y2hpbmcgYW5kIGRpbmluZw</td>\n",
              "      <td>16.703235</td>\n",
              "    </tr>\n",
              "    <tr>\n",
              "      <th>11</th>\n",
              "      <td>cGV0IHN1cHBsaWVz</td>\n",
              "      <td>14.181875</td>\n",
              "    </tr>\n",
              "    <tr>\n",
              "      <th>12</th>\n",
              "      <td>Z3JvY2VyaWVz</td>\n",
              "      <td>10.541667</td>\n",
              "    </tr>\n",
              "  </tbody>\n",
              "</table>\n",
              "</div>\n",
              "      <button class=\"colab-df-convert\" onclick=\"convertToInteractive('df-a0428f1a-df64-4066-ae33-fd987a9053cf')\"\n",
              "              title=\"Convert this dataframe to an interactive table.\"\n",
              "              style=\"display:none;\">\n",
              "        \n",
              "  <svg xmlns=\"http://www.w3.org/2000/svg\" height=\"24px\"viewBox=\"0 0 24 24\"\n",
              "       width=\"24px\">\n",
              "    <path d=\"M0 0h24v24H0V0z\" fill=\"none\"/>\n",
              "    <path d=\"M18.56 5.44l.94 2.06.94-2.06 2.06-.94-2.06-.94-.94-2.06-.94 2.06-2.06.94zm-11 1L8.5 8.5l.94-2.06 2.06-.94-2.06-.94L8.5 2.5l-.94 2.06-2.06.94zm10 10l.94 2.06.94-2.06 2.06-.94-2.06-.94-.94-2.06-.94 2.06-2.06.94z\"/><path d=\"M17.41 7.96l-1.37-1.37c-.4-.4-.92-.59-1.43-.59-.52 0-1.04.2-1.43.59L10.3 9.45l-7.72 7.72c-.78.78-.78 2.05 0 2.83L4 21.41c.39.39.9.59 1.41.59.51 0 1.02-.2 1.41-.59l7.78-7.78 2.81-2.81c.8-.78.8-2.07 0-2.86zM5.41 20L4 18.59l7.72-7.72 1.47 1.35L5.41 20z\"/>\n",
              "  </svg>\n",
              "      </button>\n",
              "      \n",
              "  <style>\n",
              "    .colab-df-container {\n",
              "      display:flex;\n",
              "      flex-wrap:wrap;\n",
              "      gap: 12px;\n",
              "    }\n",
              "\n",
              "    .colab-df-convert {\n",
              "      background-color: #E8F0FE;\n",
              "      border: none;\n",
              "      border-radius: 50%;\n",
              "      cursor: pointer;\n",
              "      display: none;\n",
              "      fill: #1967D2;\n",
              "      height: 32px;\n",
              "      padding: 0 0 0 0;\n",
              "      width: 32px;\n",
              "    }\n",
              "\n",
              "    .colab-df-convert:hover {\n",
              "      background-color: #E2EBFA;\n",
              "      box-shadow: 0px 1px 2px rgba(60, 64, 67, 0.3), 0px 1px 3px 1px rgba(60, 64, 67, 0.15);\n",
              "      fill: #174EA6;\n",
              "    }\n",
              "\n",
              "    [theme=dark] .colab-df-convert {\n",
              "      background-color: #3B4455;\n",
              "      fill: #D2E3FC;\n",
              "    }\n",
              "\n",
              "    [theme=dark] .colab-df-convert:hover {\n",
              "      background-color: #434B5C;\n",
              "      box-shadow: 0px 1px 3px 1px rgba(0, 0, 0, 0.15);\n",
              "      filter: drop-shadow(0px 1px 2px rgba(0, 0, 0, 0.3));\n",
              "      fill: #FFFFFF;\n",
              "    }\n",
              "  </style>\n",
              "\n",
              "      <script>\n",
              "        const buttonEl =\n",
              "          document.querySelector('#df-a0428f1a-df64-4066-ae33-fd987a9053cf button.colab-df-convert');\n",
              "        buttonEl.style.display =\n",
              "          google.colab.kernel.accessAllowed ? 'block' : 'none';\n",
              "\n",
              "        async function convertToInteractive(key) {\n",
              "          const element = document.querySelector('#df-a0428f1a-df64-4066-ae33-fd987a9053cf');\n",
              "          const dataTable =\n",
              "            await google.colab.kernel.invokeFunction('convertToInteractive',\n",
              "                                                     [key], {});\n",
              "          if (!dataTable) return;\n",
              "\n",
              "          const docLinkHtml = 'Like what you see? Visit the ' +\n",
              "            '<a target=\"_blank\" href=https://colab.research.google.com/notebooks/data_table.ipynb>data table notebook</a>'\n",
              "            + ' to learn more about interactive tables.';\n",
              "          element.innerHTML = '';\n",
              "          dataTable['output_type'] = 'display_data';\n",
              "          await google.colab.output.renderOutput(dataTable, element);\n",
              "          const docLink = document.createElement('div');\n",
              "          docLink.innerHTML = docLinkHtml;\n",
              "          element.appendChild(docLink);\n",
              "        }\n",
              "      </script>\n",
              "    </div>\n",
              "  </div>\n",
              "  "
            ]
          },
          "metadata": {},
          "execution_count": 278
        }
      ]
    },
    {
      "cell_type": "code",
      "source": [
        "#distribution plot of avg_price with respect to category\n",
        "sns.displot(data=category_avg_price, x = \"avg_price\",bins = 10)\n",
        "plt.xlabel(\"Avg price of product\")\n",
        "plt.ylabel(\"No of product\")\n",
        "plt.title(\"Title : Distribution of avg price across category\")"
      ],
      "metadata": {
        "colab": {
          "base_uri": "https://localhost:8080/",
          "height": 401
        },
        "id": "zcb60jbRa5y3",
        "outputId": "6060dbcf-8ac1-4541-e750-668a117892c5"
      },
      "execution_count": null,
      "outputs": [
        {
          "output_type": "execute_result",
          "data": {
            "text/plain": [
              "Text(0.5, 1.0, 'Title : Distribution of avg price across category')"
            ]
          },
          "metadata": {},
          "execution_count": 279
        },
        {
          "output_type": "display_data",
          "data": {
            "text/plain": [
              "<Figure size 360x360 with 1 Axes>"
            ],
            "image/png": "[encoded data removed]"
          },
          "metadata": {
            "needs_background": "light"
          }
        }
      ]
    },
    {
      "cell_type": "code",
      "source": [
        "# top 10 category with highest avg value\n",
        "top_10_category = category_avg_price[:10]\n",
        "top_10_category"
      ],
      "metadata": {
        "id": "j55qtikcbMhd",
        "colab": {
          "base_uri": "https://localhost:8080/",
          "height": 363
        },
        "outputId": "a73ab6a5-69e1-4fdf-a952-426439127a89"
      },
      "execution_count": null,
      "outputs": [
        {
          "output_type": "execute_result",
          "data": {
            "text/plain": [
              "                              category   avg_price\n",
              "0                          QmFieWNhcmU  163.688889\n",
              "1     Q2xvdGhpbmcgYW5kIEFjY2Vzc29yaWVz  125.413871\n",
              "2  VG9vbHMgYW5kIGhvbWUgaW1wcm92ZW1lbnQ   82.223500\n",
              "3       SG91c2Vob2xkIGFuZCBDbGVhbmluZw   76.199000\n",
              "4                      RWxlY3Ryb25pY3M   60.258182\n",
              "5     YmVhdXR5IGFuZCBwZXJzb25hbCBjYXJl   34.745067\n",
              "6                             SGVhbHRo   32.557586\n",
              "7                  VG95cyBhbmQgR2FtZXM   32.448947\n",
              "8                 b2ZmaWNlIHByb2R1Y3Rz   20.480000\n",
              "9                     QXJ0IHN1cHBsaWVz   19.471053"
            ],
            "text/html": [
              "\n",
              "  <div id=\"df-07d66185-0ce2-4db9-a9dd-8437318f9fb0\">\n",
              "    <div class=\"colab-df-container\">\n",
              "      <div>\n",
              "<style scoped>\n",
              "    .dataframe tbody tr th:only-of-type {\n",
              "        vertical-align: middle;\n",
              "    }\n",
              "\n",
              "    .dataframe tbody tr th {\n",
              "        vertical-align: top;\n",
              "    }\n",
              "\n",
              "    .dataframe thead th {\n",
              "        text-align: right;\n",
              "    }\n",
              "</style>\n",
              "<table border=\"1\" class=\"dataframe\">\n",
              "  <thead>\n",
              "    <tr style=\"text-align: right;\">\n",
              "      <th></th>\n",
              "      <th>category</th>\n",
              "      <th>avg_price</th>\n",
              "    </tr>\n",
              "  </thead>\n",
              "  <tbody>\n",
              "    <tr>\n",
              "      <th>0</th>\n",
              "      <td>QmFieWNhcmU</td>\n",
              "      <td>163.688889</td>\n",
              "    </tr>\n",
              "    <tr>\n",
              "      <th>1</th>\n",
              "      <td>Q2xvdGhpbmcgYW5kIEFjY2Vzc29yaWVz</td>\n",
              "      <td>125.413871</td>\n",
              "    </tr>\n",
              "    <tr>\n",
              "      <th>2</th>\n",
              "      <td>VG9vbHMgYW5kIGhvbWUgaW1wcm92ZW1lbnQ</td>\n",
              "      <td>82.223500</td>\n",
              "    </tr>\n",
              "    <tr>\n",
              "      <th>3</th>\n",
              "      <td>SG91c2Vob2xkIGFuZCBDbGVhbmluZw</td>\n",
              "      <td>76.199000</td>\n",
              "    </tr>\n",
              "    <tr>\n",
              "      <th>4</th>\n",
              "      <td>RWxlY3Ryb25pY3M</td>\n",
              "      <td>60.258182</td>\n",
              "    </tr>\n",
              "    <tr>\n",
              "      <th>5</th>\n",
              "      <td>YmVhdXR5IGFuZCBwZXJzb25hbCBjYXJl</td>\n",
              "      <td>34.745067</td>\n",
              "    </tr>\n",
              "    <tr>\n",
              "      <th>6</th>\n",
              "      <td>SGVhbHRo</td>\n",
              "      <td>32.557586</td>\n",
              "    </tr>\n",
              "    <tr>\n",
              "      <th>7</th>\n",
              "      <td>VG95cyBhbmQgR2FtZXM</td>\n",
              "      <td>32.448947</td>\n",
              "    </tr>\n",
              "    <tr>\n",
              "      <th>8</th>\n",
              "      <td>b2ZmaWNlIHByb2R1Y3Rz</td>\n",
              "      <td>20.480000</td>\n",
              "    </tr>\n",
              "    <tr>\n",
              "      <th>9</th>\n",
              "      <td>QXJ0IHN1cHBsaWVz</td>\n",
              "      <td>19.471053</td>\n",
              "    </tr>\n",
              "  </tbody>\n",
              "</table>\n",
              "</div>\n",
              "      <button class=\"colab-df-convert\" onclick=\"convertToInteractive('df-07d66185-0ce2-4db9-a9dd-8437318f9fb0')\"\n",
              "              title=\"Convert this dataframe to an interactive table.\"\n",
              "              style=\"display:none;\">\n",
              "        \n",
              "  <svg xmlns=\"http://www.w3.org/2000/svg\" height=\"24px\"viewBox=\"0 0 24 24\"\n",
              "       width=\"24px\">\n",
              "    <path d=\"M0 0h24v24H0V0z\" fill=\"none\"/>\n",
              "    <path d=\"M18.56 5.44l.94 2.06.94-2.06 2.06-.94-2.06-.94-.94-2.06-.94 2.06-2.06.94zm-11 1L8.5 8.5l.94-2.06 2.06-.94-2.06-.94L8.5 2.5l-.94 2.06-2.06.94zm10 10l.94 2.06.94-2.06 2.06-.94-2.06-.94-.94-2.06-.94 2.06-2.06.94z\"/><path d=\"M17.41 7.96l-1.37-1.37c-.4-.4-.92-.59-1.43-.59-.52 0-1.04.2-1.43.59L10.3 9.45l-7.72 7.72c-.78.78-.78 2.05 0 2.83L4 21.41c.39.39.9.59 1.41.59.51 0 1.02-.2 1.41-.59l7.78-7.78 2.81-2.81c.8-.78.8-2.07 0-2.86zM5.41 20L4 18.59l7.72-7.72 1.47 1.35L5.41 20z\"/>\n",
              "  </svg>\n",
              "      </button>\n",
              "      \n",
              "  <style>\n",
              "    .colab-df-container {\n",
              "      display:flex;\n",
              "      flex-wrap:wrap;\n",
              "      gap: 12px;\n",
              "    }\n",
              "\n",
              "    .colab-df-convert {\n",
              "      background-color: #E8F0FE;\n",
              "      border: none;\n",
              "      border-radius: 50%;\n",
              "      cursor: pointer;\n",
              "      display: none;\n",
              "      fill: #1967D2;\n",
              "      height: 32px;\n",
              "      padding: 0 0 0 0;\n",
              "      width: 32px;\n",
              "    }\n",
              "\n",
              "    .colab-df-convert:hover {\n",
              "      background-color: #E2EBFA;\n",
              "      box-shadow: 0px 1px 2px rgba(60, 64, 67, 0.3), 0px 1px 3px 1px rgba(60, 64, 67, 0.15);\n",
              "      fill: #174EA6;\n",
              "    }\n",
              "\n",
              "    [theme=dark] .colab-df-convert {\n",
              "      background-color: #3B4455;\n",
              "      fill: #D2E3FC;\n",
              "    }\n",
              "\n",
              "    [theme=dark] .colab-df-convert:hover {\n",
              "      background-color: #434B5C;\n",
              "      box-shadow: 0px 1px 3px 1px rgba(0, 0, 0, 0.15);\n",
              "      filter: drop-shadow(0px 1px 2px rgba(0, 0, 0, 0.3));\n",
              "      fill: #FFFFFF;\n",
              "    }\n",
              "  </style>\n",
              "\n",
              "      <script>\n",
              "        const buttonEl =\n",
              "          document.querySelector('#df-07d66185-0ce2-4db9-a9dd-8437318f9fb0 button.colab-df-convert');\n",
              "        buttonEl.style.display =\n",
              "          google.colab.kernel.accessAllowed ? 'block' : 'none';\n",
              "\n",
              "        async function convertToInteractive(key) {\n",
              "          const element = document.querySelector('#df-07d66185-0ce2-4db9-a9dd-8437318f9fb0');\n",
              "          const dataTable =\n",
              "            await google.colab.kernel.invokeFunction('convertToInteractive',\n",
              "                                                     [key], {});\n",
              "          if (!dataTable) return;\n",
              "\n",
              "          const docLinkHtml = 'Like what you see? Visit the ' +\n",
              "            '<a target=\"_blank\" href=https://colab.research.google.com/notebooks/data_table.ipynb>data table notebook</a>'\n",
              "            + ' to learn more about interactive tables.';\n",
              "          element.innerHTML = '';\n",
              "          dataTable['output_type'] = 'display_data';\n",
              "          await google.colab.output.renderOutput(dataTable, element);\n",
              "          const docLink = document.createElement('div');\n",
              "          docLink.innerHTML = docLinkHtml;\n",
              "          element.appendChild(docLink);\n",
              "        }\n",
              "      </script>\n",
              "    </div>\n",
              "  </div>\n",
              "  "
            ]
          },
          "metadata": {},
          "execution_count": 280
        }
      ]
    },
    {
      "cell_type": "code",
      "source": [
        "# Visualisation top 10 cateory with highest avg price \n",
        "sns.barplot(data=top_10_category,x = 'category',y = 'avg_price')\n",
        "plt.xlabel(\"Name of category\")\n",
        "plt.ylabel(\"Avg price of category\")\n",
        "plt.title(\"Top 10 category with highest avg value bar plot\")\n",
        "plt.xticks(rotation=90)"
      ],
      "metadata": {
        "colab": {
          "base_uri": "https://localhost:8080/",
          "height": 561
        },
        "id": "3E2WQr7DcYQ4",
        "outputId": "c20d56dc-36af-47e5-b46b-31099ee25867"
      },
      "execution_count": null,
      "outputs": [
        {
          "output_type": "execute_result",
          "data": {
            "text/plain": [
              "(array([0, 1, 2, 3, 4, 5, 6, 7, 8, 9]),\n",
              " <a list of 10 Text major ticklabel objects>)"
            ]
          },
          "metadata": {},
          "execution_count": 281
        },
        {
          "output_type": "display_data",
          "data": {
            "text/plain": [
              "<Figure size 432x288 with 1 Axes>"
            ],
            "image/png": "[encoded data removed]"
          },
          "metadata": {
            "needs_background": "light"
          }
        }
      ]
    },
    {
      "cell_type": "markdown",
      "source": [
        "#Count of level 1 with non null prices"
      ],
      "metadata": {
        "id": "jNMtNmBu2vYd"
      }
    },
    {
      "cell_type": "code",
      "source": [
        "non_null_prices_df.info()"
      ],
      "metadata": {
        "colab": {
          "base_uri": "https://localhost:8080/"
        },
        "id": "ICLWP1Eo8XHO",
        "outputId": "33d09dc4-8658-469d-e197-bd95feb8ab63"
      },
      "execution_count": null,
      "outputs": [
        {
          "output_type": "stream",
          "name": "stdout",
          "text": [
            "<class 'pandas.core.frame.DataFrame'>\n",
            "Int64Index: 551 entries, 2 to 13511\n",
            "Data columns (total 7 columns):\n",
            " #   Column        Non-Null Count  Dtype  \n",
            "---  ------        --------------  -----  \n",
            " 0   uuid          551 non-null    object \n",
            " 1   price_string  551 non-null    object \n",
            " 2   product_type  551 non-null    object \n",
            " 3   level_1       550 non-null    object \n",
            " 4   category      551 non-null    object \n",
            " 5   currency      551 non-null    object \n",
            " 6   value         551 non-null    float64\n",
            "dtypes: float64(1), object(6)\n",
            "memory usage: 34.4+ KB\n"
          ]
        }
      ]
    },
    {
      "cell_type": "code",
      "source": [
        "#creating df category with count of non null prices\n",
        "\n",
        "level1_count = pd.DataFrame(non_null_prices_df.groupby('level_1')['value'].size().sort_values(ascending= False).reset_index())\n",
        "\n",
        "level1_count = level1_count.rename(columns={'value':'count'})\n",
        "\n",
        "level1_count"
      ],
      "metadata": {
        "colab": {
          "base_uri": "https://localhost:8080/",
          "height": 424
        },
        "id": "YGcqJu7I2m5O",
        "outputId": "a3281f9c-6172-4321-dd47-125c2b8b5c5c"
      },
      "execution_count": null,
      "outputs": [
        {
          "output_type": "execute_result",
          "data": {
            "text/plain": [
              "                             level_1  count\n",
              "0       U3Bvb24sIEtuaWZlIGFuZCBGb3Jr      6\n",
              "1    TWVucyBTdHJhaWdodCBGaXQgamVhbnM      5\n",
              "2                Q2xlYW5pbmcgY2xvdGg      5\n",
              "3                 UHVmZmVyIEphY2tldA      5\n",
              "4                 Q2FzdWFsIEphY2tldA      4\n",
              "..                               ...    ...\n",
              "361                  U2NydWIgYnJ1c2g      1\n",
              "362                  RG9nIFNoYW1wb28      1\n",
              "363                       U2hhbXBvbw      1\n",
              "364                   U2hhcnBlbmVycw      1\n",
              "365                         MTAgQ3Vw      1\n",
              "\n",
              "[366 rows x 2 columns]"
            ],
            "text/html": [
              "\n",
              "  <div id=\"df-e7433ac4-97df-43e4-8914-9792857a189b\">\n",
              "    <div class=\"colab-df-container\">\n",
              "      <div>\n",
              "<style scoped>\n",
              "    .dataframe tbody tr th:only-of-type {\n",
              "        vertical-align: middle;\n",
              "    }\n",
              "\n",
              "    .dataframe tbody tr th {\n",
              "        vertical-align: top;\n",
              "    }\n",
              "\n",
              "    .dataframe thead th {\n",
              "        text-align: right;\n",
              "    }\n",
              "</style>\n",
              "<table border=\"1\" class=\"dataframe\">\n",
              "  <thead>\n",
              "    <tr style=\"text-align: right;\">\n",
              "      <th></th>\n",
              "      <th>level_1</th>\n",
              "      <th>count</th>\n",
              "    </tr>\n",
              "  </thead>\n",
              "  <tbody>\n",
              "    <tr>\n",
              "      <th>0</th>\n",
              "      <td>U3Bvb24sIEtuaWZlIGFuZCBGb3Jr</td>\n",
              "      <td>6</td>\n",
              "    </tr>\n",
              "    <tr>\n",
              "      <th>1</th>\n",
              "      <td>TWVucyBTdHJhaWdodCBGaXQgamVhbnM</td>\n",
              "      <td>5</td>\n",
              "    </tr>\n",
              "    <tr>\n",
              "      <th>2</th>\n",
              "      <td>Q2xlYW5pbmcgY2xvdGg</td>\n",
              "      <td>5</td>\n",
              "    </tr>\n",
              "    <tr>\n",
              "      <th>3</th>\n",
              "      <td>UHVmZmVyIEphY2tldA</td>\n",
              "      <td>5</td>\n",
              "    </tr>\n",
              "    <tr>\n",
              "      <th>4</th>\n",
              "      <td>Q2FzdWFsIEphY2tldA</td>\n",
              "      <td>4</td>\n",
              "    </tr>\n",
              "    <tr>\n",
              "      <th>...</th>\n",
              "      <td>...</td>\n",
              "      <td>...</td>\n",
              "    </tr>\n",
              "    <tr>\n",
              "      <th>361</th>\n",
              "      <td>U2NydWIgYnJ1c2g</td>\n",
              "      <td>1</td>\n",
              "    </tr>\n",
              "    <tr>\n",
              "      <th>362</th>\n",
              "      <td>RG9nIFNoYW1wb28</td>\n",
              "      <td>1</td>\n",
              "    </tr>\n",
              "    <tr>\n",
              "      <th>363</th>\n",
              "      <td>U2hhbXBvbw</td>\n",
              "      <td>1</td>\n",
              "    </tr>\n",
              "    <tr>\n",
              "      <th>364</th>\n",
              "      <td>U2hhcnBlbmVycw</td>\n",
              "      <td>1</td>\n",
              "    </tr>\n",
              "    <tr>\n",
              "      <th>365</th>\n",
              "      <td>MTAgQ3Vw</td>\n",
              "      <td>1</td>\n",
              "    </tr>\n",
              "  </tbody>\n",
              "</table>\n",
              "<p>366 rows × 2 columns</p>\n",
              "</div>\n",
              "      <button class=\"colab-df-convert\" onclick=\"convertToInteractive('df-e7433ac4-97df-43e4-8914-9792857a189b')\"\n",
              "              title=\"Convert this dataframe to an interactive table.\"\n",
              "              style=\"display:none;\">\n",
              "        \n",
              "  <svg xmlns=\"http://www.w3.org/2000/svg\" height=\"24px\"viewBox=\"0 0 24 24\"\n",
              "       width=\"24px\">\n",
              "    <path d=\"M0 0h24v24H0V0z\" fill=\"none\"/>\n",
              "    <path d=\"M18.56 5.44l.94 2.06.94-2.06 2.06-.94-2.06-.94-.94-2.06-.94 2.06-2.06.94zm-11 1L8.5 8.5l.94-2.06 2.06-.94-2.06-.94L8.5 2.5l-.94 2.06-2.06.94zm10 10l.94 2.06.94-2.06 2.06-.94-2.06-.94-.94-2.06-.94 2.06-2.06.94z\"/><path d=\"M17.41 7.96l-1.37-1.37c-.4-.4-.92-.59-1.43-.59-.52 0-1.04.2-1.43.59L10.3 9.45l-7.72 7.72c-.78.78-.78 2.05 0 2.83L4 21.41c.39.39.9.59 1.41.59.51 0 1.02-.2 1.41-.59l7.78-7.78 2.81-2.81c.8-.78.8-2.07 0-2.86zM5.41 20L4 18.59l7.72-7.72 1.47 1.35L5.41 20z\"/>\n",
              "  </svg>\n",
              "      </button>\n",
              "      \n",
              "  <style>\n",
              "    .colab-df-container {\n",
              "      display:flex;\n",
              "      flex-wrap:wrap;\n",
              "      gap: 12px;\n",
              "    }\n",
              "\n",
              "    .colab-df-convert {\n",
              "      background-color: #E8F0FE;\n",
              "      border: none;\n",
              "      border-radius: 50%;\n",
              "      cursor: pointer;\n",
              "      display: none;\n",
              "      fill: #1967D2;\n",
              "      height: 32px;\n",
              "      padding: 0 0 0 0;\n",
              "      width: 32px;\n",
              "    }\n",
              "\n",
              "    .colab-df-convert:hover {\n",
              "      background-color: #E2EBFA;\n",
              "      box-shadow: 0px 1px 2px rgba(60, 64, 67, 0.3), 0px 1px 3px 1px rgba(60, 64, 67, 0.15);\n",
              "      fill: #174EA6;\n",
              "    }\n",
              "\n",
              "    [theme=dark] .colab-df-convert {\n",
              "      background-color: #3B4455;\n",
              "      fill: #D2E3FC;\n",
              "    }\n",
              "\n",
              "    [theme=dark] .colab-df-convert:hover {\n",
              "      background-color: #434B5C;\n",
              "      box-shadow: 0px 1px 3px 1px rgba(0, 0, 0, 0.15);\n",
              "      filter: drop-shadow(0px 1px 2px rgba(0, 0, 0, 0.3));\n",
              "      fill: #FFFFFF;\n",
              "    }\n",
              "  </style>\n",
              "\n",
              "      <script>\n",
              "        const buttonEl =\n",
              "          document.querySelector('#df-e7433ac4-97df-43e4-8914-9792857a189b button.colab-df-convert');\n",
              "        buttonEl.style.display =\n",
              "          google.colab.kernel.accessAllowed ? 'block' : 'none';\n",
              "\n",
              "        async function convertToInteractive(key) {\n",
              "          const element = document.querySelector('#df-e7433ac4-97df-43e4-8914-9792857a189b');\n",
              "          const dataTable =\n",
              "            await google.colab.kernel.invokeFunction('convertToInteractive',\n",
              "                                                     [key], {});\n",
              "          if (!dataTable) return;\n",
              "\n",
              "          const docLinkHtml = 'Like what you see? Visit the ' +\n",
              "            '<a target=\"_blank\" href=https://colab.research.google.com/notebooks/data_table.ipynb>data table notebook</a>'\n",
              "            + ' to learn more about interactive tables.';\n",
              "          element.innerHTML = '';\n",
              "          dataTable['output_type'] = 'display_data';\n",
              "          await google.colab.output.renderOutput(dataTable, element);\n",
              "          const docLink = document.createElement('div');\n",
              "          docLink.innerHTML = docLinkHtml;\n",
              "          element.appendChild(docLink);\n",
              "        }\n",
              "      </script>\n",
              "    </div>\n",
              "  </div>\n",
              "  "
            ]
          },
          "metadata": {},
          "execution_count": 283
        }
      ]
    },
    {
      "cell_type": "code",
      "source": [
        "#distribution plot of level 1\n",
        "sns.displot(data=level1_count, x = \"count\",bins = 10)\n",
        "plt.xlabel(\"count of level1\")\n",
        "plt.ylabel(\"No. of level1_count\")\n",
        "plt.title(\"Title : Distribution of count across level1 with prices\")"
      ],
      "metadata": {
        "colab": {
          "base_uri": "https://localhost:8080/",
          "height": 402
        },
        "id": "eerFV5d98mEO",
        "outputId": "f53be913-a009-4785-b2d4-419051f13e85"
      },
      "execution_count": null,
      "outputs": [
        {
          "output_type": "execute_result",
          "data": {
            "text/plain": [
              "Text(0.5, 1.0, 'Title : Distribution of count across level1 with prices')"
            ]
          },
          "metadata": {},
          "execution_count": 284
        },
        {
          "output_type": "display_data",
          "data": {
            "text/plain": [
              "<Figure size 360x360 with 1 Axes>"
            ],
            "image/png": "[encoded data removed]"
          },
          "metadata": {
            "needs_background": "light"
          }
        }
      ]
    },
    {
      "cell_type": "code",
      "source": [
        "# top 10 level1 with highest count of non null prices\n",
        "top_10_level1_count = level1_count[:10]\n",
        "top_10_level1_count"
      ],
      "metadata": {
        "colab": {
          "base_uri": "https://localhost:8080/",
          "height": 363
        },
        "id": "d6M8ckKD9bjf",
        "outputId": "428924c8-f79c-477f-9b59-bbff1f1a7ea6"
      },
      "execution_count": null,
      "outputs": [
        {
          "output_type": "execute_result",
          "data": {
            "text/plain": [
              "                              level_1  count\n",
              "0        U3Bvb24sIEtuaWZlIGFuZCBGb3Jr      6\n",
              "1     TWVucyBTdHJhaWdodCBGaXQgamVhbnM      5\n",
              "2                 Q2xlYW5pbmcgY2xvdGg      5\n",
              "3                  UHVmZmVyIEphY2tldA      5\n",
              "4                  Q2FzdWFsIEphY2tldA      4\n",
              "5                            U2NydWJz      4\n",
              "6                     UHVmZmVyIFZlc3Q      4\n",
              "7                     eW9nYSBzdHJhcHM      3\n",
              "8                      Qm9keSBTY3J1Yg      3\n",
              "9  V29tZW5zIFN0cmFpZ2h0IGZpdCBKZWFucw      3"
            ],
            "text/html": [
              "\n",
              "  <div id=\"df-9834ae4f-d0c4-4419-b1c4-9f3fb9764888\">\n",
              "    <div class=\"colab-df-container\">\n",
              "      <div>\n",
              "<style scoped>\n",
              "    .dataframe tbody tr th:only-of-type {\n",
              "        vertical-align: middle;\n",
              "    }\n",
              "\n",
              "    .dataframe tbody tr th {\n",
              "        vertical-align: top;\n",
              "    }\n",
              "\n",
              "    .dataframe thead th {\n",
              "        text-align: right;\n",
              "    }\n",
              "</style>\n",
              "<table border=\"1\" class=\"dataframe\">\n",
              "  <thead>\n",
              "    <tr style=\"text-align: right;\">\n",
              "      <th></th>\n",
              "      <th>level_1</th>\n",
              "      <th>count</th>\n",
              "    </tr>\n",
              "  </thead>\n",
              "  <tbody>\n",
              "    <tr>\n",
              "      <th>0</th>\n",
              "      <td>U3Bvb24sIEtuaWZlIGFuZCBGb3Jr</td>\n",
              "      <td>6</td>\n",
              "    </tr>\n",
              "    <tr>\n",
              "      <th>1</th>\n",
              "      <td>TWVucyBTdHJhaWdodCBGaXQgamVhbnM</td>\n",
              "      <td>5</td>\n",
              "    </tr>\n",
              "    <tr>\n",
              "      <th>2</th>\n",
              "      <td>Q2xlYW5pbmcgY2xvdGg</td>\n",
              "      <td>5</td>\n",
              "    </tr>\n",
              "    <tr>\n",
              "      <th>3</th>\n",
              "      <td>UHVmZmVyIEphY2tldA</td>\n",
              "      <td>5</td>\n",
              "    </tr>\n",
              "    <tr>\n",
              "      <th>4</th>\n",
              "      <td>Q2FzdWFsIEphY2tldA</td>\n",
              "      <td>4</td>\n",
              "    </tr>\n",
              "    <tr>\n",
              "      <th>5</th>\n",
              "      <td>U2NydWJz</td>\n",
              "      <td>4</td>\n",
              "    </tr>\n",
              "    <tr>\n",
              "      <th>6</th>\n",
              "      <td>UHVmZmVyIFZlc3Q</td>\n",
              "      <td>4</td>\n",
              "    </tr>\n",
              "    <tr>\n",
              "      <th>7</th>\n",
              "      <td>eW9nYSBzdHJhcHM</td>\n",
              "      <td>3</td>\n",
              "    </tr>\n",
              "    <tr>\n",
              "      <th>8</th>\n",
              "      <td>Qm9keSBTY3J1Yg</td>\n",
              "      <td>3</td>\n",
              "    </tr>\n",
              "    <tr>\n",
              "      <th>9</th>\n",
              "      <td>V29tZW5zIFN0cmFpZ2h0IGZpdCBKZWFucw</td>\n",
              "      <td>3</td>\n",
              "    </tr>\n",
              "  </tbody>\n",
              "</table>\n",
              "</div>\n",
              "      <button class=\"colab-df-convert\" onclick=\"convertToInteractive('df-9834ae4f-d0c4-4419-b1c4-9f3fb9764888')\"\n",
              "              title=\"Convert this dataframe to an interactive table.\"\n",
              "              style=\"display:none;\">\n",
              "        \n",
              "  <svg xmlns=\"http://www.w3.org/2000/svg\" height=\"24px\"viewBox=\"0 0 24 24\"\n",
              "       width=\"24px\">\n",
              "    <path d=\"M0 0h24v24H0V0z\" fill=\"none\"/>\n",
              "    <path d=\"M18.56 5.44l.94 2.06.94-2.06 2.06-.94-2.06-.94-.94-2.06-.94 2.06-2.06.94zm-11 1L8.5 8.5l.94-2.06 2.06-.94-2.06-.94L8.5 2.5l-.94 2.06-2.06.94zm10 10l.94 2.06.94-2.06 2.06-.94-2.06-.94-.94-2.06-.94 2.06-2.06.94z\"/><path d=\"M17.41 7.96l-1.37-1.37c-.4-.4-.92-.59-1.43-.59-.52 0-1.04.2-1.43.59L10.3 9.45l-7.72 7.72c-.78.78-.78 2.05 0 2.83L4 21.41c.39.39.9.59 1.41.59.51 0 1.02-.2 1.41-.59l7.78-7.78 2.81-2.81c.8-.78.8-2.07 0-2.86zM5.41 20L4 18.59l7.72-7.72 1.47 1.35L5.41 20z\"/>\n",
              "  </svg>\n",
              "      </button>\n",
              "      \n",
              "  <style>\n",
              "    .colab-df-container {\n",
              "      display:flex;\n",
              "      flex-wrap:wrap;\n",
              "      gap: 12px;\n",
              "    }\n",
              "\n",
              "    .colab-df-convert {\n",
              "      background-color: #E8F0FE;\n",
              "      border: none;\n",
              "      border-radius: 50%;\n",
              "      cursor: pointer;\n",
              "      display: none;\n",
              "      fill: #1967D2;\n",
              "      height: 32px;\n",
              "      padding: 0 0 0 0;\n",
              "      width: 32px;\n",
              "    }\n",
              "\n",
              "    .colab-df-convert:hover {\n",
              "      background-color: #E2EBFA;\n",
              "      box-shadow: 0px 1px 2px rgba(60, 64, 67, 0.3), 0px 1px 3px 1px rgba(60, 64, 67, 0.15);\n",
              "      fill: #174EA6;\n",
              "    }\n",
              "\n",
              "    [theme=dark] .colab-df-convert {\n",
              "      background-color: #3B4455;\n",
              "      fill: #D2E3FC;\n",
              "    }\n",
              "\n",
              "    [theme=dark] .colab-df-convert:hover {\n",
              "      background-color: #434B5C;\n",
              "      box-shadow: 0px 1px 3px 1px rgba(0, 0, 0, 0.15);\n",
              "      filter: drop-shadow(0px 1px 2px rgba(0, 0, 0, 0.3));\n",
              "      fill: #FFFFFF;\n",
              "    }\n",
              "  </style>\n",
              "\n",
              "      <script>\n",
              "        const buttonEl =\n",
              "          document.querySelector('#df-9834ae4f-d0c4-4419-b1c4-9f3fb9764888 button.colab-df-convert');\n",
              "        buttonEl.style.display =\n",
              "          google.colab.kernel.accessAllowed ? 'block' : 'none';\n",
              "\n",
              "        async function convertToInteractive(key) {\n",
              "          const element = document.querySelector('#df-9834ae4f-d0c4-4419-b1c4-9f3fb9764888');\n",
              "          const dataTable =\n",
              "            await google.colab.kernel.invokeFunction('convertToInteractive',\n",
              "                                                     [key], {});\n",
              "          if (!dataTable) return;\n",
              "\n",
              "          const docLinkHtml = 'Like what you see? Visit the ' +\n",
              "            '<a target=\"_blank\" href=https://colab.research.google.com/notebooks/data_table.ipynb>data table notebook</a>'\n",
              "            + ' to learn more about interactive tables.';\n",
              "          element.innerHTML = '';\n",
              "          dataTable['output_type'] = 'display_data';\n",
              "          await google.colab.output.renderOutput(dataTable, element);\n",
              "          const docLink = document.createElement('div');\n",
              "          docLink.innerHTML = docLinkHtml;\n",
              "          element.appendChild(docLink);\n",
              "        }\n",
              "      </script>\n",
              "    </div>\n",
              "  </div>\n",
              "  "
            ]
          },
          "metadata": {},
          "execution_count": 285
        }
      ]
    },
    {
      "cell_type": "code",
      "source": [
        "# Visualisation top 10 category_count with highest count of non null prices\n",
        "sns.barplot(data=top_10_level1_count,x = 'level_1',y = 'count')\n",
        "plt.xlabel(\"Name of level_1\")\n",
        "plt.ylabel(\"Count of null price of the level_1\")\n",
        "plt.title(\"top 10 level_1 with highest count of non null prices\")\n",
        "plt.xticks(rotation=90)"
      ],
      "metadata": {
        "colab": {
          "base_uri": "https://localhost:8080/",
          "height": 541
        },
        "id": "pvw9tPV380A-",
        "outputId": "acb29624-e833-4216-99ec-ed3647f84805"
      },
      "execution_count": null,
      "outputs": [
        {
          "output_type": "execute_result",
          "data": {
            "text/plain": [
              "(array([0, 1, 2, 3, 4, 5, 6, 7, 8, 9]),\n",
              " <a list of 10 Text major ticklabel objects>)"
            ]
          },
          "metadata": {},
          "execution_count": 286
        },
        {
          "output_type": "display_data",
          "data": {
            "text/plain": [
              "<Figure size 432x288 with 1 Axes>"
            ],
            "image/png": "[encoded data removed]"
          },
          "metadata": {
            "needs_background": "light"
          }
        }
      ]
    },
    {
      "cell_type": "markdown",
      "source": [
        "# Unique level1 with average price of product"
      ],
      "metadata": {
        "id": "cKs-w9Up98B3"
      }
    },
    {
      "cell_type": "code",
      "source": [
        "#creating level1 with avg price\n",
        "level_1_avg_price = pd.DataFrame(non_null_prices_df.groupby('level_1')['value'].mean().sort_values(ascending= False).reset_index())"
      ],
      "metadata": {
        "id": "Wa9xqHIu9oIm"
      },
      "execution_count": null,
      "outputs": []
    },
    {
      "cell_type": "code",
      "source": [
        "#list of level_1 with avg price of products\n",
        "level_1_avg_price = level_1_avg_price.rename(columns={'value':'avg_price'})\n",
        "level_1_avg_price"
      ],
      "metadata": {
        "colab": {
          "base_uri": "https://localhost:8080/",
          "height": 424
        },
        "id": "rsDK9R3H-bLU",
        "outputId": "8ef15f0f-9f3b-45dd-b5b7-9d888c16fd4d"
      },
      "execution_count": null,
      "outputs": [
        {
          "output_type": "execute_result",
          "data": {
            "text/plain": [
              "                      level_1    avg_price\n",
              "0                TWF0cmVzc2Vz  1148.500000\n",
              "1                U3Ryb2xsZXJz   619.000000\n",
              "2                    UGFya2Fz   515.666667\n",
              "3        bGluZW4gYmVkc2hlZXRz   389.000000\n",
              "4         TWVucyBzdXJmIHN1aXQ   379.000000\n",
              "..                        ...          ...\n",
              "361      RXllIEJyb3cgUGVuY2ls     0.000000\n",
              "362    bGluZW4gcGlsbG93Y2FzZQ     0.000000\n",
              "363           RmFjZSBQcmltZXI     0.000000\n",
              "364  ZG9nIEJlZC9NYXR0cmVzc2Vz     0.000000\n",
              "365   c2F0ZWVuIHBpbGxvd2Nhc2U     0.000000\n",
              "\n",
              "[366 rows x 2 columns]"
            ],
            "text/html": [
              "\n",
              "  <div id=\"df-da70824f-9b79-4b40-a62d-4febcdcb2b0a\">\n",
              "    <div class=\"colab-df-container\">\n",
              "      <div>\n",
              "<style scoped>\n",
              "    .dataframe tbody tr th:only-of-type {\n",
              "        vertical-align: middle;\n",
              "    }\n",
              "\n",
              "    .dataframe tbody tr th {\n",
              "        vertical-align: top;\n",
              "    }\n",
              "\n",
              "    .dataframe thead th {\n",
              "        text-align: right;\n",
              "    }\n",
              "</style>\n",
              "<table border=\"1\" class=\"dataframe\">\n",
              "  <thead>\n",
              "    <tr style=\"text-align: right;\">\n",
              "      <th></th>\n",
              "      <th>level_1</th>\n",
              "      <th>avg_price</th>\n",
              "    </tr>\n",
              "  </thead>\n",
              "  <tbody>\n",
              "    <tr>\n",
              "      <th>0</th>\n",
              "      <td>TWF0cmVzc2Vz</td>\n",
              "      <td>1148.500000</td>\n",
              "    </tr>\n",
              "    <tr>\n",
              "      <th>1</th>\n",
              "      <td>U3Ryb2xsZXJz</td>\n",
              "      <td>619.000000</td>\n",
              "    </tr>\n",
              "    <tr>\n",
              "      <th>2</th>\n",
              "      <td>UGFya2Fz</td>\n",
              "      <td>515.666667</td>\n",
              "    </tr>\n",
              "    <tr>\n",
              "      <th>3</th>\n",
              "      <td>bGluZW4gYmVkc2hlZXRz</td>\n",
              "      <td>389.000000</td>\n",
              "    </tr>\n",
              "    <tr>\n",
              "      <th>4</th>\n",
              "      <td>TWVucyBzdXJmIHN1aXQ</td>\n",
              "      <td>379.000000</td>\n",
              "    </tr>\n",
              "    <tr>\n",
              "      <th>...</th>\n",
              "      <td>...</td>\n",
              "      <td>...</td>\n",
              "    </tr>\n",
              "    <tr>\n",
              "      <th>361</th>\n",
              "      <td>RXllIEJyb3cgUGVuY2ls</td>\n",
              "      <td>0.000000</td>\n",
              "    </tr>\n",
              "    <tr>\n",
              "      <th>362</th>\n",
              "      <td>bGluZW4gcGlsbG93Y2FzZQ</td>\n",
              "      <td>0.000000</td>\n",
              "    </tr>\n",
              "    <tr>\n",
              "      <th>363</th>\n",
              "      <td>RmFjZSBQcmltZXI</td>\n",
              "      <td>0.000000</td>\n",
              "    </tr>\n",
              "    <tr>\n",
              "      <th>364</th>\n",
              "      <td>ZG9nIEJlZC9NYXR0cmVzc2Vz</td>\n",
              "      <td>0.000000</td>\n",
              "    </tr>\n",
              "    <tr>\n",
              "      <th>365</th>\n",
              "      <td>c2F0ZWVuIHBpbGxvd2Nhc2U</td>\n",
              "      <td>0.000000</td>\n",
              "    </tr>\n",
              "  </tbody>\n",
              "</table>\n",
              "<p>366 rows × 2 columns</p>\n",
              "</div>\n",
              "      <button class=\"colab-df-convert\" onclick=\"convertToInteractive('df-da70824f-9b79-4b40-a62d-4febcdcb2b0a')\"\n",
              "              title=\"Convert this dataframe to an interactive table.\"\n",
              "              style=\"display:none;\">\n",
              "        \n",
              "  <svg xmlns=\"http://www.w3.org/2000/svg\" height=\"24px\"viewBox=\"0 0 24 24\"\n",
              "       width=\"24px\">\n",
              "    <path d=\"M0 0h24v24H0V0z\" fill=\"none\"/>\n",
              "    <path d=\"M18.56 5.44l.94 2.06.94-2.06 2.06-.94-2.06-.94-.94-2.06-.94 2.06-2.06.94zm-11 1L8.5 8.5l.94-2.06 2.06-.94-2.06-.94L8.5 2.5l-.94 2.06-2.06.94zm10 10l.94 2.06.94-2.06 2.06-.94-2.06-.94-.94-2.06-.94 2.06-2.06.94z\"/><path d=\"M17.41 7.96l-1.37-1.37c-.4-.4-.92-.59-1.43-.59-.52 0-1.04.2-1.43.59L10.3 9.45l-7.72 7.72c-.78.78-.78 2.05 0 2.83L4 21.41c.39.39.9.59 1.41.59.51 0 1.02-.2 1.41-.59l7.78-7.78 2.81-2.81c.8-.78.8-2.07 0-2.86zM5.41 20L4 18.59l7.72-7.72 1.47 1.35L5.41 20z\"/>\n",
              "  </svg>\n",
              "      </button>\n",
              "      \n",
              "  <style>\n",
              "    .colab-df-container {\n",
              "      display:flex;\n",
              "      flex-wrap:wrap;\n",
              "      gap: 12px;\n",
              "    }\n",
              "\n",
              "    .colab-df-convert {\n",
              "      background-color: #E8F0FE;\n",
              "      border: none;\n",
              "      border-radius: 50%;\n",
              "      cursor: pointer;\n",
              "      display: none;\n",
              "      fill: #1967D2;\n",
              "      height: 32px;\n",
              "      padding: 0 0 0 0;\n",
              "      width: 32px;\n",
              "    }\n",
              "\n",
              "    .colab-df-convert:hover {\n",
              "      background-color: #E2EBFA;\n",
              "      box-shadow: 0px 1px 2px rgba(60, 64, 67, 0.3), 0px 1px 3px 1px rgba(60, 64, 67, 0.15);\n",
              "      fill: #174EA6;\n",
              "    }\n",
              "\n",
              "    [theme=dark] .colab-df-convert {\n",
              "      background-color: #3B4455;\n",
              "      fill: #D2E3FC;\n",
              "    }\n",
              "\n",
              "    [theme=dark] .colab-df-convert:hover {\n",
              "      background-color: #434B5C;\n",
              "      box-shadow: 0px 1px 3px 1px rgba(0, 0, 0, 0.15);\n",
              "      filter: drop-shadow(0px 1px 2px rgba(0, 0, 0, 0.3));\n",
              "      fill: #FFFFFF;\n",
              "    }\n",
              "  </style>\n",
              "\n",
              "      <script>\n",
              "        const buttonEl =\n",
              "          document.querySelector('#df-da70824f-9b79-4b40-a62d-4febcdcb2b0a button.colab-df-convert');\n",
              "        buttonEl.style.display =\n",
              "          google.colab.kernel.accessAllowed ? 'block' : 'none';\n",
              "\n",
              "        async function convertToInteractive(key) {\n",
              "          const element = document.querySelector('#df-da70824f-9b79-4b40-a62d-4febcdcb2b0a');\n",
              "          const dataTable =\n",
              "            await google.colab.kernel.invokeFunction('convertToInteractive',\n",
              "                                                     [key], {});\n",
              "          if (!dataTable) return;\n",
              "\n",
              "          const docLinkHtml = 'Like what you see? Visit the ' +\n",
              "            '<a target=\"_blank\" href=https://colab.research.google.com/notebooks/data_table.ipynb>data table notebook</a>'\n",
              "            + ' to learn more about interactive tables.';\n",
              "          element.innerHTML = '';\n",
              "          dataTable['output_type'] = 'display_data';\n",
              "          await google.colab.output.renderOutput(dataTable, element);\n",
              "          const docLink = document.createElement('div');\n",
              "          docLink.innerHTML = docLinkHtml;\n",
              "          element.appendChild(docLink);\n",
              "        }\n",
              "      </script>\n",
              "    </div>\n",
              "  </div>\n",
              "  "
            ]
          },
          "metadata": {},
          "execution_count": 288
        }
      ]
    },
    {
      "cell_type": "code",
      "source": [
        "#distribution plot of avg_price with respect to level_1\n",
        "sns.displot(data=level_1_avg_price, x = \"avg_price\",bins = 10)\n",
        "plt.xlabel(\"Avg price of product\")\n",
        "plt.ylabel(\"No of level 1\")\n",
        "plt.title(\"Title : Distribution of avg price across level_1\")"
      ],
      "metadata": {
        "colab": {
          "base_uri": "https://localhost:8080/",
          "height": 401
        },
        "id": "_QlsvJFi-kF-",
        "outputId": "98ae5df9-76b9-450e-b84d-117a5810f252"
      },
      "execution_count": null,
      "outputs": [
        {
          "output_type": "execute_result",
          "data": {
            "text/plain": [
              "Text(0.5, 1.0, 'Title : Distribution of avg price across level_1')"
            ]
          },
          "metadata": {},
          "execution_count": 289
        },
        {
          "output_type": "display_data",
          "data": {
            "text/plain": [
              "<Figure size 360x360 with 1 Axes>"
            ],
            "image/png": "[encoded data removed]"
          },
          "metadata": {
            "needs_background": "light"
          }
        }
      ]
    },
    {
      "cell_type": "code",
      "source": [
        "# top 10 category with highest avg value in level_1\n",
        "top_10_level_1 = level_1_avg_price[:10]\n",
        "top_10_level_1"
      ],
      "metadata": {
        "colab": {
          "base_uri": "https://localhost:8080/",
          "height": 363
        },
        "id": "PccLTqHz-y1e",
        "outputId": "50044812-ecb3-45ab-ef47-86c9f6634efd"
      },
      "execution_count": null,
      "outputs": [
        {
          "output_type": "execute_result",
          "data": {
            "text/plain": [
              "                  level_1    avg_price\n",
              "0            TWF0cmVzc2Vz  1148.500000\n",
              "1            U3Ryb2xsZXJz   619.000000\n",
              "2                UGFya2Fz   515.666667\n",
              "3    bGluZW4gYmVkc2hlZXRz   389.000000\n",
              "4     TWVucyBzdXJmIHN1aXQ   379.000000\n",
              "5     SGVtcCBiZWRzaGVldHM   379.000000\n",
              "6  aGVtcCBkdXZldCBjb3Zlcg   339.000000\n",
              "7  V29tZW5zIHN1cmYgc3VpdA   339.000000\n",
              "8      UHVyc2Uvc2F0Y2hlbA   327.500000\n",
              "9      V29tZW5zIFBhcmthcw   299.000000"
            ],
            "text/html": [
              "\n",
              "  <div id=\"df-a245e35c-a9ea-4395-adae-a8d11b0142ba\">\n",
              "    <div class=\"colab-df-container\">\n",
              "      <div>\n",
              "<style scoped>\n",
              "    .dataframe tbody tr th:only-of-type {\n",
              "        vertical-align: middle;\n",
              "    }\n",
              "\n",
              "    .dataframe tbody tr th {\n",
              "        vertical-align: top;\n",
              "    }\n",
              "\n",
              "    .dataframe thead th {\n",
              "        text-align: right;\n",
              "    }\n",
              "</style>\n",
              "<table border=\"1\" class=\"dataframe\">\n",
              "  <thead>\n",
              "    <tr style=\"text-align: right;\">\n",
              "      <th></th>\n",
              "      <th>level_1</th>\n",
              "      <th>avg_price</th>\n",
              "    </tr>\n",
              "  </thead>\n",
              "  <tbody>\n",
              "    <tr>\n",
              "      <th>0</th>\n",
              "      <td>TWF0cmVzc2Vz</td>\n",
              "      <td>1148.500000</td>\n",
              "    </tr>\n",
              "    <tr>\n",
              "      <th>1</th>\n",
              "      <td>U3Ryb2xsZXJz</td>\n",
              "      <td>619.000000</td>\n",
              "    </tr>\n",
              "    <tr>\n",
              "      <th>2</th>\n",
              "      <td>UGFya2Fz</td>\n",
              "      <td>515.666667</td>\n",
              "    </tr>\n",
              "    <tr>\n",
              "      <th>3</th>\n",
              "      <td>bGluZW4gYmVkc2hlZXRz</td>\n",
              "      <td>389.000000</td>\n",
              "    </tr>\n",
              "    <tr>\n",
              "      <th>4</th>\n",
              "      <td>TWVucyBzdXJmIHN1aXQ</td>\n",
              "      <td>379.000000</td>\n",
              "    </tr>\n",
              "    <tr>\n",
              "      <th>5</th>\n",
              "      <td>SGVtcCBiZWRzaGVldHM</td>\n",
              "      <td>379.000000</td>\n",
              "    </tr>\n",
              "    <tr>\n",
              "      <th>6</th>\n",
              "      <td>aGVtcCBkdXZldCBjb3Zlcg</td>\n",
              "      <td>339.000000</td>\n",
              "    </tr>\n",
              "    <tr>\n",
              "      <th>7</th>\n",
              "      <td>V29tZW5zIHN1cmYgc3VpdA</td>\n",
              "      <td>339.000000</td>\n",
              "    </tr>\n",
              "    <tr>\n",
              "      <th>8</th>\n",
              "      <td>UHVyc2Uvc2F0Y2hlbA</td>\n",
              "      <td>327.500000</td>\n",
              "    </tr>\n",
              "    <tr>\n",
              "      <th>9</th>\n",
              "      <td>V29tZW5zIFBhcmthcw</td>\n",
              "      <td>299.000000</td>\n",
              "    </tr>\n",
              "  </tbody>\n",
              "</table>\n",
              "</div>\n",
              "      <button class=\"colab-df-convert\" onclick=\"convertToInteractive('df-a245e35c-a9ea-4395-adae-a8d11b0142ba')\"\n",
              "              title=\"Convert this dataframe to an interactive table.\"\n",
              "              style=\"display:none;\">\n",
              "        \n",
              "  <svg xmlns=\"http://www.w3.org/2000/svg\" height=\"24px\"viewBox=\"0 0 24 24\"\n",
              "       width=\"24px\">\n",
              "    <path d=\"M0 0h24v24H0V0z\" fill=\"none\"/>\n",
              "    <path d=\"M18.56 5.44l.94 2.06.94-2.06 2.06-.94-2.06-.94-.94-2.06-.94 2.06-2.06.94zm-11 1L8.5 8.5l.94-2.06 2.06-.94-2.06-.94L8.5 2.5l-.94 2.06-2.06.94zm10 10l.94 2.06.94-2.06 2.06-.94-2.06-.94-.94-2.06-.94 2.06-2.06.94z\"/><path d=\"M17.41 7.96l-1.37-1.37c-.4-.4-.92-.59-1.43-.59-.52 0-1.04.2-1.43.59L10.3 9.45l-7.72 7.72c-.78.78-.78 2.05 0 2.83L4 21.41c.39.39.9.59 1.41.59.51 0 1.02-.2 1.41-.59l7.78-7.78 2.81-2.81c.8-.78.8-2.07 0-2.86zM5.41 20L4 18.59l7.72-7.72 1.47 1.35L5.41 20z\"/>\n",
              "  </svg>\n",
              "      </button>\n",
              "      \n",
              "  <style>\n",
              "    .colab-df-container {\n",
              "      display:flex;\n",
              "      flex-wrap:wrap;\n",
              "      gap: 12px;\n",
              "    }\n",
              "\n",
              "    .colab-df-convert {\n",
              "      background-color: #E8F0FE;\n",
              "      border: none;\n",
              "      border-radius: 50%;\n",
              "      cursor: pointer;\n",
              "      display: none;\n",
              "      fill: #1967D2;\n",
              "      height: 32px;\n",
              "      padding: 0 0 0 0;\n",
              "      width: 32px;\n",
              "    }\n",
              "\n",
              "    .colab-df-convert:hover {\n",
              "      background-color: #E2EBFA;\n",
              "      box-shadow: 0px 1px 2px rgba(60, 64, 67, 0.3), 0px 1px 3px 1px rgba(60, 64, 67, 0.15);\n",
              "      fill: #174EA6;\n",
              "    }\n",
              "\n",
              "    [theme=dark] .colab-df-convert {\n",
              "      background-color: #3B4455;\n",
              "      fill: #D2E3FC;\n",
              "    }\n",
              "\n",
              "    [theme=dark] .colab-df-convert:hover {\n",
              "      background-color: #434B5C;\n",
              "      box-shadow: 0px 1px 3px 1px rgba(0, 0, 0, 0.15);\n",
              "      filter: drop-shadow(0px 1px 2px rgba(0, 0, 0, 0.3));\n",
              "      fill: #FFFFFF;\n",
              "    }\n",
              "  </style>\n",
              "\n",
              "      <script>\n",
              "        const buttonEl =\n",
              "          document.querySelector('#df-a245e35c-a9ea-4395-adae-a8d11b0142ba button.colab-df-convert');\n",
              "        buttonEl.style.display =\n",
              "          google.colab.kernel.accessAllowed ? 'block' : 'none';\n",
              "\n",
              "        async function convertToInteractive(key) {\n",
              "          const element = document.querySelector('#df-a245e35c-a9ea-4395-adae-a8d11b0142ba');\n",
              "          const dataTable =\n",
              "            await google.colab.kernel.invokeFunction('convertToInteractive',\n",
              "                                                     [key], {});\n",
              "          if (!dataTable) return;\n",
              "\n",
              "          const docLinkHtml = 'Like what you see? Visit the ' +\n",
              "            '<a target=\"_blank\" href=https://colab.research.google.com/notebooks/data_table.ipynb>data table notebook</a>'\n",
              "            + ' to learn more about interactive tables.';\n",
              "          element.innerHTML = '';\n",
              "          dataTable['output_type'] = 'display_data';\n",
              "          await google.colab.output.renderOutput(dataTable, element);\n",
              "          const docLink = document.createElement('div');\n",
              "          docLink.innerHTML = docLinkHtml;\n",
              "          element.appendChild(docLink);\n",
              "        }\n",
              "      </script>\n",
              "    </div>\n",
              "  </div>\n",
              "  "
            ]
          },
          "metadata": {},
          "execution_count": 290
        }
      ]
    },
    {
      "cell_type": "code",
      "source": [
        "# Visualisation top 10 level_1 with highest avg price \n",
        "\n",
        "sns.barplot(data=top_10_level_1,x = 'level_1',y = 'avg_price')\n",
        "\n",
        "plt.xlabel(\"Name of level_1\")\n",
        "plt.ylabel(\"Avg price of level_1\")\n",
        "plt.title(\"Top 10 level_1 with highest avg value bar plot\")\n",
        "plt.xticks(rotation=90)"
      ],
      "metadata": {
        "colab": {
          "base_uri": "https://localhost:8080/",
          "height": 463
        },
        "id": "osZIMUpg_B-u",
        "outputId": "57ccb3e0-d450-4486-aea5-0b190a5bf5e0"
      },
      "execution_count": null,
      "outputs": [
        {
          "output_type": "execute_result",
          "data": {
            "text/plain": [
              "(array([0, 1, 2, 3, 4, 5, 6, 7, 8, 9]),\n",
              " <a list of 10 Text major ticklabel objects>)"
            ]
          },
          "metadata": {},
          "execution_count": 291
        },
        {
          "output_type": "display_data",
          "data": {
            "text/plain": [
              "<Figure size 432x288 with 1 Axes>"
            ],
            "image/png": "[encoded data removed]"
          },
          "metadata": {
            "needs_background": "light"
          }
        }
      ]
    },
    {
      "cell_type": "markdown",
      "source": [
        "# Final dataframe combined and cleaned"
      ],
      "metadata": {
        "id": "2F_FetH5_X0n"
      }
    },
    {
      "cell_type": "code",
      "source": [
        "data_frames = [price_null_df,non_null_prices_df]\n",
        "df_optimised = pd.concat(data_frames)"
      ],
      "metadata": {
        "id": "Oob6stpp_fMG"
      },
      "execution_count": null,
      "outputs": []
    },
    {
      "cell_type": "code",
      "source": [
        "df_optimised.info()"
      ],
      "metadata": {
        "colab": {
          "base_uri": "https://localhost:8080/"
        },
        "id": "nHHKYnAl_1n_",
        "outputId": "36485452-2ced-476c-d793-9a5546cd3b59"
      },
      "execution_count": null,
      "outputs": [
        {
          "output_type": "stream",
          "name": "stdout",
          "text": [
            "<class 'pandas.core.frame.DataFrame'>\n",
            "Int64Index: 1372 entries, 0 to 13511\n",
            "Data columns (total 7 columns):\n",
            " #   Column        Non-Null Count  Dtype  \n",
            "---  ------        --------------  -----  \n",
            " 0   uuid          1372 non-null   object \n",
            " 1   price_string  551 non-null    object \n",
            " 2   product_type  1372 non-null   object \n",
            " 3   level_1       1368 non-null   object \n",
            " 4   category      1372 non-null   object \n",
            " 5   currency      551 non-null    object \n",
            " 6   value         551 non-null    float64\n",
            "dtypes: float64(1), object(6)\n",
            "memory usage: 85.8+ KB\n"
          ]
        }
      ]
    },
    {
      "cell_type": "code",
      "source": [
        "df_optimised.head()"
      ],
      "metadata": {
        "colab": {
          "base_uri": "https://localhost:8080/",
          "height": 513
        },
        "id": "UN4KqXZ4BFqH",
        "outputId": "b55d9f2c-7443-4fcb-a61f-007003c51c45"
      },
      "execution_count": null,
      "outputs": [
        {
          "output_type": "execute_result",
          "data": {
            "text/plain": [
              "                                    uuid price_string  \\\n",
              "0   638744a4-b0ae-4166-8cb6-5c063c862036         <NA>   \n",
              "1   ab313969-02cc-48b2-9daf-0054efb70b92         <NA>   \n",
              "5   389d9f75-cc3f-4bd2-94f7-93e381a3bed5         <NA>   \n",
              "13  1f2766ec-0a27-43f8-b28b-77a44492ead1         <NA>   \n",
              "16  7bad39f5-74b9-4611-afb9-46fb135190cd         <NA>   \n",
              "\n",
              "                           product_type                             level_1  \\\n",
              "0              TGFwdG9wIENvdmVycy9CYWdz                     TGFwdG9wIENhc2U   \n",
              "1           QmFraW5nIEN1cHMgYW5kIE1hdHM  QmFraW5nIE1hdHMgLyBCYWtpbmcgZGlzaA   \n",
              "5    TmF0dXJhbCBTd2VldGVuZXJzLyBTdWdhcg                      TW9uayBGcnVpdA   \n",
              "13  U2NydWJzIGFuZCBjbGVhbmluZyBjbG90aHM                            U2NydWJz   \n",
              "16          UGx1cyBzaXplIHdlYXIgZHJlc3M                             RHJlc3M   \n",
              "\n",
              "                            category currency  value  \n",
              "0                    RWxlY3Ryb25pY3M      NaN    NaN  \n",
              "1         a2l0Y2hpbmcgYW5kIGRpbmluZw      NaN    NaN  \n",
              "5                       Z3JvY2VyaWVz      NaN    NaN  \n",
              "13    SG91c2Vob2xkIGFuZCBDbGVhbmluZw      NaN    NaN  \n",
              "16  Q2xvdGhpbmcgYW5kIEFjY2Vzc29yaWVz      NaN    NaN  "
            ],
            "text/html": [
              "\n",
              "  <div id=\"df-a59fd5db-3d3e-4d45-a205-b97ffc7c0773\">\n",
              "    <div class=\"colab-df-container\">\n",
              "      <div>\n",
              "<style scoped>\n",
              "    .dataframe tbody tr th:only-of-type {\n",
              "        vertical-align: middle;\n",
              "    }\n",
              "\n",
              "    .dataframe tbody tr th {\n",
              "        vertical-align: top;\n",
              "    }\n",
              "\n",
              "    .dataframe thead th {\n",
              "        text-align: right;\n",
              "    }\n",
              "</style>\n",
              "<table border=\"1\" class=\"dataframe\">\n",
              "  <thead>\n",
              "    <tr style=\"text-align: right;\">\n",
              "      <th></th>\n",
              "      <th>uuid</th>\n",
              "      <th>price_string</th>\n",
              "      <th>product_type</th>\n",
              "      <th>level_1</th>\n",
              "      <th>category</th>\n",
              "      <th>currency</th>\n",
              "      <th>value</th>\n",
              "    </tr>\n",
              "  </thead>\n",
              "  <tbody>\n",
              "    <tr>\n",
              "      <th>0</th>\n",
              "      <td>638744a4-b0ae-4166-8cb6-5c063c862036</td>\n",
              "      <td>&lt;NA&gt;</td>\n",
              "      <td>TGFwdG9wIENvdmVycy9CYWdz</td>\n",
              "      <td>TGFwdG9wIENhc2U</td>\n",
              "      <td>RWxlY3Ryb25pY3M</td>\n",
              "      <td>NaN</td>\n",
              "      <td>NaN</td>\n",
              "    </tr>\n",
              "    <tr>\n",
              "      <th>1</th>\n",
              "      <td>ab313969-02cc-48b2-9daf-0054efb70b92</td>\n",
              "      <td>&lt;NA&gt;</td>\n",
              "      <td>QmFraW5nIEN1cHMgYW5kIE1hdHM</td>\n",
              "      <td>QmFraW5nIE1hdHMgLyBCYWtpbmcgZGlzaA</td>\n",
              "      <td>a2l0Y2hpbmcgYW5kIGRpbmluZw</td>\n",
              "      <td>NaN</td>\n",
              "      <td>NaN</td>\n",
              "    </tr>\n",
              "    <tr>\n",
              "      <th>5</th>\n",
              "      <td>389d9f75-cc3f-4bd2-94f7-93e381a3bed5</td>\n",
              "      <td>&lt;NA&gt;</td>\n",
              "      <td>TmF0dXJhbCBTd2VldGVuZXJzLyBTdWdhcg</td>\n",
              "      <td>TW9uayBGcnVpdA</td>\n",
              "      <td>Z3JvY2VyaWVz</td>\n",
              "      <td>NaN</td>\n",
              "      <td>NaN</td>\n",
              "    </tr>\n",
              "    <tr>\n",
              "      <th>13</th>\n",
              "      <td>1f2766ec-0a27-43f8-b28b-77a44492ead1</td>\n",
              "      <td>&lt;NA&gt;</td>\n",
              "      <td>U2NydWJzIGFuZCBjbGVhbmluZyBjbG90aHM</td>\n",
              "      <td>U2NydWJz</td>\n",
              "      <td>SG91c2Vob2xkIGFuZCBDbGVhbmluZw</td>\n",
              "      <td>NaN</td>\n",
              "      <td>NaN</td>\n",
              "    </tr>\n",
              "    <tr>\n",
              "      <th>16</th>\n",
              "      <td>7bad39f5-74b9-4611-afb9-46fb135190cd</td>\n",
              "      <td>&lt;NA&gt;</td>\n",
              "      <td>UGx1cyBzaXplIHdlYXIgZHJlc3M</td>\n",
              "      <td>RHJlc3M</td>\n",
              "      <td>Q2xvdGhpbmcgYW5kIEFjY2Vzc29yaWVz</td>\n",
              "      <td>NaN</td>\n",
              "      <td>NaN</td>\n",
              "    </tr>\n",
              "  </tbody>\n",
              "</table>\n",
              "</div>\n",
              "      <button class=\"colab-df-convert\" onclick=\"convertToInteractive('df-a59fd5db-3d3e-4d45-a205-b97ffc7c0773')\"\n",
              "              title=\"Convert this dataframe to an interactive table.\"\n",
              "              style=\"display:none;\">\n",
              "        \n",
              "  <svg xmlns=\"http://www.w3.org/2000/svg\" height=\"24px\"viewBox=\"0 0 24 24\"\n",
              "       width=\"24px\">\n",
              "    <path d=\"M0 0h24v24H0V0z\" fill=\"none\"/>\n",
              "    <path d=\"M18.56 5.44l.94 2.06.94-2.06 2.06-.94-2.06-.94-.94-2.06-.94 2.06-2.06.94zm-11 1L8.5 8.5l.94-2.06 2.06-.94-2.06-.94L8.5 2.5l-.94 2.06-2.06.94zm10 10l.94 2.06.94-2.06 2.06-.94-2.06-.94-.94-2.06-.94 2.06-2.06.94z\"/><path d=\"M17.41 7.96l-1.37-1.37c-.4-.4-.92-.59-1.43-.59-.52 0-1.04.2-1.43.59L10.3 9.45l-7.72 7.72c-.78.78-.78 2.05 0 2.83L4 21.41c.39.39.9.59 1.41.59.51 0 1.02-.2 1.41-.59l7.78-7.78 2.81-2.81c.8-.78.8-2.07 0-2.86zM5.41 20L4 18.59l7.72-7.72 1.47 1.35L5.41 20z\"/>\n",
              "  </svg>\n",
              "      </button>\n",
              "      \n",
              "  <style>\n",
              "    .colab-df-container {\n",
              "      display:flex;\n",
              "      flex-wrap:wrap;\n",
              "      gap: 12px;\n",
              "    }\n",
              "\n",
              "    .colab-df-convert {\n",
              "      background-color: #E8F0FE;\n",
              "      border: none;\n",
              "      border-radius: 50%;\n",
              "      cursor: pointer;\n",
              "      display: none;\n",
              "      fill: #1967D2;\n",
              "      height: 32px;\n",
              "      padding: 0 0 0 0;\n",
              "      width: 32px;\n",
              "    }\n",
              "\n",
              "    .colab-df-convert:hover {\n",
              "      background-color: #E2EBFA;\n",
              "      box-shadow: 0px 1px 2px rgba(60, 64, 67, 0.3), 0px 1px 3px 1px rgba(60, 64, 67, 0.15);\n",
              "      fill: #174EA6;\n",
              "    }\n",
              "\n",
              "    [theme=dark] .colab-df-convert {\n",
              "      background-color: #3B4455;\n",
              "      fill: #D2E3FC;\n",
              "    }\n",
              "\n",
              "    [theme=dark] .colab-df-convert:hover {\n",
              "      background-color: #434B5C;\n",
              "      box-shadow: 0px 1px 3px 1px rgba(0, 0, 0, 0.15);\n",
              "      filter: drop-shadow(0px 1px 2px rgba(0, 0, 0, 0.3));\n",
              "      fill: #FFFFFF;\n",
              "    }\n",
              "  </style>\n",
              "\n",
              "      <script>\n",
              "        const buttonEl =\n",
              "          document.querySelector('#df-a59fd5db-3d3e-4d45-a205-b97ffc7c0773 button.colab-df-convert');\n",
              "        buttonEl.style.display =\n",
              "          google.colab.kernel.accessAllowed ? 'block' : 'none';\n",
              "\n",
              "        async function convertToInteractive(key) {\n",
              "          const element = document.querySelector('#df-a59fd5db-3d3e-4d45-a205-b97ffc7c0773');\n",
              "          const dataTable =\n",
              "            await google.colab.kernel.invokeFunction('convertToInteractive',\n",
              "                                                     [key], {});\n",
              "          if (!dataTable) return;\n",
              "\n",
              "          const docLinkHtml = 'Like what you see? Visit the ' +\n",
              "            '<a target=\"_blank\" href=https://colab.research.google.com/notebooks/data_table.ipynb>data table notebook</a>'\n",
              "            + ' to learn more about interactive tables.';\n",
              "          element.innerHTML = '';\n",
              "          dataTable['output_type'] = 'display_data';\n",
              "          await google.colab.output.renderOutput(dataTable, element);\n",
              "          const docLink = document.createElement('div');\n",
              "          docLink.innerHTML = docLinkHtml;\n",
              "          element.appendChild(docLink);\n",
              "        }\n",
              "      </script>\n",
              "    </div>\n",
              "  </div>\n",
              "  "
            ]
          },
          "metadata": {},
          "execution_count": 294
        }
      ]
    }
  ]
}